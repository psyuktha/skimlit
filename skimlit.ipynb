{
  "cells": [
    {
      "cell_type": "markdown",
      "metadata": {
        "id": "view-in-github",
        "colab_type": "text"
      },
      "source": [
        "<a href=\"https://colab.research.google.com/github/psyuktha/skimlit/blob/main/skimlit.ipynb\" target=\"_parent\"><img src=\"https://colab.research.google.com/assets/colab-badge.svg\" alt=\"Open In Colab\"/></a>"
      ]
    },
    {
      "cell_type": "code",
      "execution_count": null,
      "metadata": {
        "colab": {
          "base_uri": "https://localhost:8080/"
        },
        "id": "mj3mYnQt2ssB",
        "outputId": "08a5f97c-0d2f-401b-9a01-08fd9a92eeb6"
      },
      "outputs": [
        {
          "name": "stdout",
          "output_type": "stream",
          "text": [
            "Cloning into 'pubmed-rct'...\n",
            "remote: Enumerating objects: 39, done.\u001b[K\n",
            "remote: Counting objects: 100% (14/14), done.\u001b[K\n",
            "remote: Compressing objects: 100% (9/9), done.\u001b[K\n",
            "remote: Total 39 (delta 8), reused 5 (delta 5), pack-reused 25\u001b[K\n",
            "Receiving objects: 100% (39/39), 177.08 MiB | 25.66 MiB/s, done.\n",
            "Resolving deltas: 100% (15/15), done.\n",
            "Updating files: 100% (13/13), done.\n",
            "PubMed_200k_RCT\t\t\t\t       PubMed_20k_RCT_numbers_replaced_with_at_sign\n",
            "PubMed_200k_RCT_numbers_replaced_with_at_sign  README.md\n",
            "PubMed_20k_RCT\n"
          ]
        }
      ],
      "source": [
        "!git clone https://github.com/Franck-Dernoncourt/pubmed-rct.git\n",
        "!ls pubmed-rct"
      ]
    },
    {
      "cell_type": "code",
      "execution_count": null,
      "metadata": {
        "id": "yQReyMudG2IQ"
      },
      "outputs": [],
      "source": [
        "# prompt: function to read lines of a document\n",
        "\n",
        "def get_lines(filename):\n",
        "  with open(filename, 'r') as f:\n",
        "    return f.readlines()\n"
      ]
    },
    {
      "cell_type": "code",
      "execution_count": null,
      "metadata": {
        "id": "0OJ2b9XY_g6P"
      },
      "outputs": [],
      "source": [
        "data_dir='content/pubmed-rct/PubMed_20k_RCT_numbers_replaced_with_at_sign/'"
      ]
    },
    {
      "cell_type": "code",
      "execution_count": null,
      "metadata": {
        "id": "XNqTjpBQ-0Fg"
      },
      "outputs": [],
      "source": [
        "train=get_lines('/content/pubmed-rct/PubMed_20k_RCT_numbers_replaced_with_at_sign/train.txt')"
      ]
    },
    {
      "cell_type": "code",
      "execution_count": null,
      "metadata": {
        "colab": {
          "base_uri": "https://localhost:8080/"
        },
        "id": "L-hYuRse_Pod",
        "outputId": "e36c3af1-9f66-460f-eccf-462514969853"
      },
      "outputs": [
        {
          "data": {
            "text/plain": [
              "['###24293578\\n',\n",
              " 'OBJECTIVE\\tTo investigate the efficacy of @ weeks of daily low-dose oral prednisolone in improving pain , mobility , and systemic low-grade inflammation in the short term and whether the effect would be sustained at @ weeks in older adults with moderate to severe knee osteoarthritis ( OA ) .\\n',\n",
              " 'METHODS\\tA total of @ patients with primary knee OA were randomized @:@ ; @ received @ mg/day of prednisolone and @ received placebo for @ weeks .\\n',\n",
              " 'METHODS\\tOutcome measures included pain reduction and improvement in function scores and systemic inflammation markers .\\n',\n",
              " 'METHODS\\tPain was assessed using the visual analog pain scale ( @-@ mm ) .\\n',\n",
              " 'METHODS\\tSecondary outcome measures included the Western Ontario and McMaster Universities Osteoarthritis Index scores , patient global assessment ( PGA ) of the severity of knee OA , and @-min walk distance ( @MWD ) .\\n',\n",
              " 'METHODS\\tSerum levels of interleukin @ ( IL-@ ) , IL-@ , tumor necrosis factor ( TNF ) - , and high-sensitivity C-reactive protein ( hsCRP ) were measured .\\n',\n",
              " 'RESULTS\\tThere was a clinically relevant reduction in the intervention group compared to the placebo group for knee pain , physical function , PGA , and @MWD at @ weeks .\\n',\n",
              " 'RESULTS\\tThe mean difference between treatment arms ( @ % CI ) was @ ( @-@ @ ) , p < @ ; @ ( @-@ @ ) , p < @ ; @ ( @-@ @ ) , p < @ ; and @ ( @-@ @ ) , p < @ , respectively .\\n',\n",
              " 'RESULTS\\tFurther , there was a clinically relevant reduction in the serum levels of IL-@ , IL-@ , TNF - , and hsCRP at @ weeks in the intervention group when compared to the placebo group .\\n',\n",
              " 'RESULTS\\tThese differences remained significant at @ weeks .\\n',\n",
              " 'RESULTS\\tThe Outcome Measures in Rheumatology Clinical Trials-Osteoarthritis Research Society International responder rate was @ % in the intervention group and @ % in the placebo group ( p < @ ) .\\n',\n",
              " 'CONCLUSIONS\\tLow-dose oral prednisolone had both a short-term and a longer sustained effect resulting in less knee pain , better physical function , and attenuation of systemic inflammation in older patients with knee OA ( ClinicalTrials.gov identifier NCT@ ) .\\n',\n",
              " '\\n',\n",
              " '###24854809\\n',\n",
              " 'BACKGROUND\\tEmotional eating is associated with overeating and the development of obesity .\\n',\n",
              " 'BACKGROUND\\tYet , empirical evidence for individual ( trait ) differences in emotional eating and cognitive mechanisms that contribute to eating during sad mood remain equivocal .\\n',\n",
              " 'OBJECTIVE\\tThe aim of this study was to test if attention bias for food moderates the effect of self-reported emotional eating during sad mood ( vs neutral mood ) on actual food intake .\\n',\n",
              " 'OBJECTIVE\\tIt was expected that emotional eating is predictive of elevated attention for food and higher food intake after an experimentally induced sad mood and that attentional maintenance on food predicts food intake during a sad versus a neutral mood .\\n',\n",
              " 'METHODS\\tParticipants ( N = @ ) were randomly assigned to one of the two experimental mood induction conditions ( sad/neutral ) .\\n']"
            ]
          },
          "execution_count": 5,
          "metadata": {},
          "output_type": "execute_result"
        }
      ],
      "source": [
        "train[:20]"
      ]
    },
    {
      "cell_type": "code",
      "execution_count": null,
      "metadata": {
        "colab": {
          "base_uri": "https://localhost:8080/"
        },
        "id": "eZTk4kHRBHpN",
        "outputId": "4b7fc619-dd24-4bf9-c885-b1d2090640db"
      },
      "outputs": [
        {
          "data": {
            "text/plain": [
              "210040"
            ]
          },
          "execution_count": 6,
          "metadata": {},
          "output_type": "execute_result"
        }
      ],
      "source": [
        "len(train)"
      ]
    },
    {
      "cell_type": "code",
      "execution_count": null,
      "metadata": {
        "id": "DoYAXyiKCHXb"
      },
      "outputs": [],
      "source": [
        "def preprocess(filename):\n",
        "  input=get_lines(filename)\n",
        "  abstract=''\n",
        "  abstract_samples=[]\n",
        "  for i in input:\n",
        "    if i.startswith(\"###\"):\n",
        "      astract_id=i\n",
        "      abstract=''\n",
        "    elif i.isspace():\n",
        "      abstract_line_split=abstract.splitlines()\n",
        "      for line_no,line in enumerate(abstract_line_split):\n",
        "        line_data={}\n",
        "        target=line.split(\"\\t\")\n",
        "        line_data['target']=target[0]\n",
        "        line_data['text']=target[1]\n",
        "        line_data['line_no']=line_no\n",
        "        line_data[\"total_lines\"]=len(abstract_line_split)-1\n",
        "        abstract_samples.append(line_data)\n",
        "    else:\n",
        "      abstract+=i\n",
        "\n",
        "  return abstract_samples\n",
        "\n",
        "\n",
        "\n"
      ]
    },
    {
      "cell_type": "code",
      "execution_count": null,
      "metadata": {
        "id": "TWZ2Zm39xwJW"
      },
      "outputs": [],
      "source": [
        "train_samples=preprocess('/content/pubmed-rct/PubMed_20k_RCT_numbers_replaced_with_at_sign/train.txt')"
      ]
    },
    {
      "cell_type": "code",
      "execution_count": null,
      "metadata": {
        "colab": {
          "base_uri": "https://localhost:8080/"
        },
        "id": "FiPCOSQ0yECA",
        "outputId": "23f73b1a-5e82-45af-d3a6-68fdff669323"
      },
      "outputs": [
        {
          "data": {
            "text/plain": [
              "[{'target': 'OBJECTIVE',\n",
              "  'text': 'To investigate the efficacy of @ weeks of daily low-dose oral prednisolone in improving pain , mobility , and systemic low-grade inflammation in the short term and whether the effect would be sustained at @ weeks in older adults with moderate to severe knee osteoarthritis ( OA ) .',\n",
              "  'line_no': 0,\n",
              "  'total_lines': 11},\n",
              " {'target': 'METHODS',\n",
              "  'text': 'A total of @ patients with primary knee OA were randomized @:@ ; @ received @ mg/day of prednisolone and @ received placebo for @ weeks .',\n",
              "  'line_no': 1,\n",
              "  'total_lines': 11},\n",
              " {'target': 'METHODS',\n",
              "  'text': 'Outcome measures included pain reduction and improvement in function scores and systemic inflammation markers .',\n",
              "  'line_no': 2,\n",
              "  'total_lines': 11},\n",
              " {'target': 'METHODS',\n",
              "  'text': 'Pain was assessed using the visual analog pain scale ( @-@ mm ) .',\n",
              "  'line_no': 3,\n",
              "  'total_lines': 11},\n",
              " {'target': 'METHODS',\n",
              "  'text': 'Secondary outcome measures included the Western Ontario and McMaster Universities Osteoarthritis Index scores , patient global assessment ( PGA ) of the severity of knee OA , and @-min walk distance ( @MWD ) .',\n",
              "  'line_no': 4,\n",
              "  'total_lines': 11}]"
            ]
          },
          "execution_count": 9,
          "metadata": {},
          "output_type": "execute_result"
        }
      ],
      "source": [
        "train_samples[:5]"
      ]
    },
    {
      "cell_type": "code",
      "execution_count": null,
      "metadata": {
        "id": "OyOyVP9Qyxf6"
      },
      "outputs": [],
      "source": [
        "val_samples=preprocess('/content/pubmed-rct/PubMed_20k_RCT_numbers_replaced_with_at_sign/dev.txt')"
      ]
    },
    {
      "cell_type": "code",
      "execution_count": null,
      "metadata": {
        "id": "vuKKQ5NP0fCh"
      },
      "outputs": [],
      "source": [
        "test_samples=preprocess('/content/pubmed-rct/PubMed_20k_RCT_numbers_replaced_with_at_sign/test.txt')"
      ]
    },
    {
      "cell_type": "code",
      "execution_count": null,
      "metadata": {
        "colab": {
          "base_uri": "https://localhost:8080/"
        },
        "id": "lrkVzTe40rQ2",
        "outputId": "691a9d7a-0321-471f-d953-dd6c3133533c"
      },
      "outputs": [
        {
          "data": {
            "text/plain": [
              "(180040, 30212, 30135)"
            ]
          },
          "execution_count": 12,
          "metadata": {},
          "output_type": "execute_result"
        }
      ],
      "source": [
        "len(train_samples),len(val_samples),len(test_samples)"
      ]
    },
    {
      "cell_type": "code",
      "execution_count": null,
      "metadata": {
        "id": "iuA1zCxS1QNa"
      },
      "outputs": [],
      "source": [
        "import pandas as pd\n",
        "train_df=pd.DataFrame(train_samples)\n",
        "val_df=pd.DataFrame(val_samples)\n",
        "test_df=pd.DataFrame(test_samples)\n"
      ]
    },
    {
      "cell_type": "code",
      "execution_count": null,
      "metadata": {
        "colab": {
          "base_uri": "https://localhost:8080/",
          "height": 721
        },
        "id": "yAoWPBsL3V19",
        "outputId": "ce567b32-a9de-47b8-be26-39f8b608d4c8"
      },
      "outputs": [
        {
          "data": {
            "application/vnd.google.colaboratory.intrinsic+json": {
              "type": "dataframe",
              "variable_name": "train_df"
            },
            "text/html": [
              "\n",
              "  <div id=\"df-bbf39dc1-0157-40cb-8f56-7813b16f852c\" class=\"colab-df-container\">\n",
              "    <div>\n",
              "<style scoped>\n",
              "    .dataframe tbody tr th:only-of-type {\n",
              "        vertical-align: middle;\n",
              "    }\n",
              "\n",
              "    .dataframe tbody tr th {\n",
              "        vertical-align: top;\n",
              "    }\n",
              "\n",
              "    .dataframe thead th {\n",
              "        text-align: right;\n",
              "    }\n",
              "</style>\n",
              "<table border=\"1\" class=\"dataframe\">\n",
              "  <thead>\n",
              "    <tr style=\"text-align: right;\">\n",
              "      <th></th>\n",
              "      <th>target</th>\n",
              "      <th>text</th>\n",
              "      <th>line_no</th>\n",
              "      <th>total_lines</th>\n",
              "    </tr>\n",
              "  </thead>\n",
              "  <tbody>\n",
              "    <tr>\n",
              "      <th>0</th>\n",
              "      <td>OBJECTIVE</td>\n",
              "      <td>To investigate the efficacy of @ weeks of dail...</td>\n",
              "      <td>0</td>\n",
              "      <td>11</td>\n",
              "    </tr>\n",
              "    <tr>\n",
              "      <th>1</th>\n",
              "      <td>METHODS</td>\n",
              "      <td>A total of @ patients with primary knee OA wer...</td>\n",
              "      <td>1</td>\n",
              "      <td>11</td>\n",
              "    </tr>\n",
              "    <tr>\n",
              "      <th>2</th>\n",
              "      <td>METHODS</td>\n",
              "      <td>Outcome measures included pain reduction and i...</td>\n",
              "      <td>2</td>\n",
              "      <td>11</td>\n",
              "    </tr>\n",
              "    <tr>\n",
              "      <th>3</th>\n",
              "      <td>METHODS</td>\n",
              "      <td>Pain was assessed using the visual analog pain...</td>\n",
              "      <td>3</td>\n",
              "      <td>11</td>\n",
              "    </tr>\n",
              "    <tr>\n",
              "      <th>4</th>\n",
              "      <td>METHODS</td>\n",
              "      <td>Secondary outcome measures included the Wester...</td>\n",
              "      <td>4</td>\n",
              "      <td>11</td>\n",
              "    </tr>\n",
              "    <tr>\n",
              "      <th>5</th>\n",
              "      <td>METHODS</td>\n",
              "      <td>Serum levels of interleukin @ ( IL-@ ) , IL-@ ...</td>\n",
              "      <td>5</td>\n",
              "      <td>11</td>\n",
              "    </tr>\n",
              "    <tr>\n",
              "      <th>6</th>\n",
              "      <td>RESULTS</td>\n",
              "      <td>There was a clinically relevant reduction in t...</td>\n",
              "      <td>6</td>\n",
              "      <td>11</td>\n",
              "    </tr>\n",
              "    <tr>\n",
              "      <th>7</th>\n",
              "      <td>RESULTS</td>\n",
              "      <td>The mean difference between treatment arms ( @...</td>\n",
              "      <td>7</td>\n",
              "      <td>11</td>\n",
              "    </tr>\n",
              "    <tr>\n",
              "      <th>8</th>\n",
              "      <td>RESULTS</td>\n",
              "      <td>Further , there was a clinically relevant redu...</td>\n",
              "      <td>8</td>\n",
              "      <td>11</td>\n",
              "    </tr>\n",
              "    <tr>\n",
              "      <th>9</th>\n",
              "      <td>RESULTS</td>\n",
              "      <td>These differences remained significant at @ we...</td>\n",
              "      <td>9</td>\n",
              "      <td>11</td>\n",
              "    </tr>\n",
              "    <tr>\n",
              "      <th>10</th>\n",
              "      <td>RESULTS</td>\n",
              "      <td>The Outcome Measures in Rheumatology Clinical ...</td>\n",
              "      <td>10</td>\n",
              "      <td>11</td>\n",
              "    </tr>\n",
              "    <tr>\n",
              "      <th>11</th>\n",
              "      <td>CONCLUSIONS</td>\n",
              "      <td>Low-dose oral prednisolone had both a short-te...</td>\n",
              "      <td>11</td>\n",
              "      <td>11</td>\n",
              "    </tr>\n",
              "    <tr>\n",
              "      <th>12</th>\n",
              "      <td>BACKGROUND</td>\n",
              "      <td>Emotional eating is associated with overeating...</td>\n",
              "      <td>0</td>\n",
              "      <td>10</td>\n",
              "    </tr>\n",
              "    <tr>\n",
              "      <th>13</th>\n",
              "      <td>BACKGROUND</td>\n",
              "      <td>Yet , empirical evidence for individual ( trai...</td>\n",
              "      <td>1</td>\n",
              "      <td>10</td>\n",
              "    </tr>\n",
              "  </tbody>\n",
              "</table>\n",
              "</div>\n",
              "    <div class=\"colab-df-buttons\">\n",
              "\n",
              "  <div class=\"colab-df-container\">\n",
              "    <button class=\"colab-df-convert\" onclick=\"convertToInteractive('df-bbf39dc1-0157-40cb-8f56-7813b16f852c')\"\n",
              "            title=\"Convert this dataframe to an interactive table.\"\n",
              "            style=\"display:none;\">\n",
              "\n",
              "  <svg xmlns=\"http://www.w3.org/2000/svg\" height=\"24px\" viewBox=\"0 -960 960 960\">\n",
              "    <path d=\"M120-120v-720h720v720H120Zm60-500h600v-160H180v160Zm220 220h160v-160H400v160Zm0 220h160v-160H400v160ZM180-400h160v-160H180v160Zm440 0h160v-160H620v160ZM180-180h160v-160H180v160Zm440 0h160v-160H620v160Z\"/>\n",
              "  </svg>\n",
              "    </button>\n",
              "\n",
              "  <style>\n",
              "    .colab-df-container {\n",
              "      display:flex;\n",
              "      gap: 12px;\n",
              "    }\n",
              "\n",
              "    .colab-df-convert {\n",
              "      background-color: #E8F0FE;\n",
              "      border: none;\n",
              "      border-radius: 50%;\n",
              "      cursor: pointer;\n",
              "      display: none;\n",
              "      fill: #1967D2;\n",
              "      height: 32px;\n",
              "      padding: 0 0 0 0;\n",
              "      width: 32px;\n",
              "    }\n",
              "\n",
              "    .colab-df-convert:hover {\n",
              "      background-color: #E2EBFA;\n",
              "      box-shadow: 0px 1px 2px rgba(60, 64, 67, 0.3), 0px 1px 3px 1px rgba(60, 64, 67, 0.15);\n",
              "      fill: #174EA6;\n",
              "    }\n",
              "\n",
              "    .colab-df-buttons div {\n",
              "      margin-bottom: 4px;\n",
              "    }\n",
              "\n",
              "    [theme=dark] .colab-df-convert {\n",
              "      background-color: #3B4455;\n",
              "      fill: #D2E3FC;\n",
              "    }\n",
              "\n",
              "    [theme=dark] .colab-df-convert:hover {\n",
              "      background-color: #434B5C;\n",
              "      box-shadow: 0px 1px 3px 1px rgba(0, 0, 0, 0.15);\n",
              "      filter: drop-shadow(0px 1px 2px rgba(0, 0, 0, 0.3));\n",
              "      fill: #FFFFFF;\n",
              "    }\n",
              "  </style>\n",
              "\n",
              "    <script>\n",
              "      const buttonEl =\n",
              "        document.querySelector('#df-bbf39dc1-0157-40cb-8f56-7813b16f852c button.colab-df-convert');\n",
              "      buttonEl.style.display =\n",
              "        google.colab.kernel.accessAllowed ? 'block' : 'none';\n",
              "\n",
              "      async function convertToInteractive(key) {\n",
              "        const element = document.querySelector('#df-bbf39dc1-0157-40cb-8f56-7813b16f852c');\n",
              "        const dataTable =\n",
              "          await google.colab.kernel.invokeFunction('convertToInteractive',\n",
              "                                                    [key], {});\n",
              "        if (!dataTable) return;\n",
              "\n",
              "        const docLinkHtml = 'Like what you see? Visit the ' +\n",
              "          '<a target=\"_blank\" href=https://colab.research.google.com/notebooks/data_table.ipynb>data table notebook</a>'\n",
              "          + ' to learn more about interactive tables.';\n",
              "        element.innerHTML = '';\n",
              "        dataTable['output_type'] = 'display_data';\n",
              "        await google.colab.output.renderOutput(dataTable, element);\n",
              "        const docLink = document.createElement('div');\n",
              "        docLink.innerHTML = docLinkHtml;\n",
              "        element.appendChild(docLink);\n",
              "      }\n",
              "    </script>\n",
              "  </div>\n",
              "\n",
              "\n",
              "<div id=\"df-ad7513fa-27a6-45e2-bcb8-aef62543eb28\">\n",
              "  <button class=\"colab-df-quickchart\" onclick=\"quickchart('df-ad7513fa-27a6-45e2-bcb8-aef62543eb28')\"\n",
              "            title=\"Suggest charts\"\n",
              "            style=\"display:none;\">\n",
              "\n",
              "<svg xmlns=\"http://www.w3.org/2000/svg\" height=\"24px\"viewBox=\"0 0 24 24\"\n",
              "     width=\"24px\">\n",
              "    <g>\n",
              "        <path d=\"M19 3H5c-1.1 0-2 .9-2 2v14c0 1.1.9 2 2 2h14c1.1 0 2-.9 2-2V5c0-1.1-.9-2-2-2zM9 17H7v-7h2v7zm4 0h-2V7h2v10zm4 0h-2v-4h2v4z\"/>\n",
              "    </g>\n",
              "</svg>\n",
              "  </button>\n",
              "\n",
              "<style>\n",
              "  .colab-df-quickchart {\n",
              "      --bg-color: #E8F0FE;\n",
              "      --fill-color: #1967D2;\n",
              "      --hover-bg-color: #E2EBFA;\n",
              "      --hover-fill-color: #174EA6;\n",
              "      --disabled-fill-color: #AAA;\n",
              "      --disabled-bg-color: #DDD;\n",
              "  }\n",
              "\n",
              "  [theme=dark] .colab-df-quickchart {\n",
              "      --bg-color: #3B4455;\n",
              "      --fill-color: #D2E3FC;\n",
              "      --hover-bg-color: #434B5C;\n",
              "      --hover-fill-color: #FFFFFF;\n",
              "      --disabled-bg-color: #3B4455;\n",
              "      --disabled-fill-color: #666;\n",
              "  }\n",
              "\n",
              "  .colab-df-quickchart {\n",
              "    background-color: var(--bg-color);\n",
              "    border: none;\n",
              "    border-radius: 50%;\n",
              "    cursor: pointer;\n",
              "    display: none;\n",
              "    fill: var(--fill-color);\n",
              "    height: 32px;\n",
              "    padding: 0;\n",
              "    width: 32px;\n",
              "  }\n",
              "\n",
              "  .colab-df-quickchart:hover {\n",
              "    background-color: var(--hover-bg-color);\n",
              "    box-shadow: 0 1px 2px rgba(60, 64, 67, 0.3), 0 1px 3px 1px rgba(60, 64, 67, 0.15);\n",
              "    fill: var(--button-hover-fill-color);\n",
              "  }\n",
              "\n",
              "  .colab-df-quickchart-complete:disabled,\n",
              "  .colab-df-quickchart-complete:disabled:hover {\n",
              "    background-color: var(--disabled-bg-color);\n",
              "    fill: var(--disabled-fill-color);\n",
              "    box-shadow: none;\n",
              "  }\n",
              "\n",
              "  .colab-df-spinner {\n",
              "    border: 2px solid var(--fill-color);\n",
              "    border-color: transparent;\n",
              "    border-bottom-color: var(--fill-color);\n",
              "    animation:\n",
              "      spin 1s steps(1) infinite;\n",
              "  }\n",
              "\n",
              "  @keyframes spin {\n",
              "    0% {\n",
              "      border-color: transparent;\n",
              "      border-bottom-color: var(--fill-color);\n",
              "      border-left-color: var(--fill-color);\n",
              "    }\n",
              "    20% {\n",
              "      border-color: transparent;\n",
              "      border-left-color: var(--fill-color);\n",
              "      border-top-color: var(--fill-color);\n",
              "    }\n",
              "    30% {\n",
              "      border-color: transparent;\n",
              "      border-left-color: var(--fill-color);\n",
              "      border-top-color: var(--fill-color);\n",
              "      border-right-color: var(--fill-color);\n",
              "    }\n",
              "    40% {\n",
              "      border-color: transparent;\n",
              "      border-right-color: var(--fill-color);\n",
              "      border-top-color: var(--fill-color);\n",
              "    }\n",
              "    60% {\n",
              "      border-color: transparent;\n",
              "      border-right-color: var(--fill-color);\n",
              "    }\n",
              "    80% {\n",
              "      border-color: transparent;\n",
              "      border-right-color: var(--fill-color);\n",
              "      border-bottom-color: var(--fill-color);\n",
              "    }\n",
              "    90% {\n",
              "      border-color: transparent;\n",
              "      border-bottom-color: var(--fill-color);\n",
              "    }\n",
              "  }\n",
              "</style>\n",
              "\n",
              "  <script>\n",
              "    async function quickchart(key) {\n",
              "      const quickchartButtonEl =\n",
              "        document.querySelector('#' + key + ' button');\n",
              "      quickchartButtonEl.disabled = true;  // To prevent multiple clicks.\n",
              "      quickchartButtonEl.classList.add('colab-df-spinner');\n",
              "      try {\n",
              "        const charts = await google.colab.kernel.invokeFunction(\n",
              "            'suggestCharts', [key], {});\n",
              "      } catch (error) {\n",
              "        console.error('Error during call to suggestCharts:', error);\n",
              "      }\n",
              "      quickchartButtonEl.classList.remove('colab-df-spinner');\n",
              "      quickchartButtonEl.classList.add('colab-df-quickchart-complete');\n",
              "    }\n",
              "    (() => {\n",
              "      let quickchartButtonEl =\n",
              "        document.querySelector('#df-ad7513fa-27a6-45e2-bcb8-aef62543eb28 button');\n",
              "      quickchartButtonEl.style.display =\n",
              "        google.colab.kernel.accessAllowed ? 'block' : 'none';\n",
              "    })();\n",
              "  </script>\n",
              "</div>\n",
              "\n",
              "    </div>\n",
              "  </div>\n"
            ],
            "text/plain": [
              "         target                                               text  line_no  \\\n",
              "0     OBJECTIVE  To investigate the efficacy of @ weeks of dail...        0   \n",
              "1       METHODS  A total of @ patients with primary knee OA wer...        1   \n",
              "2       METHODS  Outcome measures included pain reduction and i...        2   \n",
              "3       METHODS  Pain was assessed using the visual analog pain...        3   \n",
              "4       METHODS  Secondary outcome measures included the Wester...        4   \n",
              "5       METHODS  Serum levels of interleukin @ ( IL-@ ) , IL-@ ...        5   \n",
              "6       RESULTS  There was a clinically relevant reduction in t...        6   \n",
              "7       RESULTS  The mean difference between treatment arms ( @...        7   \n",
              "8       RESULTS  Further , there was a clinically relevant redu...        8   \n",
              "9       RESULTS  These differences remained significant at @ we...        9   \n",
              "10      RESULTS  The Outcome Measures in Rheumatology Clinical ...       10   \n",
              "11  CONCLUSIONS  Low-dose oral prednisolone had both a short-te...       11   \n",
              "12   BACKGROUND  Emotional eating is associated with overeating...        0   \n",
              "13   BACKGROUND  Yet , empirical evidence for individual ( trai...        1   \n",
              "\n",
              "    total_lines  \n",
              "0            11  \n",
              "1            11  \n",
              "2            11  \n",
              "3            11  \n",
              "4            11  \n",
              "5            11  \n",
              "6            11  \n",
              "7            11  \n",
              "8            11  \n",
              "9            11  \n",
              "10           11  \n",
              "11           11  \n",
              "12           10  \n",
              "13           10  "
            ]
          },
          "execution_count": 14,
          "metadata": {},
          "output_type": "execute_result"
        }
      ],
      "source": [
        "train_df.head(14)"
      ]
    },
    {
      "cell_type": "code",
      "execution_count": null,
      "metadata": {
        "colab": {
          "base_uri": "https://localhost:8080/"
        },
        "id": "RGtCTQEj3X-P",
        "outputId": "1409ceee-ac6a-4d0e-cfdc-14d358411ed9"
      },
      "outputs": [
        {
          "data": {
            "text/plain": [
              "target\n",
              "METHODS        59353\n",
              "RESULTS        57953\n",
              "CONCLUSIONS    27168\n",
              "BACKGROUND     21727\n",
              "OBJECTIVE      13839\n",
              "Name: count, dtype: int64"
            ]
          },
          "execution_count": 15,
          "metadata": {},
          "output_type": "execute_result"
        }
      ],
      "source": [
        "train_df['target'].value_counts()"
      ]
    },
    {
      "cell_type": "code",
      "execution_count": null,
      "metadata": {
        "colab": {
          "base_uri": "https://localhost:8080/",
          "height": 448
        },
        "id": "EZ8zIuRc4Tyx",
        "outputId": "34cd224f-e312-46aa-ea31-a8744bc53112"
      },
      "outputs": [
        {
          "data": {
            "text/plain": [
              "<Axes: ylabel='Frequency'>"
            ]
          },
          "execution_count": 16,
          "metadata": {},
          "output_type": "execute_result"
        },
        {
          "data": {
            "image/png": "[encoded data removed]",
            "text/plain": [
              "<Figure size 640x480 with 1 Axes>"
            ]
          },
          "metadata": {},
          "output_type": "display_data"
        }
      ],
      "source": [
        "train_df.total_lines.plot.hist()"
      ]
    },
    {
      "cell_type": "code",
      "execution_count": null,
      "metadata": {
        "id": "UKg3QIZX4d9T"
      },
      "outputs": [],
      "source": [
        "train_sentences=train_df['text'].tolist()\n",
        "val_sentences=val_df['text'].tolist()\n",
        "test_sentences=test_df['text'].tolist()\n"
      ]
    },
    {
      "cell_type": "code",
      "execution_count": null,
      "metadata": {
        "colab": {
          "base_uri": "https://localhost:8080/"
        },
        "id": "wv6tgFqsUBE2",
        "outputId": "9cd715ce-6067-4f87-b221-bd939a53d7a1"
      },
      "outputs": [
        {
          "data": {
            "text/plain": [
              "['To investigate the efficacy of @ weeks of daily low-dose oral prednisolone in improving pain , mobility , and systemic low-grade inflammation in the short term and whether the effect would be sustained at @ weeks in older adults with moderate to severe knee osteoarthritis ( OA ) .',\n",
              " 'A total of @ patients with primary knee OA were randomized @:@ ; @ received @ mg/day of prednisolone and @ received placebo for @ weeks .',\n",
              " 'Outcome measures included pain reduction and improvement in function scores and systemic inflammation markers .',\n",
              " 'Pain was assessed using the visual analog pain scale ( @-@ mm ) .',\n",
              " 'Secondary outcome measures included the Western Ontario and McMaster Universities Osteoarthritis Index scores , patient global assessment ( PGA ) of the severity of knee OA , and @-min walk distance ( @MWD ) .',\n",
              " 'Serum levels of interleukin @ ( IL-@ ) , IL-@ , tumor necrosis factor ( TNF ) - , and high-sensitivity C-reactive protein ( hsCRP ) were measured .',\n",
              " 'There was a clinically relevant reduction in the intervention group compared to the placebo group for knee pain , physical function , PGA , and @MWD at @ weeks .',\n",
              " 'The mean difference between treatment arms ( @ % CI ) was @ ( @-@ @ ) , p < @ ; @ ( @-@ @ ) , p < @ ; @ ( @-@ @ ) , p < @ ; and @ ( @-@ @ ) , p < @ , respectively .',\n",
              " 'Further , there was a clinically relevant reduction in the serum levels of IL-@ , IL-@ , TNF - , and hsCRP at @ weeks in the intervention group when compared to the placebo group .',\n",
              " 'These differences remained significant at @ weeks .']"
            ]
          },
          "execution_count": 18,
          "metadata": {},
          "output_type": "execute_result"
        }
      ],
      "source": [
        "train_sentences[:10]"
      ]
    },
    {
      "cell_type": "code",
      "execution_count": null,
      "metadata": {
        "id": "PQossjiJXGJS"
      },
      "outputs": [],
      "source": [
        "import tensorflow as tf"
      ]
    },
    {
      "cell_type": "code",
      "execution_count": null,
      "metadata": {
        "colab": {
          "base_uri": "https://localhost:8080/"
        },
        "id": "_8yI5d2XUEx5",
        "outputId": "c4797615-1371-417e-fd66-4d795cc9b683"
      },
      "outputs": [
        {
          "name": "stderr",
          "output_type": "stream",
          "text": [
            "/usr/local/lib/python3.10/dist-packages/sklearn/preprocessing/_encoders.py:868: FutureWarning: `sparse` was renamed to `sparse_output` in version 1.2 and will be removed in 1.4. `sparse_output` is ignored unless you leave `sparse` to its default value.\n",
            "  warnings.warn(\n",
            "/usr/local/lib/python3.10/dist-packages/sklearn/preprocessing/_encoders.py:868: FutureWarning: `sparse` was renamed to `sparse_output` in version 1.2 and will be removed in 1.4. `sparse_output` is ignored unless you leave `sparse` to its default value.\n",
            "  warnings.warn(\n",
            "/usr/local/lib/python3.10/dist-packages/sklearn/preprocessing/_encoders.py:868: FutureWarning: `sparse` was renamed to `sparse_output` in version 1.2 and will be removed in 1.4. `sparse_output` is ignored unless you leave `sparse` to its default value.\n",
            "  warnings.warn(\n"
          ]
        },
        {
          "data": {
            "text/plain": [
              "array([[0., 0., 0., 1., 0.],\n",
              "       [0., 0., 1., 0., 0.],\n",
              "       [0., 0., 1., 0., 0.],\n",
              "       [0., 0., 1., 0., 0.],\n",
              "       [0., 0., 1., 0., 0.],\n",
              "       [0., 0., 1., 0., 0.],\n",
              "       [0., 0., 0., 0., 1.],\n",
              "       [0., 0., 0., 0., 1.],\n",
              "       [0., 0., 0., 0., 1.],\n",
              "       [0., 0., 0., 0., 1.],\n",
              "       [0., 0., 0., 0., 1.],\n",
              "       [0., 1., 0., 0., 0.],\n",
              "       [1., 0., 0., 0., 0.],\n",
              "       [1., 0., 0., 0., 0.]])"
            ]
          },
          "execution_count": 20,
          "metadata": {},
          "output_type": "execute_result"
        }
      ],
      "source": [
        "from sklearn.preprocessing import OneHotEncoder, LabelEncoder\n",
        "one_hot=OneHotEncoder(sparse=False)\n",
        "train_label_hot=one_hot.fit_transform(tf.expand_dims(train_df['target'],axis=-1))\n",
        "val_label_hot=one_hot.fit_transform(tf.expand_dims(val_df['target'],axis=-1))\n",
        "test_label_hot=one_hot.fit_transform(tf.expand_dims(test_df['target'],axis=-1))\n",
        "\n",
        "train_label_hot[:14]"
      ]
    },
    {
      "cell_type": "code",
      "execution_count": null,
      "metadata": {
        "colab": {
          "base_uri": "https://localhost:8080/",
          "height": 190
        },
        "id": "J0nYQ7ymY_r6",
        "outputId": "b840f525-b703-418b-9d04-64cdae72c15d"
      },
      "outputs": [
        {
          "ename": "NameError",
          "evalue": "name 'train_df' is not defined",
          "output_type": "error",
          "traceback": [
            "\u001b[0;31m---------------------------------------------------------------------------\u001b[0m",
            "\u001b[0;31mNameError\u001b[0m                                 Traceback (most recent call last)",
            "\u001b[0;32m<ipython-input-24-85625583cf7f>\u001b[0m in \u001b[0;36m<cell line: 2>\u001b[0;34m()\u001b[0m\n\u001b[1;32m      1\u001b[0m \u001b[0mlabel_encoder\u001b[0m \u001b[0;34m=\u001b[0m \u001b[0mLabelEncoder\u001b[0m\u001b[0;34m(\u001b[0m\u001b[0;34m)\u001b[0m\u001b[0;34m\u001b[0m\u001b[0;34m\u001b[0m\u001b[0m\n\u001b[0;32m----> 2\u001b[0;31m \u001b[0mtrain_label_encoded\u001b[0m\u001b[0;34m=\u001b[0m\u001b[0mlabel_encoder\u001b[0m\u001b[0;34m.\u001b[0m\u001b[0mfit_transform\u001b[0m\u001b[0;34m(\u001b[0m\u001b[0mtrain_df\u001b[0m\u001b[0;34m[\u001b[0m\u001b[0;34m\"target\"\u001b[0m\u001b[0;34m]\u001b[0m\u001b[0;34m.\u001b[0m\u001b[0mto_numpy\u001b[0m\u001b[0;34m(\u001b[0m\u001b[0;34m)\u001b[0m\u001b[0;34m)\u001b[0m\u001b[0;34m\u001b[0m\u001b[0;34m\u001b[0m\u001b[0m\n\u001b[0m\u001b[1;32m      3\u001b[0m \u001b[0mval_label_encoded\u001b[0m\u001b[0;34m=\u001b[0m\u001b[0mlabel_encoder\u001b[0m\u001b[0;34m.\u001b[0m\u001b[0mfit_transform\u001b[0m\u001b[0;34m(\u001b[0m\u001b[0mval_df\u001b[0m\u001b[0;34m[\u001b[0m\u001b[0;34m\"target\"\u001b[0m\u001b[0;34m]\u001b[0m\u001b[0;34m.\u001b[0m\u001b[0mto_numpy\u001b[0m\u001b[0;34m(\u001b[0m\u001b[0;34m)\u001b[0m\u001b[0;34m)\u001b[0m\u001b[0;34m\u001b[0m\u001b[0;34m\u001b[0m\u001b[0m\n\u001b[1;32m      4\u001b[0m \u001b[0mtest_label_encoded\u001b[0m\u001b[0;34m=\u001b[0m\u001b[0mlabel_encoder\u001b[0m\u001b[0;34m.\u001b[0m\u001b[0mfit_transform\u001b[0m\u001b[0;34m(\u001b[0m\u001b[0mtest_df\u001b[0m\u001b[0;34m[\u001b[0m\u001b[0;34m\"target\"\u001b[0m\u001b[0;34m]\u001b[0m\u001b[0;34m.\u001b[0m\u001b[0mto_numpy\u001b[0m\u001b[0;34m(\u001b[0m\u001b[0;34m)\u001b[0m\u001b[0;34m)\u001b[0m\u001b[0;34m\u001b[0m\u001b[0;34m\u001b[0m\u001b[0m\n",
            "\u001b[0;31mNameError\u001b[0m: name 'train_df' is not defined"
          ]
        }
      ],
      "source": [
        "label_encoder = LabelEncoder()\n",
        "train_label_encoded=label_encoder.fit_transform(train_df[\"target\"].to_numpy())\n",
        "val_label_encoded=label_encoder.fit_transform(val_df[\"target\"].to_numpy())\n",
        "test_label_encoded=label_encoder.fit_transform(test_df[\"target\"].to_numpy())"
      ]
    },
    {
      "cell_type": "code",
      "execution_count": null,
      "metadata": {
        "colab": {
          "base_uri": "https://localhost:8080/"
        },
        "id": "UtZR2thadP-U",
        "outputId": "d1cf36dc-8e0d-4f19-aad3-56abc2f99ea9"
      },
      "outputs": [
        {
          "data": {
            "text/plain": [
              "array([3, 2, 2, 2, 2, 2, 4, 4, 4, 4, 4, 1, 0, 0])"
            ]
          },
          "execution_count": 22,
          "metadata": {},
          "output_type": "execute_result"
        }
      ],
      "source": [
        "train_label_encoded[:14]"
      ]
    },
    {
      "cell_type": "code",
      "execution_count": null,
      "metadata": {
        "colab": {
          "base_uri": "https://localhost:8080/",
          "height": 156
        },
        "id": "GFTM4mChdWyS",
        "outputId": "4784754c-5a27-4a11-cef7-9f6d7f36e062"
      },
      "outputs": [
        {
          "ename": "AttributeError",
          "evalue": "'LabelEncoder' object has no attribute 'classes_'",
          "output_type": "error",
          "traceback": [
            "\u001b[0;31m---------------------------------------------------------------------------\u001b[0m",
            "\u001b[0;31mAttributeError\u001b[0m                            Traceback (most recent call last)",
            "\u001b[0;32m<ipython-input-29-da4fe3a70541>\u001b[0m in \u001b[0;36m<cell line: 1>\u001b[0;34m()\u001b[0m\n\u001b[0;32m----> 1\u001b[0;31m \u001b[0mclass_names\u001b[0m\u001b[0;34m=\u001b[0m\u001b[0mlabel_encoder\u001b[0m\u001b[0;34m.\u001b[0m\u001b[0mclasses_\u001b[0m\u001b[0;34m\u001b[0m\u001b[0;34m\u001b[0m\u001b[0m\n\u001b[0m\u001b[1;32m      2\u001b[0m \u001b[0mnum_classes\u001b[0m\u001b[0;34m=\u001b[0m\u001b[0mlen\u001b[0m\u001b[0;34m(\u001b[0m\u001b[0mclass_names\u001b[0m\u001b[0;34m)\u001b[0m\u001b[0;34m\u001b[0m\u001b[0;34m\u001b[0m\u001b[0m\n",
            "\u001b[0;31mAttributeError\u001b[0m: 'LabelEncoder' object has no attribute 'classes_'"
          ]
        }
      ],
      "source": [
        "class_names=label_encoder.classes_\n",
        "num_classes=len(class_names)"
      ]
    },
    {
      "cell_type": "code",
      "execution_count": null,
      "metadata": {
        "colab": {
          "base_uri": "https://localhost:8080/"
        },
        "id": "jD4WfCdMjLc5",
        "outputId": "359fb75b-6e9a-4bc9-ce29-36c1f8ce3d9f"
      },
      "outputs": [
        {
          "data": {
            "text/plain": [
              "(5,\n",
              " array(['BACKGROUND', 'CONCLUSIONS', 'METHODS', 'OBJECTIVE', 'RESULTS'],\n",
              "       dtype=object))"
            ]
          },
          "execution_count": 24,
          "metadata": {},
          "output_type": "execute_result"
        }
      ],
      "source": [
        "num_classes,class_names"
      ]
    },
    {
      "cell_type": "code",
      "execution_count": null,
      "metadata": {
        "colab": {
          "base_uri": "https://localhost:8080/",
          "height": 124
        },
        "id": "G4YWIoA4jQbb",
        "outputId": "3729ee2a-2cb8-4527-c5d0-32ebd7218f88"
      },
      "outputs": [
        {
          "data": {
            "text/html": [
              "<style>#sk-container-id-1 {color: black;background-color: white;}#sk-container-id-1 pre{padding: 0;}#sk-container-id-1 div.sk-toggleable {background-color: white;}#sk-container-id-1 label.sk-toggleable__label {cursor: pointer;display: block;width: 100%;margin-bottom: 0;padding: 0.3em;box-sizing: border-box;text-align: center;}#sk-container-id-1 label.sk-toggleable__label-arrow:before {content: \"▸\";float: left;margin-right: 0.25em;color: #696969;}#sk-container-id-1 label.sk-toggleable__label-arrow:hover:before {color: black;}#sk-container-id-1 div.sk-estimator:hover label.sk-toggleable__label-arrow:before {color: black;}#sk-container-id-1 div.sk-toggleable__content {max-height: 0;max-width: 0;overflow: hidden;text-align: left;background-color: #f0f8ff;}#sk-container-id-1 div.sk-toggleable__content pre {margin: 0.2em;color: black;border-radius: 0.25em;background-color: #f0f8ff;}#sk-container-id-1 input.sk-toggleable__control:checked~div.sk-toggleable__content {max-height: 200px;max-width: 100%;overflow: auto;}#sk-container-id-1 input.sk-toggleable__control:checked~label.sk-toggleable__label-arrow:before {content: \"▾\";}#sk-container-id-1 div.sk-estimator input.sk-toggleable__control:checked~label.sk-toggleable__label {background-color: #d4ebff;}#sk-container-id-1 div.sk-label input.sk-toggleable__control:checked~label.sk-toggleable__label {background-color: #d4ebff;}#sk-container-id-1 input.sk-hidden--visually {border: 0;clip: rect(1px 1px 1px 1px);clip: rect(1px, 1px, 1px, 1px);height: 1px;margin: -1px;overflow: hidden;padding: 0;position: absolute;width: 1px;}#sk-container-id-1 div.sk-estimator {font-family: monospace;background-color: #f0f8ff;border: 1px dotted black;border-radius: 0.25em;box-sizing: border-box;margin-bottom: 0.5em;}#sk-container-id-1 div.sk-estimator:hover {background-color: #d4ebff;}#sk-container-id-1 div.sk-parallel-item::after {content: \"\";width: 100%;border-bottom: 1px solid gray;flex-grow: 1;}#sk-container-id-1 div.sk-label:hover label.sk-toggleable__label {background-color: #d4ebff;}#sk-container-id-1 div.sk-serial::before {content: \"\";position: absolute;border-left: 1px solid gray;box-sizing: border-box;top: 0;bottom: 0;left: 50%;z-index: 0;}#sk-container-id-1 div.sk-serial {display: flex;flex-direction: column;align-items: center;background-color: white;padding-right: 0.2em;padding-left: 0.2em;position: relative;}#sk-container-id-1 div.sk-item {position: relative;z-index: 1;}#sk-container-id-1 div.sk-parallel {display: flex;align-items: stretch;justify-content: center;background-color: white;position: relative;}#sk-container-id-1 div.sk-item::before, #sk-container-id-1 div.sk-parallel-item::before {content: \"\";position: absolute;border-left: 1px solid gray;box-sizing: border-box;top: 0;bottom: 0;left: 50%;z-index: -1;}#sk-container-id-1 div.sk-parallel-item {display: flex;flex-direction: column;z-index: 1;position: relative;background-color: white;}#sk-container-id-1 div.sk-parallel-item:first-child::after {align-self: flex-end;width: 50%;}#sk-container-id-1 div.sk-parallel-item:last-child::after {align-self: flex-start;width: 50%;}#sk-container-id-1 div.sk-parallel-item:only-child::after {width: 0;}#sk-container-id-1 div.sk-dashed-wrapped {border: 1px dashed gray;margin: 0 0.4em 0.5em 0.4em;box-sizing: border-box;padding-bottom: 0.4em;background-color: white;}#sk-container-id-1 div.sk-label label {font-family: monospace;font-weight: bold;display: inline-block;line-height: 1.2em;}#sk-container-id-1 div.sk-label-container {text-align: center;}#sk-container-id-1 div.sk-container {/* jupyter's `normalize.less` sets `[hidden] { display: none; }` but bootstrap.min.css set `[hidden] { display: none !important; }` so we also need the `!important` here to be able to override the default hidden behavior on the sphinx rendered scikit-learn.org. See: https://github.com/scikit-learn/scikit-learn/issues/21755 */display: inline-block !important;position: relative;}#sk-container-id-1 div.sk-text-repr-fallback {display: none;}</style><div id=\"sk-container-id-1\" class=\"sk-top-container\"><div class=\"sk-text-repr-fallback\"><pre>Pipeline(steps=[(&#x27;tfidf&#x27;, TfidfVectorizer()), (&#x27;clf&#x27;, MultinomialNB())])</pre><b>In a Jupyter environment, please rerun this cell to show the HTML representation or trust the notebook. <br />On GitHub, the HTML representation is unable to render, please try loading this page with nbviewer.org.</b></div><div class=\"sk-container\" hidden><div class=\"sk-item sk-dashed-wrapped\"><div class=\"sk-label-container\"><div class=\"sk-label sk-toggleable\"><input class=\"sk-toggleable__control sk-hidden--visually\" id=\"sk-estimator-id-1\" type=\"checkbox\" ><label for=\"sk-estimator-id-1\" class=\"sk-toggleable__label sk-toggleable__label-arrow\">Pipeline</label><div class=\"sk-toggleable__content\"><pre>Pipeline(steps=[(&#x27;tfidf&#x27;, TfidfVectorizer()), (&#x27;clf&#x27;, MultinomialNB())])</pre></div></div></div><div class=\"sk-serial\"><div class=\"sk-item\"><div class=\"sk-estimator sk-toggleable\"><input class=\"sk-toggleable__control sk-hidden--visually\" id=\"sk-estimator-id-2\" type=\"checkbox\" ><label for=\"sk-estimator-id-2\" class=\"sk-toggleable__label sk-toggleable__label-arrow\">TfidfVectorizer</label><div class=\"sk-toggleable__content\"><pre>TfidfVectorizer()</pre></div></div></div><div class=\"sk-item\"><div class=\"sk-estimator sk-toggleable\"><input class=\"sk-toggleable__control sk-hidden--visually\" id=\"sk-estimator-id-3\" type=\"checkbox\" ><label for=\"sk-estimator-id-3\" class=\"sk-toggleable__label sk-toggleable__label-arrow\">MultinomialNB</label><div class=\"sk-toggleable__content\"><pre>MultinomialNB()</pre></div></div></div></div></div></div></div>"
            ],
            "text/plain": [
              "Pipeline(steps=[('tfidf', TfidfVectorizer()), ('clf', MultinomialNB())])"
            ]
          },
          "execution_count": 25,
          "metadata": {},
          "output_type": "execute_result"
        }
      ],
      "source": [
        "from sklearn.feature_extraction.text import TfidfVectorizer\n",
        "from sklearn.naive_bayes import MultinomialNB\n",
        "from sklearn.pipeline import Pipeline\n",
        "\n",
        "model_0 = Pipeline([\n",
        "    ('tfidf', TfidfVectorizer()),#words to numbers using tfidf\n",
        "    (\"clf\", MultinomialNB())#model to text\n",
        "])\n",
        "\n",
        "model_0.fit(train_sentences,train_label_encoded)"
      ]
    },
    {
      "cell_type": "code",
      "execution_count": null,
      "metadata": {
        "colab": {
          "base_uri": "https://localhost:8080/"
        },
        "id": "VpZda7nFlAhE",
        "outputId": "0263fe66-1a4d-4eed-8ab1-a0bd019c6015"
      },
      "outputs": [
        {
          "data": {
            "text/plain": [
              "72.1832384482987"
            ]
          },
          "execution_count": 26,
          "metadata": {},
          "output_type": "execute_result"
        }
      ],
      "source": [
        "baseline=model_0.score(val_sentences,val_label_encoded)\n",
        "baseline*100"
      ]
    },
    {
      "cell_type": "code",
      "execution_count": null,
      "metadata": {
        "colab": {
          "base_uri": "https://localhost:8080/"
        },
        "id": "t1BEl7y2lN1B",
        "outputId": "f2039bde-aa32-4072-f0d7-8664c6508daf"
      },
      "outputs": [
        {
          "name": "stdout",
          "output_type": "stream",
          "text": [
            "--2024-04-16 04:07:46--  https://raw.githubusercontent.com/mrdbourke/tensorflow-deep-learning/main/extras/helper_functions.py\n",
            "Resolving raw.githubusercontent.com (raw.githubusercontent.com)... 185.199.109.133, 185.199.111.133, 185.199.110.133, ...\n",
            "Connecting to raw.githubusercontent.com (raw.githubusercontent.com)|185.199.109.133|:443... connected.\n",
            "HTTP request sent, awaiting response... 200 OK\n",
            "Length: 10246 (10K) [text/plain]\n",
            "Saving to: ‘helper_functions.py’\n",
            "\n",
            "helper_functions.py 100%[===================>]  10.01K  --.-KB/s    in 0.001s  \n",
            "\n",
            "2024-04-16 04:07:47 (18.4 MB/s) - ‘helper_functions.py’ saved [10246/10246]\n",
            "\n"
          ]
        }
      ],
      "source": [
        "!wget https://raw.githubusercontent.com/mrdbourke/tensorflow-deep-learning/main/extras/helper_functions.py"
      ]
    },
    {
      "cell_type": "code",
      "execution_count": null,
      "metadata": {
        "id": "VXqFTxSinjgN"
      },
      "outputs": [],
      "source": [
        "from helper_functions import unzip_data,create_tensorboard_callback, plot_loss_curves, compare_historys,calculate_results"
      ]
    },
    {
      "cell_type": "code",
      "execution_count": null,
      "metadata": {
        "id": "Pz2QbKkXnvKi"
      },
      "outputs": [],
      "source": [
        "import numpy as np\n",
        "from tensorflow.keras import layers\n"
      ]
    },
    {
      "cell_type": "code",
      "execution_count": null,
      "metadata": {
        "colab": {
          "base_uri": "https://localhost:8080/"
        },
        "id": "fGzLwV5Lphtr",
        "outputId": "04499cce-9585-40e8-d91e-c1c52b8e1f9d"
      },
      "outputs": [
        {
          "data": {
            "text/plain": [
              "26.338269273494777"
            ]
          },
          "execution_count": 30,
          "metadata": {},
          "output_type": "execute_result"
        }
      ],
      "source": [
        "s=[len(sentence.split()) for sentence in train_sentences]\n",
        "avg_s=np.mean(s)\n",
        "avg_s\n"
      ]
    },
    {
      "cell_type": "code",
      "execution_count": null,
      "metadata": {
        "colab": {
          "base_uri": "https://localhost:8080/"
        },
        "id": "OGFb9qpsrIrs",
        "outputId": "267c5883-b2b9-4f83-91f1-d145aeeb0fd7"
      },
      "outputs": [
        {
          "name": "stdout",
          "output_type": "stream",
          "text": [
            "180040\n"
          ]
        }
      ],
      "source": [
        "print(len(train_sentences))"
      ]
    },
    {
      "cell_type": "code",
      "execution_count": null,
      "metadata": {
        "colab": {
          "base_uri": "https://localhost:8080/",
          "height": 447
        },
        "id": "3sbw_41rqFNj",
        "outputId": "cbc87c14-5435-4e2d-c67e-8d558f1b7163"
      },
      "outputs": [
        {
          "data": {
            "text/plain": [
              "55"
            ]
          },
          "execution_count": 32,
          "metadata": {},
          "output_type": "execute_result"
        },
        {
          "data": {
            "image/png": "[encoded data removed]",
            "text/plain": [
              "<Figure size 640x480 with 1 Axes>"
            ]
          },
          "metadata": {},
          "output_type": "display_data"
        }
      ],
      "source": [
        "import matplotlib.pyplot as plt\n",
        "plt.hist(s,bins=20)\n",
        "op_len = int(np.percentile(s,95))\n",
        "op_len"
      ]
    },
    {
      "cell_type": "code",
      "execution_count": null,
      "metadata": {
        "id": "pwtkCtc4qyU1"
      },
      "outputs": [],
      "source": [
        "max_tokens=68000 # taken from table 2 of the paper"
      ]
    },
    {
      "cell_type": "code",
      "execution_count": null,
      "metadata": {
        "id": "EGy7HNcH4XaA"
      },
      "outputs": [],
      "source": [
        "from tensorflow.keras.layers.experimental.preprocessing import TextVectorization"
      ]
    },
    {
      "cell_type": "code",
      "execution_count": null,
      "metadata": {
        "id": "tiTH9knr4jo9"
      },
      "outputs": [],
      "source": [
        "text_vectorizer = TextVectorization( max_tokens = max_tokens, output_sequence_length=op_len)"
      ]
    },
    {
      "cell_type": "code",
      "execution_count": null,
      "metadata": {
        "id": "lKoDvkgn5wQE"
      },
      "outputs": [],
      "source": [
        "text_vectorizer.adapt(train_sentences)"
      ]
    },
    {
      "cell_type": "code",
      "execution_count": null,
      "metadata": {
        "colab": {
          "base_uri": "https://localhost:8080/"
        },
        "id": "sc3rgJh958Vb",
        "outputId": "aeee4de8-2d77-4671-c80f-b18b0dc7d343"
      },
      "outputs": [
        {
          "name": "stdout",
          "output_type": "stream",
          "text": [
            "Text The additional survival benefit of ipilimumab plus dacarbazine is maintained with twice as many patients alive at @ years compared with those who initially received placebo plus dacarbazine .\n",
            "length 191\n",
            "Vectorized text [   2  365  201  398    4 3852  231 8112   20  863    7  555   25  861\n",
            "   12 4841   15   64   34    7  125   67 1868   80   48  231 8112    0\n",
            "    0    0    0    0    0    0    0    0    0    0    0    0    0    0\n",
            "    0    0    0    0    0    0    0    0    0    0    0    0    0] \n"
          ]
        }
      ],
      "source": [
        "import random\n",
        "x=random.choice(train_sentences)\n",
        "print(f\"Text {x}\")\n",
        "print(f\"length {len(x)}\")\n",
        "x2=text_vectorizer(x)\n",
        "print(f\"Vectorized text {x2} \")"
      ]
    },
    {
      "cell_type": "code",
      "execution_count": null,
      "metadata": {
        "colab": {
          "base_uri": "https://localhost:8080/"
        },
        "id": "y_3MjQnU6q7Z",
        "outputId": "494a4de8-4fa9-41d6-883b-cdc8b42ade5d"
      },
      "outputs": [
        {
          "name": "stdout",
          "output_type": "stream",
          "text": [
            "no of words 64841\n",
            "common words ['', '[UNK]', 'the', 'and', 'of']\n",
            "least common words ['aainduced', 'aaigroup', 'aachener', 'aachen', 'aaacp']\n"
          ]
        }
      ],
      "source": [
        "vocab_20 = text_vectorizer.get_vocabulary()\n",
        "print(f\"no of words {len(vocab_20)}\")\n",
        "print(f\"common words {vocab_20[:5]}\")\n",
        "print(f\"least common words {vocab_20[-5:]}\")\n"
      ]
    },
    {
      "cell_type": "code",
      "execution_count": null,
      "metadata": {
        "colab": {
          "base_uri": "https://localhost:8080/"
        },
        "id": "R1xQSoeZ73MT",
        "outputId": "7937dc3e-6f42-4c6e-e634-41c255f4c048"
      },
      "outputs": [
        {
          "data": {
            "text/plain": [
              "{'name': 'text_vectorization',\n",
              " 'trainable': True,\n",
              " 'dtype': 'string',\n",
              " 'batch_input_shape': (None,),\n",
              " 'max_tokens': 68000,\n",
              " 'standardize': 'lower_and_strip_punctuation',\n",
              " 'split': 'whitespace',\n",
              " 'ngrams': None,\n",
              " 'output_mode': 'int',\n",
              " 'output_sequence_length': 55,\n",
              " 'pad_to_max_tokens': False,\n",
              " 'sparse': False,\n",
              " 'ragged': False,\n",
              " 'vocabulary': None,\n",
              " 'idf_weights': None,\n",
              " 'encoding': 'utf-8',\n",
              " 'vocabulary_size': 64841}"
            ]
          },
          "execution_count": 39,
          "metadata": {},
          "output_type": "execute_result"
        }
      ],
      "source": [
        "text_vectorizer.get_config()"
      ]
    },
    {
      "cell_type": "code",
      "execution_count": null,
      "metadata": {
        "id": "TV7abAwM8qAG"
      },
      "outputs": [],
      "source": [
        "token_embed = layers.Embedding(input_dim=len(vocab_20),\n",
        "                                             output_dim=128,\n",
        "                                             mask_zero= True,\n",
        "                                             name='token_embedding')"
      ]
    },
    {
      "cell_type": "code",
      "execution_count": null,
      "metadata": {
        "colab": {
          "base_uri": "https://localhost:8080/"
        },
        "id": "ru5vyAhZ960T",
        "outputId": "722435e0-d034-4650-9e01-a1a882c5c3b9"
      },
      "outputs": [
        {
          "name": "stdout",
          "output_type": "stream",
          "text": [
            "after embedding [[ 0.03376187  0.02137187  0.04863746 ...  0.04205697  0.03038296\n",
            "  -0.01902028]\n",
            " [-0.00297351 -0.0190982   0.0260162  ... -0.00139347 -0.02523761\n",
            "   0.04611026]\n",
            " [-0.00632755  0.00062639 -0.04568115 ...  0.02463648  0.03980429\n",
            "  -0.04821905]\n",
            " ...\n",
            " [-0.04159246  0.01807454 -0.03220004 ... -0.02005023 -0.04575603\n",
            "   0.0231619 ]\n",
            " [-0.04159246  0.01807454 -0.03220004 ... -0.02005023 -0.04575603\n",
            "   0.0231619 ]\n",
            " [-0.04159246  0.01807454 -0.03220004 ... -0.02005023 -0.04575603\n",
            "   0.0231619 ]]\n"
          ]
        }
      ],
      "source": [
        "x3=token_embed(x2)\n",
        "print(f\"after embedding {x3}\")"
      ]
    },
    {
      "cell_type": "markdown",
      "metadata": {
        "id": "Ng5tVo3o-Yy3"
      },
      "source": [
        "turn our data to tensorflow datasets"
      ]
    },
    {
      "cell_type": "code",
      "execution_count": null,
      "metadata": {
        "id": "kcCDKtajQb-5"
      },
      "outputs": [],
      "source": [
        "train_dataset = tf.data.Dataset.from_tensor_slices((train_sentences,train_label_hot))\n",
        "valid_dataset = tf.data.Dataset.from_tensor_slices((val_sentences,val_label_hot))\n",
        "test_dataset = tf.data.Dataset.from_tensor_slices((test_sentences,test_label_hot))"
      ]
    },
    {
      "cell_type": "code",
      "execution_count": null,
      "metadata": {
        "colab": {
          "base_uri": "https://localhost:8080/"
        },
        "id": "nwQ6uM3JRbVP",
        "outputId": "8da2bd23-5c4f-4fc7-abbb-62139977819d"
      },
      "outputs": [
        {
          "data": {
            "text/plain": [
              "<_TensorSliceDataset element_spec=(TensorSpec(shape=(), dtype=tf.string, name=None), TensorSpec(shape=(5,), dtype=tf.float64, name=None))>"
            ]
          },
          "execution_count": 43,
          "metadata": {},
          "output_type": "execute_result"
        }
      ],
      "source": [
        "train_dataset"
      ]
    },
    {
      "cell_type": "code",
      "execution_count": null,
      "metadata": {
        "id": "-obyS3bARvnM"
      },
      "outputs": [],
      "source": [
        "train_dataset = train_dataset.batch(32).prefetch(tf.data.AUTOTUNE)\n",
        "valid_dataset = valid_dataset.batch(32).prefetch(tf.data.AUTOTUNE)\n",
        "test_dataset = test_dataset.batch(32).prefetch(tf.data.AUTOTUNE)\n"
      ]
    },
    {
      "cell_type": "code",
      "execution_count": null,
      "metadata": {
        "colab": {
          "base_uri": "https://localhost:8080/"
        },
        "id": "oaWzs0CDWOQP",
        "outputId": "9cdd212f-9ade-4bf9-ba95-062eba5c288a"
      },
      "outputs": [
        {
          "data": {
            "text/plain": [
              "<_PrefetchDataset element_spec=(TensorSpec(shape=(None,), dtype=tf.string, name=None), TensorSpec(shape=(None, 5), dtype=tf.float64, name=None))>"
            ]
          },
          "execution_count": 45,
          "metadata": {},
          "output_type": "execute_result"
        }
      ],
      "source": [
        "train_dataset"
      ]
    },
    {
      "cell_type": "code",
      "execution_count": null,
      "metadata": {
        "colab": {
          "base_uri": "https://localhost:8080/"
        },
        "id": "ITF7pHZPGT9A",
        "outputId": "260a3c89-bb3f-4824-e7eb-545944abe5dd"
      },
      "outputs": [
        {
          "data": {
            "text/plain": [
              "<_PrefetchDataset element_spec=(TensorSpec(shape=(None,), dtype=tf.string, name=None), TensorSpec(shape=(None, 5), dtype=tf.float64, name=None))>"
            ]
          },
          "execution_count": 46,
          "metadata": {},
          "output_type": "execute_result"
        }
      ],
      "source": [
        "valid_dataset"
      ]
    },
    {
      "cell_type": "code",
      "execution_count": null,
      "metadata": {
        "id": "vg1QE_KpWoFD"
      },
      "outputs": [],
      "source": [
        "inputs=layers.Input(shape=(1,), dtype=tf.string)\n",
        "text_vectors = text_vectorizer(inputs)\n",
        "token_embeddings = token_embed(text_vectors)\n",
        "x= layers.Conv1D(64, kernel_size = 5, padding='same', activation='relu')(token_embeddings)\n",
        "x=layers.Flatten()(x)\n",
        "#x= layers.GlobalAveragePooling1D()(x)\n",
        "outputs = layers.Dense(num_classes, activation='softmax')(x)\n",
        "model_1= tf.keras.Model(inputs,outputs)"
      ]
    },
    {
      "cell_type": "code",
      "execution_count": null,
      "metadata": {
        "id": "Rh3LEwNGYkOr"
      },
      "outputs": [],
      "source": [
        "model_1.compile(loss='categorical_crossentropy',\n",
        "metrics=[\"accuracy\"],\n",
        "                optimizer=tf.keras.optimizers.Adam()\n",
        "                )"
      ]
    },
    {
      "cell_type": "code",
      "execution_count": null,
      "metadata": {
        "colab": {
          "base_uri": "https://localhost:8080/"
        },
        "id": "XtLrxyD0Y_x7",
        "outputId": "f90d7db3-7442-4736-e43c-7600aa23d9bd"
      },
      "outputs": [
        {
          "name": "stdout",
          "output_type": "stream",
          "text": [
            "Model: \"model\"\n",
            "_________________________________________________________________\n",
            " Layer (type)                Output Shape              Param #   \n",
            "=================================================================\n",
            " input_1 (InputLayer)        [(None, 1)]               0         \n",
            "                                                                 \n",
            " text_vectorization (TextVe  (None, 55)                0         \n",
            " ctorization)                                                    \n",
            "                                                                 \n",
            " token_embedding (Embedding  (None, 55, 128)           8299648   \n",
            " )                                                               \n",
            "                                                                 \n",
            " conv1d (Conv1D)             (None, 55, 64)            41024     \n",
            "                                                                 \n",
            " flatten (Flatten)           (None, 3520)              0         \n",
            "                                                                 \n",
            " dense (Dense)               (None, 5)                 17605     \n",
            "                                                                 \n",
            "=================================================================\n",
            "Total params: 8358277 (31.88 MB)\n",
            "Trainable params: 8358277 (31.88 MB)\n",
            "Non-trainable params: 0 (0.00 Byte)\n",
            "_________________________________________________________________\n"
          ]
        }
      ],
      "source": [
        "model_1.summary()"
      ]
    },
    {
      "cell_type": "code",
      "execution_count": null,
      "metadata": {
        "colab": {
          "base_uri": "https://localhost:8080/"
        },
        "id": "YSluKNoEZEMv",
        "outputId": "73444ff7-d6d2-4e13-86ec-e59d5f08a190"
      },
      "outputs": [
        {
          "name": "stdout",
          "output_type": "stream",
          "text": [
            "Epoch 1/3\n",
            "562/562 [==============================] - 91s 159ms/step - loss: 0.8215 - accuracy: 0.6726 - val_loss: 0.5914 - val_accuracy: 0.7879\n",
            "Epoch 2/3\n",
            "562/562 [==============================] - 70s 124ms/step - loss: 0.5861 - accuracy: 0.7863 - val_loss: 0.5698 - val_accuracy: 0.7889\n",
            "Epoch 3/3\n",
            "562/562 [==============================] - 71s 127ms/step - loss: 0.5549 - accuracy: 0.7949 - val_loss: 0.5281 - val_accuracy: 0.8045\n"
          ]
        }
      ],
      "source": [
        "history_1=model_1.fit(train_dataset,\n",
        "                      steps_per_epoch=int(0.1*len(train_dataset)),\n",
        "                                              epochs=3,\n",
        "                      validation_data=valid_dataset,\n",
        "                      validation_steps = int(0.1*len(valid_dataset))\n",
        "                                              )"
      ]
    },
    {
      "cell_type": "code",
      "execution_count": null,
      "metadata": {
        "colab": {
          "base_uri": "https://localhost:8080/"
        },
        "id": "E9f6H54FLxIn",
        "outputId": "6691dce7-85a1-4fd2-c6e5-f88375078db2"
      },
      "outputs": [
        {
          "name": "stdout",
          "output_type": "stream",
          "text": [
            "945/945 [==============================] - 11s 12ms/step - loss: 0.5315 - accuracy: 0.8054\n"
          ]
        },
        {
          "data": {
            "text/plain": [
              "[0.5315327048301697, 0.8054084181785583]"
            ]
          },
          "execution_count": 51,
          "metadata": {},
          "output_type": "execute_result"
        }
      ],
      "source": [
        "model_1.evaluate(valid_dataset)"
      ]
    },
    {
      "cell_type": "code",
      "execution_count": null,
      "metadata": {
        "colab": {
          "base_uri": "https://localhost:8080/"
        },
        "id": "mLkKwQFjIMLo",
        "outputId": "1ef9840c-65bf-430f-f6c9-7907bad3374c"
      },
      "outputs": [
        {
          "name": "stdout",
          "output_type": "stream",
          "text": [
            "945/945 [==============================] - 6s 6ms/step\n"
          ]
        },
        {
          "data": {
            "text/plain": [
              "array([[4.2938629e-01, 3.0628854e-01, 4.7755972e-02, 2.0095919e-01,\n",
              "        1.5610041e-02],\n",
              "       [1.3431832e-01, 7.4002171e-01, 1.3058728e-02, 1.0028249e-01,\n",
              "        1.2318713e-02],\n",
              "       [1.3703522e-01, 3.4897088e-03, 1.5736027e-03, 8.5743862e-01,\n",
              "        4.6290623e-04],\n",
              "       ...,\n",
              "       [1.7406128e-05, 4.1636237e-04, 3.1119424e-03, 4.6299160e-06,\n",
              "        9.9644959e-01],\n",
              "       [3.4375977e-02, 5.8390248e-01, 3.6659282e-02, 3.1373125e-02,\n",
              "        3.1368914e-01],\n",
              "       [9.2736250e-03, 9.7115839e-01, 1.2998044e-02, 8.2512008e-04,\n",
              "        5.7447441e-03]], dtype=float32)"
            ]
          },
          "execution_count": 52,
          "metadata": {},
          "output_type": "execute_result"
        }
      ],
      "source": [
        "preds=model_1.predict(valid_dataset)\n",
        "preds"
      ]
    },
    {
      "cell_type": "code",
      "execution_count": null,
      "metadata": {
        "colab": {
          "base_uri": "https://localhost:8080/"
        },
        "id": "HyduzLEPIU4q",
        "outputId": "19270da8-0f68-4d03-a2a1-e2f100705b33"
      },
      "outputs": [
        {
          "data": {
            "text/plain": [
              "<tf.Tensor: shape=(30212,), dtype=int64, numpy=array([0, 1, 3, ..., 4, 1, 1])>"
            ]
          },
          "execution_count": 53,
          "metadata": {},
          "output_type": "execute_result"
        }
      ],
      "source": [
        "preds=tf.argmax(preds,axis=1)\n",
        "preds"
      ]
    },
    {
      "cell_type": "code",
      "execution_count": null,
      "metadata": {
        "colab": {
          "base_uri": "https://localhost:8080/",
          "height": 37
        },
        "id": "RtvjQ_MmIe1E",
        "outputId": "aa85a02a-088d-4324-b784-7ab3fd1b6eee"
      },
      "outputs": [
        {
          "data": {
            "application/vnd.google.colaboratory.intrinsic+json": {
              "type": "string"
            },
            "text/plain": [
              "'( Funded by AbbVie ; SAPPHIRE-II ClinicalTrials.gov number , NCT@ . )'"
            ]
          },
          "execution_count": 54,
          "metadata": {},
          "output_type": "execute_result"
        }
      ],
      "source": [
        "val_sentences[-1]"
      ]
    },
    {
      "cell_type": "code",
      "execution_count": null,
      "metadata": {
        "colab": {
          "base_uri": "https://localhost:8080/"
        },
        "id": "LosJ2XHeIxMP",
        "outputId": "bf534619-eda5-4c72-e51b-db30831dd5d2"
      },
      "outputs": [
        {
          "data": {
            "text/plain": [
              "1"
            ]
          },
          "execution_count": 55,
          "metadata": {},
          "output_type": "execute_result"
        }
      ],
      "source": [
        "val_label_encoded[-1]"
      ]
    },
    {
      "cell_type": "code",
      "execution_count": null,
      "metadata": {
        "colab": {
          "base_uri": "https://localhost:8080/"
        },
        "id": "q6rS3Q_lJIOW",
        "outputId": "c175b169-0f12-42cf-9771-3b37535d4ecc"
      },
      "outputs": [
        {
          "data": {
            "text/plain": [
              "{'accuracy': 80.5408446974712,\n",
              " 'precision': 0.8037946832085446,\n",
              " 'recall': 0.805408446974712,\n",
              " 'f1': 0.8043150834999354}"
            ]
          },
          "execution_count": 56,
          "metadata": {},
          "output_type": "execute_result"
        }
      ],
      "source": [
        "results_1=calculate_results(val_label_encoded,\n",
        "                            preds)\n",
        "results_1"
      ]
    },
    {
      "cell_type": "code",
      "execution_count": null,
      "metadata": {
        "colab": {
          "base_uri": "https://localhost:8080/"
        },
        "id": "92kt-XbOJawE",
        "outputId": "26c51f2e-ba32-4678-90c2-9c51334555cd"
      },
      "outputs": [
        {
          "data": {
            "text/plain": [
              "0.7218323844829869"
            ]
          },
          "execution_count": 57,
          "metadata": {},
          "output_type": "execute_result"
        }
      ],
      "source": [
        "baseline"
      ]
    },
    {
      "cell_type": "markdown",
      "metadata": {
        "id": "Uyn787cuJsbA"
      },
      "source": [
        "model_2:pretrained token embedding"
      ]
    },
    {
      "cell_type": "code",
      "execution_count": null,
      "metadata": {
        "colab": {
          "base_uri": "https://localhost:8080/"
        },
        "id": "8JlXgpKCKSbo",
        "outputId": "1a451eb1-10bf-4039-d7f4-d28acc913c4a"
      },
      "outputs": [
        {
          "name": "stdout",
          "output_type": "stream",
          "text": [
            "(2, 512)\n"
          ]
        }
      ],
      "source": [
        "import tensorflow_hub as hub\n",
        "\n",
        "embed = hub.KerasLayer(\"https://www.kaggle.com/models/google/universal-sentence-encoder/TensorFlow2/universal-sentence-encoder/2\",\n",
        "                       trainable = False,\n",
        "                       name='universal_sentence_encoder')\n",
        "embeddings = embed([\n",
        "    \"The quick brown fox jumps over the lazy dog.\",\n",
        "    \"I am a sentence for which I would like to get its embedding\"])\n",
        "\n",
        "print(embeddings.shape)\n",
        "\n",
        "# The following are example embedding output of 512 dimensions per sentence\n",
        "# Embedding for: The quick brown fox jumps over the lazy dog.\n",
        "# [-0.03133016 -0.06338634 -0.01607501, ...]\n",
        "# Embedding for: I am a sentence for which I would like to get its embedding.\n",
        "# [0.05080863 -0.0165243   0.01573782, ...]\n"
      ]
    },
    {
      "cell_type": "code",
      "execution_count": null,
      "metadata": {
        "id": "AaCkwaOsLEKI"
      },
      "outputs": [],
      "source": [
        "inputs=layers.Input(shape=[], dtype=tf.string)\n",
        "embeddings=embed(inputs)\n",
        "x= layers.Dense(128,activation = 'relu')(embeddings)\n",
        "outputs=layers.Dense(5,activation='softmax')(x)\n",
        "model_2=tf.keras.Model(inputs=inputs,\n",
        "                       outputs=outputs)\n",
        "\n",
        "model_2.compile(loss='categorical_crossentropy',\n",
        "metrics=[\"accuracy\"],\n",
        "                optimizer=tf.keras.optimizers.Adam()\n",
        "                )"
      ]
    },
    {
      "cell_type": "code",
      "execution_count": null,
      "metadata": {
        "colab": {
          "base_uri": "https://localhost:8080/"
        },
        "id": "fEXuNnVaTC7z",
        "outputId": "2b79ddef-d6e5-4dd9-d1d7-68e6ad7bdf5e"
      },
      "outputs": [
        {
          "name": "stdout",
          "output_type": "stream",
          "text": [
            "Model: \"model_1\"\n",
            "_________________________________________________________________\n",
            " Layer (type)                Output Shape              Param #   \n",
            "=================================================================\n",
            " input_2 (InputLayer)        [(None,)]                 0         \n",
            "                                                                 \n",
            " universal_sentence_encoder  (None, 512)               256797824 \n",
            "  (KerasLayer)                                                   \n",
            "                                                                 \n",
            " dense_1 (Dense)             (None, 128)               65664     \n",
            "                                                                 \n",
            " dense_2 (Dense)             (None, 5)                 645       \n",
            "                                                                 \n",
            "=================================================================\n",
            "Total params: 256864133 (979.86 MB)\n",
            "Trainable params: 66309 (259.02 KB)\n",
            "Non-trainable params: 256797824 (979.61 MB)\n",
            "_________________________________________________________________\n"
          ]
        }
      ],
      "source": [
        "model_2.summary()"
      ]
    },
    {
      "cell_type": "code",
      "execution_count": null,
      "metadata": {
        "colab": {
          "base_uri": "https://localhost:8080/"
        },
        "id": "rJIuWSFMTGbA",
        "outputId": "47cfc877-35c5-4487-b506-f9cdb934880c"
      },
      "outputs": [
        {
          "name": "stdout",
          "output_type": "stream",
          "text": [
            "Epoch 1/3\n",
            "562/562 [==============================] - 13s 17ms/step - loss: 0.9145 - accuracy: 0.6485 - val_loss: 0.7979 - val_accuracy: 0.6885\n",
            "Epoch 2/3\n",
            "562/562 [==============================] - 8s 14ms/step - loss: 0.7689 - accuracy: 0.7015 - val_loss: 0.7546 - val_accuracy: 0.7055\n",
            "Epoch 3/3\n",
            "562/562 [==============================] - 9s 16ms/step - loss: 0.7504 - accuracy: 0.7137 - val_loss: 0.7357 - val_accuracy: 0.7168\n"
          ]
        }
      ],
      "source": [
        "history_2=model_2.fit(train_dataset,\n",
        "                      steps_per_epoch=int(0.1*len(train_dataset)),\n",
        "                                              epochs=3,\n",
        "                      validation_data=valid_dataset,\n",
        "                      validation_steps = int(0.1*len(valid_dataset))\n",
        "                                              )"
      ]
    },
    {
      "cell_type": "code",
      "execution_count": null,
      "metadata": {
        "colab": {
          "base_uri": "https://localhost:8080/"
        },
        "id": "wRn5G8G4TeYT",
        "outputId": "3570503b-0a87-41ec-983d-08840cf48c5c"
      },
      "outputs": [
        {
          "name": "stdout",
          "output_type": "stream",
          "text": [
            "945/945 [==============================] - 11s 12ms/step - loss: 0.7385 - accuracy: 0.7148\n"
          ]
        },
        {
          "data": {
            "text/plain": [
              "[0.7385026216506958, 0.7148483991622925]"
            ]
          },
          "execution_count": 62,
          "metadata": {},
          "output_type": "execute_result"
        }
      ],
      "source": [
        "model_2.evaluate(valid_dataset)"
      ]
    },
    {
      "cell_type": "code",
      "execution_count": null,
      "metadata": {
        "colab": {
          "base_uri": "https://localhost:8080/"
        },
        "id": "DigKYSUyTqv-",
        "outputId": "8fad2e0f-22c2-47e0-e6b3-fe1ce37faec4"
      },
      "outputs": [
        {
          "name": "stdout",
          "output_type": "stream",
          "text": [
            "945/945 [==============================] - 14s 14ms/step\n"
          ]
        }
      ],
      "source": [
        "preds=tf.argmax(model_2.predict(valid_dataset),axis=1)"
      ]
    },
    {
      "cell_type": "code",
      "execution_count": null,
      "metadata": {
        "colab": {
          "base_uri": "https://localhost:8080/"
        },
        "id": "0h7mfPuaVTF0",
        "outputId": "c3bcb8c5-d752-4b02-cdc9-94cb49f67737"
      },
      "outputs": [
        {
          "data": {
            "text/plain": [
              "<tf.Tensor: shape=(30212,), dtype=int64, numpy=array([0, 1, 3, ..., 4, 4, 2])>"
            ]
          },
          "execution_count": 64,
          "metadata": {},
          "output_type": "execute_result"
        }
      ],
      "source": [
        "preds"
      ]
    },
    {
      "cell_type": "code",
      "execution_count": null,
      "metadata": {
        "colab": {
          "base_uri": "https://localhost:8080/"
        },
        "id": "9gwWHYfQUrSd",
        "outputId": "4d9c9803-b831-4754-8a71-4145e5a648dc"
      },
      "outputs": [
        {
          "data": {
            "text/plain": [
              "{'accuracy': 71.48484046074407,\n",
              " 'precision': 0.7153783897013001,\n",
              " 'recall': 0.7148484046074407,\n",
              " 'f1': 0.7117188938235683}"
            ]
          },
          "execution_count": 65,
          "metadata": {},
          "output_type": "execute_result"
        }
      ],
      "source": [
        "results_2=calculate_results(val_label_encoded,\n",
        "                            preds)\n",
        "results_2"
      ]
    },
    {
      "cell_type": "code",
      "execution_count": null,
      "metadata": {
        "id": "6oJNSKUKVOKi"
      },
      "outputs": [],
      "source": [
        "def split_chars(text):\n",
        "  return ' '.join(list(text))"
      ]
    },
    {
      "cell_type": "code",
      "execution_count": null,
      "metadata": {
        "id": "Esnn-qd_zukv"
      },
      "outputs": [],
      "source": [
        "train_chars=[split_chars(i) for i in train_sentences]\n",
        "val_chars=[split_chars(i) for i in val_sentences]\n",
        "test_chars=[split_chars(i) for i in test_sentences]\n",
        "\n"
      ]
    },
    {
      "cell_type": "code",
      "execution_count": null,
      "metadata": {
        "colab": {
          "base_uri": "https://localhost:8080/"
        },
        "id": "E7j3y2oWz2Ur",
        "outputId": "6403ad55-30c7-4636-f594-fee0446846e4"
      },
      "outputs": [
        {
          "data": {
            "text/plain": [
              "['T o   i n v e s t i g a t e   t h e   e f f i c a c y   o f   @   w e e k s   o f   d a i l y   l o w - d o s e   o r a l   p r e d n i s o l o n e   i n   i m p r o v i n g   p a i n   ,   m o b i l i t y   ,   a n d   s y s t e m i c   l o w - g r a d e   i n f l a m m a t i o n   i n   t h e   s h o r t   t e r m   a n d   w h e t h e r   t h e   e f f e c t   w o u l d   b e   s u s t a i n e d   a t   @   w e e k s   i n   o l d e r   a d u l t s   w i t h   m o d e r a t e   t o   s e v e r e   k n e e   o s t e o a r t h r i t i s   (   O A   )   .',\n",
              " 'A   t o t a l   o f   @   p a t i e n t s   w i t h   p r i m a r y   k n e e   O A   w e r e   r a n d o m i z e d   @ : @   ;   @   r e c e i v e d   @   m g / d a y   o f   p r e d n i s o l o n e   a n d   @   r e c e i v e d   p l a c e b o   f o r   @   w e e k s   .',\n",
              " 'O u t c o m e   m e a s u r e s   i n c l u d e d   p a i n   r e d u c t i o n   a n d   i m p r o v e m e n t   i n   f u n c t i o n   s c o r e s   a n d   s y s t e m i c   i n f l a m m a t i o n   m a r k e r s   .',\n",
              " 'P a i n   w a s   a s s e s s e d   u s i n g   t h e   v i s u a l   a n a l o g   p a i n   s c a l e   (   @ - @   m m   )   .',\n",
              " 'S e c o n d a r y   o u t c o m e   m e a s u r e s   i n c l u d e d   t h e   W e s t e r n   O n t a r i o   a n d   M c M a s t e r   U n i v e r s i t i e s   O s t e o a r t h r i t i s   I n d e x   s c o r e s   ,   p a t i e n t   g l o b a l   a s s e s s m e n t   (   P G A   )   o f   t h e   s e v e r i t y   o f   k n e e   O A   ,   a n d   @ - m i n   w a l k   d i s t a n c e   (   @ M W D   )   .']"
            ]
          },
          "execution_count": 68,
          "metadata": {},
          "output_type": "execute_result"
        }
      ],
      "source": [
        "train_chars[:5]"
      ]
    },
    {
      "cell_type": "code",
      "execution_count": null,
      "metadata": {
        "colab": {
          "base_uri": "https://localhost:8080/"
        },
        "id": "VSmbxoNWz4dE",
        "outputId": "2fa85c1d-6cd1-4c52-fb95-299eed2c8861"
      },
      "outputs": [
        {
          "data": {
            "text/plain": [
              "149.3662574983337"
            ]
          },
          "execution_count": 69,
          "metadata": {},
          "output_type": "execute_result"
        }
      ],
      "source": [
        "char_lens = [len(i) for i in train_sentences]\n",
        "mean_char_lens=np.mean(char_lens)\n",
        "mean_char_lens"
      ]
    },
    {
      "cell_type": "code",
      "execution_count": null,
      "metadata": {
        "colab": {
          "base_uri": "https://localhost:8080/",
          "height": 447
        },
        "id": "9OfYdXmD0lzH",
        "outputId": "da9fddf2-9070-4f53-eeb3-81051a6cb003"
      },
      "outputs": [
        {
          "data": {
            "text/plain": [
              "290"
            ]
          },
          "execution_count": 70,
          "metadata": {},
          "output_type": "execute_result"
        },
        {
          "data": {
            "image/png": "[encoded data removed]",
            "text/plain": [
              "<Figure size 640x480 with 1 Axes>"
            ]
          },
          "metadata": {},
          "output_type": "display_data"
        }
      ],
      "source": [
        "char_lens = [len(i) for i in train_sentences]\n",
        "plt.hist(char_lens,bins=25)\n",
        "perc_len=int(np.percentile(char_lens,95))\n",
        "perc_len"
      ]
    },
    {
      "cell_type": "code",
      "execution_count": null,
      "metadata": {
        "id": "TF8iVrV21JEd"
      },
      "outputs": [],
      "source": [
        "#get all keyboard characters\n",
        "import string\n",
        "alpha = string.ascii_lowercase + string.digits +string.punctuation"
      ]
    },
    {
      "cell_type": "code",
      "execution_count": null,
      "metadata": {
        "colab": {
          "base_uri": "https://localhost:8080/"
        },
        "id": "lWdXxKsr1kun",
        "outputId": "a3bcd4ee-3197-4781-b83c-98f98e12f96a"
      },
      "outputs": [
        {
          "data": {
            "text/plain": [
              "(68, 'abcdefghijklmnopqrstuvwxyz0123456789!\"#$%&\\'()*+,-./:;<=>?@[\\\\]^_`{|}~')"
            ]
          },
          "execution_count": 72,
          "metadata": {},
          "output_type": "execute_result"
        }
      ],
      "source": [
        "len(alpha),alpha"
      ]
    },
    {
      "cell_type": "code",
      "execution_count": null,
      "metadata": {
        "id": "BpyGVGtR2IDF"
      },
      "outputs": [],
      "source": [
        "#create char level tokenisation\n",
        "num_char_tokens= len(alpha)+2 #space and oov(out of vocab,[UNK])\n",
        "char_vectorizer=TextVectorization(max_tokens=num_char_tokens,\n",
        "                                  output_sequence_length=perc_len,\n",
        "                                  name='char_vectorizer')\n",
        "#set standardization to None if to include ounctuation marks"
      ]
    },
    {
      "cell_type": "code",
      "execution_count": null,
      "metadata": {
        "id": "eJjIzl4u3Pja"
      },
      "outputs": [],
      "source": [
        "char_vectorizer.adapt(train_chars)"
      ]
    },
    {
      "cell_type": "code",
      "execution_count": null,
      "metadata": {
        "colab": {
          "base_uri": "https://localhost:8080/"
        },
        "id": "qBHTYWkc9YWq",
        "outputId": "be807cfb-b153-429d-c551-c4719dffdd9c"
      },
      "outputs": [
        {
          "data": {
            "text/plain": [
              "28"
            ]
          },
          "execution_count": 75,
          "metadata": {},
          "output_type": "execute_result"
        }
      ],
      "source": [
        "char_vocab = char_vectorizer.get_vocabulary()\n",
        "len(char_vocab)"
      ]
    },
    {
      "cell_type": "code",
      "execution_count": null,
      "metadata": {
        "colab": {
          "base_uri": "https://localhost:8080/"
        },
        "id": "sm9ch6H03bJs",
        "outputId": "ec29613c-d643-4fac-b484-e4016a3dc2ca"
      },
      "outputs": [
        {
          "data": {
            "text/plain": [
              "('T h e   O u t c o m e   M e a s u r e s   i n   R h e u m a t o l o g y   C l i n i c a l   T r i a l s - O s t e o a r t h r i t i s   R e s e a r c h   S o c i e t y   I n t e r n a t i o n a l   r e s p o n d e r   r a t e   w a s   @   %   i n   t h e   i n t e r v e n t i o n   g r o u p   a n d   @   %   i n   t h e   p l a c e b o   g r o u p   (   p   <   @   )   .',\n",
              " <tf.Tensor: shape=(290,), dtype=int64, numpy=\n",
              " array([ 3, 13,  2,  7, 16,  3, 11,  7, 15,  2, 15,  2,  5,  9, 16,  8,  2,\n",
              "         9,  4,  6,  8, 13,  2, 16, 15,  5,  3,  7, 12,  7, 18, 19, 11, 12,\n",
              "         4,  6,  4, 11,  5, 12,  3,  8,  4,  5, 12,  9,  7,  9,  3,  2,  7,\n",
              "         5,  8,  3, 13,  8,  4,  3,  4,  9,  8,  2,  9,  2,  5,  8, 11, 13,\n",
              "         9,  7, 11,  4,  2,  3, 19,  4,  6,  3,  2,  8,  6,  5,  3,  4,  7,\n",
              "         6,  5, 12,  8,  2,  9, 14,  7,  6, 10,  2,  8,  8,  5,  3,  2, 20,\n",
              "         5,  9,  4,  6,  3, 13,  2,  4,  6,  3,  2,  8, 21,  2,  6,  3,  4,\n",
              "         7,  6, 18,  8,  7, 16, 14,  5,  6, 10,  4,  6,  3, 13,  2, 14, 12,\n",
              "         5, 11,  2, 22,  7, 18,  8,  7, 16, 14, 14,  0,  0,  0,  0,  0,  0,\n",
              "         0,  0,  0,  0,  0,  0,  0,  0,  0,  0,  0,  0,  0,  0,  0,  0,  0,\n",
              "         0,  0,  0,  0,  0,  0,  0,  0,  0,  0,  0,  0,  0,  0,  0,  0,  0,\n",
              "         0,  0,  0,  0,  0,  0,  0,  0,  0,  0,  0,  0,  0,  0,  0,  0,  0,\n",
              "         0,  0,  0,  0,  0,  0,  0,  0,  0,  0,  0,  0,  0,  0,  0,  0,  0,\n",
              "         0,  0,  0,  0,  0,  0,  0,  0,  0,  0,  0,  0,  0,  0,  0,  0,  0,\n",
              "         0,  0,  0,  0,  0,  0,  0,  0,  0,  0,  0,  0,  0,  0,  0,  0,  0,\n",
              "         0,  0,  0,  0,  0,  0,  0,  0,  0,  0,  0,  0,  0,  0,  0,  0,  0,\n",
              "         0,  0,  0,  0,  0,  0,  0,  0,  0,  0,  0,  0,  0,  0,  0,  0,  0,\n",
              "         0])>,\n",
              " 157)"
            ]
          },
          "execution_count": 76,
          "metadata": {},
          "output_type": "execute_result"
        }
      ],
      "source": [
        "train_chars[10],char_vectorizer(train_chars[10]),len(train_chars[10].split())"
      ]
    },
    {
      "cell_type": "code",
      "execution_count": null,
      "metadata": {
        "id": "FMGjrr2M9Lxe"
      },
      "outputs": [],
      "source": [
        "char_embed = layers.Embedding(input_dim=len(char_vocab),\n",
        "                                             output_dim=25,\n",
        "                                             mask_zero= True,\n",
        "                                             name='char_embedding')"
      ]
    },
    {
      "cell_type": "code",
      "execution_count": null,
      "metadata": {
        "id": "uduh1nii788l"
      },
      "outputs": [],
      "source": [
        "inputs=layers.Input(shape=(1,), dtype=\"string\")\n",
        "char_vectors = char_vectorizer(inputs)\n",
        "char_embeddings = char_embed(char_vectors)\n",
        "x= layers.Conv1D(64, kernel_size = 5, padding='same', activation='relu')(char_embeddings)\n",
        "#x=layers.Flatten()(x)\n",
        "x= layers.GlobalMaxPooling1D()(x)\n",
        "outputs = layers.Dense(num_classes, activation='softmax')(x)\n",
        "model_3= tf.keras.Model(inputs,outputs)\n",
        "\n",
        "\n",
        "model_3.compile(loss='categorical_crossentropy',\n",
        "metrics=[\"accuracy\"],\n",
        "                optimizer=tf.keras.optimizers.Adam()\n",
        "                )"
      ]
    },
    {
      "cell_type": "code",
      "execution_count": null,
      "metadata": {
        "colab": {
          "base_uri": "https://localhost:8080/"
        },
        "id": "oN0vRaw5CHqP",
        "outputId": "b357fa43-fa90-4fb9-9185-73147a214c60"
      },
      "outputs": [
        {
          "name": "stdout",
          "output_type": "stream",
          "text": [
            "Model: \"model_2\"\n",
            "_________________________________________________________________\n",
            " Layer (type)                Output Shape              Param #   \n",
            "=================================================================\n",
            " input_3 (InputLayer)        [(None, 1)]               0         \n",
            "                                                                 \n",
            " char_vectorizer (TextVecto  (None, 290)               0         \n",
            " rization)                                                       \n",
            "                                                                 \n",
            " char_embedding (Embedding)  (None, 290, 25)           700       \n",
            "                                                                 \n",
            " conv1d_1 (Conv1D)           (None, 290, 64)           8064      \n",
            "                                                                 \n",
            " global_max_pooling1d (Glob  (None, 64)                0         \n",
            " alMaxPooling1D)                                                 \n",
            "                                                                 \n",
            " dense_3 (Dense)             (None, 5)                 325       \n",
            "                                                                 \n",
            "=================================================================\n",
            "Total params: 9089 (35.50 KB)\n",
            "Trainable params: 9089 (35.50 KB)\n",
            "Non-trainable params: 0 (0.00 Byte)\n",
            "_________________________________________________________________\n"
          ]
        }
      ],
      "source": [
        "model_3.summary()"
      ]
    },
    {
      "cell_type": "code",
      "execution_count": null,
      "metadata": {
        "id": "nLfc9JMfC6_3"
      },
      "outputs": [],
      "source": [
        "train_char_dataset=tf.data.Dataset.from_tensor_slices((train_chars,train_label_hot)).batch(32).prefetch(tf.data.AUTOTUNE)\n",
        "val_char_dataset=tf.data.Dataset.from_tensor_slices((val_chars,val_label_hot)).batch(32).prefetch(tf.data.AUTOTUNE)\n",
        "test_char_dataset=tf.data.Dataset.from_tensor_slices((test_chars,test_label_hot)).batch(32).prefetch(tf.data.AUTOTUNE)"
      ]
    },
    {
      "cell_type": "code",
      "execution_count": null,
      "metadata": {
        "colab": {
          "base_uri": "https://localhost:8080/"
        },
        "id": "1dxude0Ptw-R",
        "outputId": "efeb9fa4-9b6c-4c0d-b35a-4264be333867"
      },
      "outputs": [
        {
          "name": "stdout",
          "output_type": "stream",
          "text": [
            "Epoch 1/3\n",
            "562/562 [==============================] - 19s 31ms/step - loss: 1.2516 - accuracy: 0.4790 - val_loss: 1.0449 - val_accuracy: 0.5721\n",
            "Epoch 2/3\n",
            "562/562 [==============================] - 14s 25ms/step - loss: 1.0128 - accuracy: 0.5912 - val_loss: 0.9495 - val_accuracy: 0.6124\n",
            "Epoch 3/3\n",
            "562/562 [==============================] - 14s 25ms/step - loss: 0.9264 - accuracy: 0.6355 - val_loss: 0.8676 - val_accuracy: 0.6582\n"
          ]
        }
      ],
      "source": [
        "history_3=model_3.fit(train_char_dataset,\n",
        "                      steps_per_epoch=int(0.1*len(train_char_dataset)),\n",
        "                                              epochs=3,\n",
        "                      validation_data=val_char_dataset,\n",
        "                      validation_steps = int(0.1*len(val_char_dataset))\n",
        "                                              )"
      ]
    },
    {
      "cell_type": "code",
      "execution_count": null,
      "metadata": {
        "colab": {
          "base_uri": "https://localhost:8080/"
        },
        "id": "tru6Kc_NutWv",
        "outputId": "54d1a9f5-fcdf-4abe-b518-bfe6e17e9d83"
      },
      "outputs": [
        {
          "name": "stdout",
          "output_type": "stream",
          "text": [
            "945/945 [==============================] - 11s 11ms/step - loss: 0.8892 - accuracy: 0.6546\n"
          ]
        },
        {
          "data": {
            "text/plain": [
              "[0.889179527759552, 0.6546405553817749]"
            ]
          },
          "execution_count": 82,
          "metadata": {},
          "output_type": "execute_result"
        }
      ],
      "source": [
        "model_3.evaluate(val_char_dataset)"
      ]
    },
    {
      "cell_type": "code",
      "execution_count": null,
      "metadata": {
        "id": "tCa5pvhkvE9N"
      },
      "outputs": [],
      "source": [
        "#hybrid embeddings"
      ]
    },
    {
      "cell_type": "code",
      "execution_count": null,
      "metadata": {
        "id": "00wJe3nLx5g9"
      },
      "outputs": [],
      "source": [
        "token_inputs = layers.Input(shape=(1,),dtype=tf.string, name='token_input')\n",
        "#token_embed=embed(token_inputs)\n",
        "token_vectors=text_vectorizer(token_inputs)\n",
        "token_embeddings=token_embed(token_vectors)\n",
        "token_output=layers.Dense(128,activation='relu')(token_embeddings)\n",
        "token_output=layers.Flatten()(token_output)\n",
        "token_model=tf.keras.Model(inputs=token_inputs,\n",
        "                           outputs=token_output)\n",
        "\n",
        "char_inputs = layers.Input(shape=(1,),dtype=tf.string, name='char_input')\n",
        "char_vectors=char_vectorizer(char_inputs)\n",
        "char_embeddings=char_embed(char_vectors)\n",
        "char_bi_lstm=layers.Bidirectional(layers.LSTM(25))(char_embeddings)\n",
        "char_model=tf.keras.Model(inputs=char_inputs,\n",
        "                           outputs=char_bi_lstm)\n",
        "\n",
        "token_char_concat=tf.keras.layers.Concatenate(name='token_char_hybrid')([token_model.output,\n",
        "                                                       char_model.output])\n",
        "\n",
        "combined_dropout = layers.Dropout(0.5)(token_char_concat)\n",
        "combined_dense = layers.Dense(128,activation='relu')(combined_dropout)\n",
        "final_dropout=layers.Dropout(0.5)(combined_dense)\n",
        "output_layer=layers.Dense(num_classes,activation=\"softmax\")(final_dropout)\n",
        "\n",
        "model_4=tf.keras.Model(inputs=[token_model.input, char_model.input],\n",
        "                       outputs=output_layer,\n",
        "                       name='hybrid_model')\n",
        "\n",
        "\n"
      ]
    },
    {
      "cell_type": "code",
      "execution_count": null,
      "metadata": {
        "id": "lQVX9SIdU2WH"
      },
      "outputs": [],
      "source": [
        "model_4.compile(loss='categorical_crossentropy',\n",
        "metrics=[\"accuracy\"],\n",
        "                optimizer=tf.keras.optimizers.Adam()\n",
        "               )\n"
      ]
    },
    {
      "cell_type": "code",
      "execution_count": null,
      "metadata": {
        "colab": {
          "base_uri": "https://localhost:8080/"
        },
        "id": "sAm_xrfCWqPd",
        "outputId": "8f6844fa-af6a-4caa-e3de-1dfea21f7fe7"
      },
      "outputs": [
        {
          "name": "stdout",
          "output_type": "stream",
          "text": [
            "Model: \"hybrid_model\"\n",
            "__________________________________________________________________________________________________\n",
            " Layer (type)                Output Shape                 Param #   Connected to                  \n",
            "==================================================================================================\n",
            " token_input (InputLayer)    [(None, 1)]                  0         []                            \n",
            "                                                                                                  \n",
            " text_vectorization (TextVe  (None, 55)                   0         ['token_input[0][0]']         \n",
            " ctorization)                                                                                     \n",
            "                                                                                                  \n",
            " char_input (InputLayer)     [(None, 1)]                  0         []                            \n",
            "                                                                                                  \n",
            " token_embedding (Embedding  (None, 55, 128)              8299648   ['text_vectorization[1][0]']  \n",
            " )                                                                                                \n",
            "                                                                                                  \n",
            " char_vectorizer (TextVecto  (None, 290)                  0         ['char_input[0][0]']          \n",
            " rization)                                                                                        \n",
            "                                                                                                  \n",
            " dense_4 (Dense)             (None, 55, 128)              16512     ['token_embedding[1][0]']     \n",
            "                                                                                                  \n",
            " char_embedding (Embedding)  (None, 290, 25)              700       ['char_vectorizer[1][0]']     \n",
            "                                                                                                  \n",
            " flatten_1 (Flatten)         (None, 7040)                 0         ['dense_4[0][0]']             \n",
            "                                                                                                  \n",
            " bidirectional (Bidirection  (None, 50)                   10200     ['char_embedding[1][0]']      \n",
            " al)                                                                                              \n",
            "                                                                                                  \n",
            " token_char_hybrid (Concate  (None, 7090)                 0         ['flatten_1[0][0]',           \n",
            " nate)                                                               'bidirectional[0][0]']       \n",
            "                                                                                                  \n",
            " dropout (Dropout)           (None, 7090)                 0         ['token_char_hybrid[0][0]']   \n",
            "                                                                                                  \n",
            " dense_5 (Dense)             (None, 128)                  907648    ['dropout[0][0]']             \n",
            "                                                                                                  \n",
            " dropout_1 (Dropout)         (None, 128)                  0         ['dense_5[0][0]']             \n",
            "                                                                                                  \n",
            " dense_6 (Dense)             (None, 5)                    645       ['dropout_1[0][0]']           \n",
            "                                                                                                  \n",
            "==================================================================================================\n",
            "Total params: 9235353 (35.23 MB)\n",
            "Trainable params: 9235353 (35.23 MB)\n",
            "Non-trainable params: 0 (0.00 Byte)\n",
            "__________________________________________________________________________________________________\n"
          ]
        }
      ],
      "source": [
        "model_4.summary()"
      ]
    },
    {
      "cell_type": "code",
      "execution_count": null,
      "metadata": {
        "colab": {
          "base_uri": "https://localhost:8080/",
          "height": 901
        },
        "id": "LdD4nwshWseh",
        "outputId": "c0d34406-457a-4523-d929-5a90e30bbc53"
      },
      "outputs": [
        {
          "data": {
            "image/png": "[encoded data removed]",
            "text/plain": [
              "<IPython.core.display.Image object>"
            ]
          },
          "execution_count": 87,
          "metadata": {},
          "output_type": "execute_result"
        }
      ],
      "source": [
        "from keras.utils import plot_model\n",
        "plot_model(model_4,show_shapes=True)"
      ]
    },
    {
      "cell_type": "code",
      "execution_count": null,
      "metadata": {
        "colab": {
          "base_uri": "https://localhost:8080/"
        },
        "id": "xHcmyvZAXKE7",
        "outputId": "fe6a801b-6413-4f0f-f434-3950173e1a1f"
      },
      "outputs": [
        {
          "data": {
            "text/plain": [
              "(<_PrefetchDataset element_spec=((TensorSpec(shape=(None,), dtype=tf.string, name=None), TensorSpec(shape=(None,), dtype=tf.string, name=None)), TensorSpec(shape=(None, 5), dtype=tf.float64, name=None))>,\n",
              " <_PrefetchDataset element_spec=((TensorSpec(shape=(None,), dtype=tf.string, name=None), TensorSpec(shape=(None,), dtype=tf.string, name=None)), TensorSpec(shape=(None, 5), dtype=tf.float64, name=None))>)"
            ]
          },
          "execution_count": 88,
          "metadata": {},
          "output_type": "execute_result"
        }
      ],
      "source": [
        "#combine chars and tokens into a dataset\n",
        "train_char_token_data=tf.data.Dataset.from_tensor_slices((train_sentences,train_chars))#make data\n",
        "train_char_token_label=tf.data.Dataset.from_tensor_slices(train_label_hot)#make labels\n",
        "train_char_token_dataset=tf.data.Dataset.zip((train_char_token_data,train_char_token_label))\n",
        "\n",
        "train_char_token_dataset=train_char_token_dataset.batch(32).prefetch(tf.data.AUTOTUNE)\n",
        "\n",
        "val_char_token_data=tf.data.Dataset.from_tensor_slices((val_sentences,val_chars))#make data\n",
        "val_char_token_label=tf.data.Dataset.from_tensor_slices(val_label_hot)#make labels\n",
        "val_char_token_dataset=tf.data.Dataset.zip((val_char_token_data,val_char_token_label))\n",
        "\n",
        "val_char_token_dataset=val_char_token_dataset.batch(32).prefetch(tf.data.AUTOTUNE)\n",
        "\n",
        "train_char_token_dataset,val_char_token_dataset\n"
      ]
    },
    {
      "cell_type": "code",
      "execution_count": null,
      "metadata": {
        "colab": {
          "base_uri": "https://localhost:8080/"
        },
        "id": "8Tz6YXl8bkfq",
        "outputId": "3fc96a2d-fa4c-4dc0-842c-b88d00e5238e"
      },
      "outputs": [
        {
          "name": "stdout",
          "output_type": "stream",
          "text": [
            "Epoch 1/3\n",
            "562/562 [==============================] - 255s 437ms/step - loss: 0.6343 - accuracy: 0.7677 - val_loss: 0.5907 - val_accuracy: 0.7852\n",
            "Epoch 2/3\n",
            "562/562 [==============================] - 235s 418ms/step - loss: 0.4912 - accuracy: 0.8266 - val_loss: 0.6053 - val_accuracy: 0.7716\n",
            "Epoch 3/3\n",
            "562/562 [==============================] - 346s 616ms/step - loss: 0.4762 - accuracy: 0.8290 - val_loss: 0.5809 - val_accuracy: 0.7859\n"
          ]
        }
      ],
      "source": [
        "history_4=model_4.fit(train_char_token_dataset,\n",
        "                      steps_per_epoch=int(0.1*len(train_char_token_dataset)),\n",
        "                                              epochs=3,\n",
        "                      validation_data=val_char_token_dataset,\n",
        "                      validation_steps = int(0.1*len(val_char_token_dataset))\n",
        "                                              )\n"
      ]
    },
    {
      "cell_type": "code",
      "execution_count": null,
      "metadata": {
        "colab": {
          "base_uri": "https://localhost:8080/"
        },
        "id": "FPC9e5Wwn8xq",
        "outputId": "8328fbbf-a8b3-4248-c67c-25c0fa5e6c5d"
      },
      "outputs": [
        {
          "name": "stdout",
          "output_type": "stream",
          "text": [
            "945/945 [==============================] - 82s 87ms/step - loss: 0.5878 - accuracy: 0.7835\n"
          ]
        },
        {
          "data": {
            "text/plain": [
              "[0.5878051519393921, 0.7834635376930237]"
            ]
          },
          "execution_count": 90,
          "metadata": {},
          "output_type": "execute_result"
        }
      ],
      "source": [
        "model_4.evaluate(val_char_token_dataset)"
      ]
    },
    {
      "cell_type": "code",
      "execution_count": null,
      "metadata": {
        "colab": {
          "base_uri": "https://localhost:8080/"
        },
        "id": "OWB8vhqNc3rV",
        "outputId": "c475d8ee-a8db-492c-fd77-1a384c34ef9f"
      },
      "outputs": [
        {
          "name": "stdout",
          "output_type": "stream",
          "text": [
            "945/945 [==============================] - 62s 66ms/step - loss: 0.5878 - accuracy: 0.7835\n"
          ]
        },
        {
          "data": {
            "text/plain": [
              "[0.5878051519393921, 0.7834635376930237]"
            ]
          },
          "execution_count": 91,
          "metadata": {},
          "output_type": "execute_result"
        }
      ],
      "source": [
        "model_4.evaluate(val_char_token_dataset)"
      ]
    },
    {
      "cell_type": "code",
      "execution_count": null,
      "metadata": {
        "colab": {
          "base_uri": "https://localhost:8080/"
        },
        "id": "dFrDQ4-Bin3O",
        "outputId": "99965493-86dd-4678-ea6f-127e2c52b0ea"
      },
      "outputs": [
        {
          "data": {
            "text/plain": [
              "{'accuracy': 80.5408446974712,\n",
              " 'precision': 0.8037946832085446,\n",
              " 'recall': 0.805408446974712,\n",
              " 'f1': 0.8043150834999354}"
            ]
          },
          "execution_count": 92,
          "metadata": {},
          "output_type": "execute_result"
        }
      ],
      "source": [
        "results_1"
      ]
    },
    {
      "cell_type": "code",
      "execution_count": null,
      "metadata": {
        "colab": {
          "base_uri": "https://localhost:8080/",
          "height": 564
        },
        "id": "dK5WljQ5iz-8",
        "outputId": "1653540b-7580-41a7-a18f-ab29bf563196"
      },
      "outputs": [
        {
          "data": {
            "image/png": "[encoded data removed]",
            "text/plain": [
              "<IPython.core.display.Image object>"
            ]
          },
          "execution_count": 93,
          "metadata": {},
          "output_type": "execute_result"
        }
      ],
      "source": [
        "plot_model(model_1)"
      ]
    },
    {
      "cell_type": "code",
      "execution_count": null,
      "metadata": {
        "colab": {
          "base_uri": "https://localhost:8080/",
          "height": 289
        },
        "id": "XdJXTAWCoL9V",
        "outputId": "1c4e3939-4be6-463e-f8a8-e1809e00e7fb"
      },
      "outputs": [
        {
          "data": {
            "application/vnd.google.colaboratory.intrinsic+json": {
              "type": "dataframe",
              "variable_name": "train_df"
            },
            "text/html": [
              "\n",
              "  <div id=\"df-d7489ad7-d8de-4002-bf9d-ae7265dbcec7\" class=\"colab-df-container\">\n",
              "    <div>\n",
              "<style scoped>\n",
              "    .dataframe tbody tr th:only-of-type {\n",
              "        vertical-align: middle;\n",
              "    }\n",
              "\n",
              "    .dataframe tbody tr th {\n",
              "        vertical-align: top;\n",
              "    }\n",
              "\n",
              "    .dataframe thead th {\n",
              "        text-align: right;\n",
              "    }\n",
              "</style>\n",
              "<table border=\"1\" class=\"dataframe\">\n",
              "  <thead>\n",
              "    <tr style=\"text-align: right;\">\n",
              "      <th></th>\n",
              "      <th>target</th>\n",
              "      <th>text</th>\n",
              "      <th>line_no</th>\n",
              "      <th>total_lines</th>\n",
              "    </tr>\n",
              "  </thead>\n",
              "  <tbody>\n",
              "    <tr>\n",
              "      <th>0</th>\n",
              "      <td>OBJECTIVE</td>\n",
              "      <td>To investigate the efficacy of @ weeks of dail...</td>\n",
              "      <td>0</td>\n",
              "      <td>11</td>\n",
              "    </tr>\n",
              "    <tr>\n",
              "      <th>1</th>\n",
              "      <td>METHODS</td>\n",
              "      <td>A total of @ patients with primary knee OA wer...</td>\n",
              "      <td>1</td>\n",
              "      <td>11</td>\n",
              "    </tr>\n",
              "    <tr>\n",
              "      <th>2</th>\n",
              "      <td>METHODS</td>\n",
              "      <td>Outcome measures included pain reduction and i...</td>\n",
              "      <td>2</td>\n",
              "      <td>11</td>\n",
              "    </tr>\n",
              "    <tr>\n",
              "      <th>3</th>\n",
              "      <td>METHODS</td>\n",
              "      <td>Pain was assessed using the visual analog pain...</td>\n",
              "      <td>3</td>\n",
              "      <td>11</td>\n",
              "    </tr>\n",
              "    <tr>\n",
              "      <th>4</th>\n",
              "      <td>METHODS</td>\n",
              "      <td>Secondary outcome measures included the Wester...</td>\n",
              "      <td>4</td>\n",
              "      <td>11</td>\n",
              "    </tr>\n",
              "  </tbody>\n",
              "</table>\n",
              "</div>\n",
              "    <div class=\"colab-df-buttons\">\n",
              "\n",
              "  <div class=\"colab-df-container\">\n",
              "    <button class=\"colab-df-convert\" onclick=\"convertToInteractive('df-d7489ad7-d8de-4002-bf9d-ae7265dbcec7')\"\n",
              "            title=\"Convert this dataframe to an interactive table.\"\n",
              "            style=\"display:none;\">\n",
              "\n",
              "  <svg xmlns=\"http://www.w3.org/2000/svg\" height=\"24px\" viewBox=\"0 -960 960 960\">\n",
              "    <path d=\"M120-120v-720h720v720H120Zm60-500h600v-160H180v160Zm220 220h160v-160H400v160Zm0 220h160v-160H400v160ZM180-400h160v-160H180v160Zm440 0h160v-160H620v160ZM180-180h160v-160H180v160Zm440 0h160v-160H620v160Z\"/>\n",
              "  </svg>\n",
              "    </button>\n",
              "\n",
              "  <style>\n",
              "    .colab-df-container {\n",
              "      display:flex;\n",
              "      gap: 12px;\n",
              "    }\n",
              "\n",
              "    .colab-df-convert {\n",
              "      background-color: #E8F0FE;\n",
              "      border: none;\n",
              "      border-radius: 50%;\n",
              "      cursor: pointer;\n",
              "      display: none;\n",
              "      fill: #1967D2;\n",
              "      height: 32px;\n",
              "      padding: 0 0 0 0;\n",
              "      width: 32px;\n",
              "    }\n",
              "\n",
              "    .colab-df-convert:hover {\n",
              "      background-color: #E2EBFA;\n",
              "      box-shadow: 0px 1px 2px rgba(60, 64, 67, 0.3), 0px 1px 3px 1px rgba(60, 64, 67, 0.15);\n",
              "      fill: #174EA6;\n",
              "    }\n",
              "\n",
              "    .colab-df-buttons div {\n",
              "      margin-bottom: 4px;\n",
              "    }\n",
              "\n",
              "    [theme=dark] .colab-df-convert {\n",
              "      background-color: #3B4455;\n",
              "      fill: #D2E3FC;\n",
              "    }\n",
              "\n",
              "    [theme=dark] .colab-df-convert:hover {\n",
              "      background-color: #434B5C;\n",
              "      box-shadow: 0px 1px 3px 1px rgba(0, 0, 0, 0.15);\n",
              "      filter: drop-shadow(0px 1px 2px rgba(0, 0, 0, 0.3));\n",
              "      fill: #FFFFFF;\n",
              "    }\n",
              "  </style>\n",
              "\n",
              "    <script>\n",
              "      const buttonEl =\n",
              "        document.querySelector('#df-d7489ad7-d8de-4002-bf9d-ae7265dbcec7 button.colab-df-convert');\n",
              "      buttonEl.style.display =\n",
              "        google.colab.kernel.accessAllowed ? 'block' : 'none';\n",
              "\n",
              "      async function convertToInteractive(key) {\n",
              "        const element = document.querySelector('#df-d7489ad7-d8de-4002-bf9d-ae7265dbcec7');\n",
              "        const dataTable =\n",
              "          await google.colab.kernel.invokeFunction('convertToInteractive',\n",
              "                                                    [key], {});\n",
              "        if (!dataTable) return;\n",
              "\n",
              "        const docLinkHtml = 'Like what you see? Visit the ' +\n",
              "          '<a target=\"_blank\" href=https://colab.research.google.com/notebooks/data_table.ipynb>data table notebook</a>'\n",
              "          + ' to learn more about interactive tables.';\n",
              "        element.innerHTML = '';\n",
              "        dataTable['output_type'] = 'display_data';\n",
              "        await google.colab.output.renderOutput(dataTable, element);\n",
              "        const docLink = document.createElement('div');\n",
              "        docLink.innerHTML = docLinkHtml;\n",
              "        element.appendChild(docLink);\n",
              "      }\n",
              "    </script>\n",
              "  </div>\n",
              "\n",
              "\n",
              "<div id=\"df-b5272481-fdac-4e59-9053-1e33c6a86398\">\n",
              "  <button class=\"colab-df-quickchart\" onclick=\"quickchart('df-b5272481-fdac-4e59-9053-1e33c6a86398')\"\n",
              "            title=\"Suggest charts\"\n",
              "            style=\"display:none;\">\n",
              "\n",
              "<svg xmlns=\"http://www.w3.org/2000/svg\" height=\"24px\"viewBox=\"0 0 24 24\"\n",
              "     width=\"24px\">\n",
              "    <g>\n",
              "        <path d=\"M19 3H5c-1.1 0-2 .9-2 2v14c0 1.1.9 2 2 2h14c1.1 0 2-.9 2-2V5c0-1.1-.9-2-2-2zM9 17H7v-7h2v7zm4 0h-2V7h2v10zm4 0h-2v-4h2v4z\"/>\n",
              "    </g>\n",
              "</svg>\n",
              "  </button>\n",
              "\n",
              "<style>\n",
              "  .colab-df-quickchart {\n",
              "      --bg-color: #E8F0FE;\n",
              "      --fill-color: #1967D2;\n",
              "      --hover-bg-color: #E2EBFA;\n",
              "      --hover-fill-color: #174EA6;\n",
              "      --disabled-fill-color: #AAA;\n",
              "      --disabled-bg-color: #DDD;\n",
              "  }\n",
              "\n",
              "  [theme=dark] .colab-df-quickchart {\n",
              "      --bg-color: #3B4455;\n",
              "      --fill-color: #D2E3FC;\n",
              "      --hover-bg-color: #434B5C;\n",
              "      --hover-fill-color: #FFFFFF;\n",
              "      --disabled-bg-color: #3B4455;\n",
              "      --disabled-fill-color: #666;\n",
              "  }\n",
              "\n",
              "  .colab-df-quickchart {\n",
              "    background-color: var(--bg-color);\n",
              "    border: none;\n",
              "    border-radius: 50%;\n",
              "    cursor: pointer;\n",
              "    display: none;\n",
              "    fill: var(--fill-color);\n",
              "    height: 32px;\n",
              "    padding: 0;\n",
              "    width: 32px;\n",
              "  }\n",
              "\n",
              "  .colab-df-quickchart:hover {\n",
              "    background-color: var(--hover-bg-color);\n",
              "    box-shadow: 0 1px 2px rgba(60, 64, 67, 0.3), 0 1px 3px 1px rgba(60, 64, 67, 0.15);\n",
              "    fill: var(--button-hover-fill-color);\n",
              "  }\n",
              "\n",
              "  .colab-df-quickchart-complete:disabled,\n",
              "  .colab-df-quickchart-complete:disabled:hover {\n",
              "    background-color: var(--disabled-bg-color);\n",
              "    fill: var(--disabled-fill-color);\n",
              "    box-shadow: none;\n",
              "  }\n",
              "\n",
              "  .colab-df-spinner {\n",
              "    border: 2px solid var(--fill-color);\n",
              "    border-color: transparent;\n",
              "    border-bottom-color: var(--fill-color);\n",
              "    animation:\n",
              "      spin 1s steps(1) infinite;\n",
              "  }\n",
              "\n",
              "  @keyframes spin {\n",
              "    0% {\n",
              "      border-color: transparent;\n",
              "      border-bottom-color: var(--fill-color);\n",
              "      border-left-color: var(--fill-color);\n",
              "    }\n",
              "    20% {\n",
              "      border-color: transparent;\n",
              "      border-left-color: var(--fill-color);\n",
              "      border-top-color: var(--fill-color);\n",
              "    }\n",
              "    30% {\n",
              "      border-color: transparent;\n",
              "      border-left-color: var(--fill-color);\n",
              "      border-top-color: var(--fill-color);\n",
              "      border-right-color: var(--fill-color);\n",
              "    }\n",
              "    40% {\n",
              "      border-color: transparent;\n",
              "      border-right-color: var(--fill-color);\n",
              "      border-top-color: var(--fill-color);\n",
              "    }\n",
              "    60% {\n",
              "      border-color: transparent;\n",
              "      border-right-color: var(--fill-color);\n",
              "    }\n",
              "    80% {\n",
              "      border-color: transparent;\n",
              "      border-right-color: var(--fill-color);\n",
              "      border-bottom-color: var(--fill-color);\n",
              "    }\n",
              "    90% {\n",
              "      border-color: transparent;\n",
              "      border-bottom-color: var(--fill-color);\n",
              "    }\n",
              "  }\n",
              "</style>\n",
              "\n",
              "  <script>\n",
              "    async function quickchart(key) {\n",
              "      const quickchartButtonEl =\n",
              "        document.querySelector('#' + key + ' button');\n",
              "      quickchartButtonEl.disabled = true;  // To prevent multiple clicks.\n",
              "      quickchartButtonEl.classList.add('colab-df-spinner');\n",
              "      try {\n",
              "        const charts = await google.colab.kernel.invokeFunction(\n",
              "            'suggestCharts', [key], {});\n",
              "      } catch (error) {\n",
              "        console.error('Error during call to suggestCharts:', error);\n",
              "      }\n",
              "      quickchartButtonEl.classList.remove('colab-df-spinner');\n",
              "      quickchartButtonEl.classList.add('colab-df-quickchart-complete');\n",
              "    }\n",
              "    (() => {\n",
              "      let quickchartButtonEl =\n",
              "        document.querySelector('#df-b5272481-fdac-4e59-9053-1e33c6a86398 button');\n",
              "      quickchartButtonEl.style.display =\n",
              "        google.colab.kernel.accessAllowed ? 'block' : 'none';\n",
              "    })();\n",
              "  </script>\n",
              "</div>\n",
              "\n",
              "    </div>\n",
              "  </div>\n"
            ],
            "text/plain": [
              "      target                                               text  line_no  \\\n",
              "0  OBJECTIVE  To investigate the efficacy of @ weeks of dail...        0   \n",
              "1    METHODS  A total of @ patients with primary knee OA wer...        1   \n",
              "2    METHODS  Outcome measures included pain reduction and i...        2   \n",
              "3    METHODS  Pain was assessed using the visual analog pain...        3   \n",
              "4    METHODS  Secondary outcome measures included the Wester...        4   \n",
              "\n",
              "   total_lines  \n",
              "0           11  \n",
              "1           11  \n",
              "2           11  \n",
              "3           11  \n",
              "4           11  "
            ]
          },
          "execution_count": 94,
          "metadata": {},
          "output_type": "execute_result"
        }
      ],
      "source": [
        "train_df.head()"
      ]
    },
    {
      "cell_type": "code",
      "execution_count": null,
      "metadata": {
        "colab": {
          "base_uri": "https://localhost:8080/",
          "height": 498
        },
        "id": "m6wTH3pjRzDu",
        "outputId": "7d80985b-2e30-4f84-a467-229d4cd356e8"
      },
      "outputs": [
        {
          "data": {
            "text/plain": [
              "(array([4.5000e+04, 4.4941e+04, 4.2383e+04, 2.9914e+04, 1.2840e+04,\n",
              "        3.8000e+03, 9.1000e+02, 2.0000e+02, 4.3000e+01, 9.0000e+00]),\n",
              " array([ 0.,  3.,  6.,  9., 12., 15., 18., 21., 24., 27., 30.]),\n",
              " <BarContainer object of 10 artists>)"
            ]
          },
          "execution_count": 95,
          "metadata": {},
          "output_type": "execute_result"
        },
        {
          "data": {
            "image/png": "[encoded data removed]",
            "text/plain": [
              "<Figure size 640x480 with 1 Axes>"
            ]
          },
          "metadata": {},
          "output_type": "display_data"
        }
      ],
      "source": [
        "plt.hist(train_df.line_no)"
      ]
    },
    {
      "cell_type": "code",
      "execution_count": null,
      "metadata": {
        "colab": {
          "base_uri": "https://localhost:8080/"
        },
        "id": "rWMtpONjS-6h",
        "outputId": "0adae2af-6818-4b71-d2eb-da368946d5e7"
      },
      "outputs": [
        {
          "data": {
            "text/plain": [
              "<tf.Tensor: shape=(5, 15), dtype=float32, numpy=\n",
              "array([[1., 0., 0., 0., 0., 0., 0., 0., 0., 0., 0., 0., 0., 0., 0.],\n",
              "       [0., 1., 0., 0., 0., 0., 0., 0., 0., 0., 0., 0., 0., 0., 0.],\n",
              "       [0., 0., 1., 0., 0., 0., 0., 0., 0., 0., 0., 0., 0., 0., 0.],\n",
              "       [0., 0., 0., 1., 0., 0., 0., 0., 0., 0., 0., 0., 0., 0., 0.],\n",
              "       [0., 0., 0., 0., 1., 0., 0., 0., 0., 0., 0., 0., 0., 0., 0.]],\n",
              "      dtype=float32)>"
            ]
          },
          "execution_count": 96,
          "metadata": {},
          "output_type": "execute_result"
        }
      ],
      "source": [
        "#one hot line_no\n",
        "train_line_hot=tf.one_hot(train_df['line_no'].to_numpy(),depth=15)\n",
        "val_line_hot=tf.one_hot(val_df['line_no'].to_numpy(),depth=15)\n",
        "test_line_hot=tf.one_hot(test_df['line_no'].to_numpy(),depth=15)\n",
        "\n",
        "train_line_hot[:5]"
      ]
    },
    {
      "cell_type": "code",
      "execution_count": null,
      "metadata": {
        "id": "7hAWFLE8VUgt"
      },
      "outputs": [],
      "source": [
        "#one hot total lines"
      ]
    },
    {
      "cell_type": "code",
      "execution_count": null,
      "metadata": {
        "colab": {
          "base_uri": "https://localhost:8080/",
          "height": 516
        },
        "id": "Phg2S3yyWmqR",
        "outputId": "a0c5bcf7-e7a0-41e4-9de8-c6f14610b500"
      },
      "outputs": [
        {
          "data": {
            "text/plain": [
              "(array([ 1393., 23102., 67507., 40551., 32807., 11026.,  2051.,  1223.,\n",
              "          291.,    89.]),\n",
              " array([ 3. ,  5.7,  8.4, 11.1, 13.8, 16.5, 19.2, 21.9, 24.6, 27.3, 30. ]),\n",
              " <BarContainer object of 10 artists>)"
            ]
          },
          "execution_count": 98,
          "metadata": {},
          "output_type": "execute_result"
        },
        {
          "data": {
            "image/png": "[encoded data removed]",
            "text/plain": [
              "<Figure size 640x480 with 1 Axes>"
            ]
          },
          "metadata": {},
          "output_type": "display_data"
        }
      ],
      "source": [
        "plt.hist(train_df.total_lines)"
      ]
    },
    {
      "cell_type": "code",
      "execution_count": null,
      "metadata": {
        "colab": {
          "base_uri": "https://localhost:8080/"
        },
        "id": "8NG5IE60Wu2_",
        "outputId": "b8334276-c46c-4f85-d0a4-1a8e2101bd54"
      },
      "outputs": [
        {
          "data": {
            "text/plain": [
              "<tf.Tensor: shape=(5, 20), dtype=float32, numpy=\n",
              "array([[0., 0., 0., 0., 0., 0., 0., 0., 0., 0., 0., 1., 0., 0., 0., 0.,\n",
              "        0., 0., 0., 0.],\n",
              "       [0., 0., 0., 0., 0., 0., 0., 0., 0., 0., 0., 1., 0., 0., 0., 0.,\n",
              "        0., 0., 0., 0.],\n",
              "       [0., 0., 0., 0., 0., 0., 0., 0., 0., 0., 0., 1., 0., 0., 0., 0.,\n",
              "        0., 0., 0., 0.],\n",
              "       [0., 0., 0., 0., 0., 0., 0., 0., 0., 0., 0., 1., 0., 0., 0., 0.,\n",
              "        0., 0., 0., 0.],\n",
              "       [0., 0., 0., 0., 0., 0., 0., 0., 0., 0., 0., 1., 0., 0., 0., 0.,\n",
              "        0., 0., 0., 0.]], dtype=float32)>"
            ]
          },
          "execution_count": 99,
          "metadata": {},
          "output_type": "execute_result"
        }
      ],
      "source": [
        "#one hot line_no\n",
        "train_tot_line_hot=tf.one_hot(train_df['total_lines'].to_numpy(),depth=20)\n",
        "val_tot_line_hot=tf.one_hot(val_df['total_lines'].to_numpy(),depth=20)\n",
        "test_tot_line_hot=tf.one_hot(test_df['total_lines'].to_numpy(),depth=20)\n",
        "\n",
        "train_tot_line_hot[:5]"
      ]
    },
    {
      "cell_type": "code",
      "execution_count": null,
      "metadata": {
        "id": "wIwOk23AXGnT"
      },
      "outputs": [],
      "source": [
        "token_inputs = layers.Input(shape=(1,),dtype=tf.string, name='token_input')\n",
        "#token_embed=embed(token_inputs)\n",
        "token_vectors=text_vectorizer(token_inputs)\n",
        "token_embeddings=token_embed(token_vectors)\n",
        "token_output=layers.Dense(128,activation='relu')(token_embeddings)\n",
        "token_output=layers.Flatten()(token_output)\n",
        "token_model=tf.keras.Model(inputs=token_inputs,\n",
        "                           outputs=token_output)\n",
        "\n",
        "char_inputs = layers.Input(shape=(1,),dtype=tf.string, name='char_input')\n",
        "char_vectors=char_vectorizer(char_inputs)\n",
        "char_embeddings=char_embed(char_vectors)\n",
        "char_bi_lstm=layers.Bidirectional(layers.LSTM(24))(char_embeddings)\n",
        "char_model=tf.keras.Model(inputs=char_inputs,\n",
        "                           outputs=char_bi_lstm)\n",
        "\n",
        "token_char_concat=tf.keras.layers.Concatenate(name='token_char_hybrid')([token_model.output,\n",
        "                                                       char_model.output])\n",
        "\n",
        "\n",
        "line_no_input=layers.Input(shape=(15,),dtype=tf.float32, name='line_no_ip')\n",
        "x=layers.Dense(32, activation='relu')(line_no_input)\n",
        "line_no_model=tf.keras.Model(inputs=line_no_input,\n",
        "                             outputs=x)\n",
        "\n",
        "tot_lines_input=layers.Input(shape=(20,),dtype=tf.float32, name='tot_line_ip')\n",
        "y=layers.Dense(32, activation='relu')(tot_lines_input)\n",
        "tot_lines_model=tf.keras.Model(inputs=tot_lines_input,\n",
        "                             outputs=y)\n",
        "\n",
        "combined_embeddings = layers.Concatenate(name='char_token')([token_model.output,\n",
        "                                                             char_model.output])\n",
        "\n",
        "z=layers.Dense(256,activation='relu')(combined_embeddings)\n",
        "z=layers.Dropout(0.5)(z)\n",
        "\n",
        "tribrid_embeddings= layers.Concatenate(name='tribrid')([line_no_model.output,\n",
        "                                                        tot_lines_model.output,\n",
        "                                                        z])\n",
        "\n",
        "output_layer=layers.Dense(5,activation='softmax',name='op_layer')(tribrid_embeddings)\n",
        "\n",
        "model_5 = tf.keras.Model(inputs=[line_no_model.input,tot_lines_model.input,\n",
        "                                 token_model.input,char_model.input],\n",
        "                         outputs=output_layer\n",
        "                         )\n",
        "\n"
      ]
    },
    {
      "cell_type": "code",
      "execution_count": null,
      "metadata": {
        "id": "r1NK_e61XW4y"
      },
      "outputs": [],
      "source": [
        "model_5.compile(loss=tf.keras.losses.CategoricalCrossentropy(label_smoothing=0.2),\n",
        "metrics=[\"accuracy\"],\n",
        "                optimizer=tf.keras.optimizers.Adam()\n",
        "               )\n",
        "\n"
      ]
    },
    {
      "cell_type": "code",
      "execution_count": null,
      "metadata": {
        "id": "aE6eAw_vH3ku"
      },
      "outputs": [],
      "source": [
        "train_char_token_pos_data= tf.data.Dataset.from_tensor_slices((train_line_hot,\n",
        "                                                    train_tot_line_hot,\n",
        "                                                    train_sentences,\n",
        "                                                    train_chars))\n",
        "\n",
        "train_char_token_pos_label= tf.data.Dataset.from_tensor_slices(train_label_hot)\n",
        "\n",
        "train_char_token_pos_dataset= tf.data.Dataset.zip((train_char_token_pos_data,train_char_token_pos_label))\n",
        "train_char_token_pos_dataset=train_char_token_pos_dataset.batch(32).prefetch(tf.data.AUTOTUNE)\n",
        "\n",
        "\n"
      ]
    },
    {
      "cell_type": "code",
      "execution_count": null,
      "metadata": {
        "id": "FoZwbd9CL5QP"
      },
      "outputs": [],
      "source": [
        "val_char_token_pos_data= tf.data.Dataset.from_tensor_slices((val_line_hot,\n",
        "                                                    val_tot_line_hot,\n",
        "                                                    val_sentences,\n",
        "                                                    val_chars))\n",
        "\n",
        "val_char_token_pos_label= tf.data.Dataset.from_tensor_slices(val_label_hot)\n",
        "\n",
        "val_char_token_pos_dataset= tf.data.Dataset.zip((val_char_token_pos_data,val_char_token_pos_label))\n",
        "val_char_token_pos_dataset=val_char_token_pos_dataset.batch(32).prefetch(tf.data.AUTOTUNE)\n",
        "\n",
        "\n"
      ]
    },
    {
      "cell_type": "code",
      "execution_count": null,
      "metadata": {
        "colab": {
          "base_uri": "https://localhost:8080/"
        },
        "id": "BbRJ70GjMUD6",
        "outputId": "6aae68c1-e0df-488c-f80c-1151fa78c7d4"
      },
      "outputs": [
        {
          "data": {
            "text/plain": [
              "(<_PrefetchDataset element_spec=((TensorSpec(shape=(None, 15), dtype=tf.float32, name=None), TensorSpec(shape=(None, 20), dtype=tf.float32, name=None), TensorSpec(shape=(None,), dtype=tf.string, name=None), TensorSpec(shape=(None,), dtype=tf.string, name=None)), TensorSpec(shape=(None, 5), dtype=tf.float64, name=None))>,\n",
              " <_PrefetchDataset element_spec=((TensorSpec(shape=(None, 15), dtype=tf.float32, name=None), TensorSpec(shape=(None, 20), dtype=tf.float32, name=None), TensorSpec(shape=(None,), dtype=tf.string, name=None), TensorSpec(shape=(None,), dtype=tf.string, name=None)), TensorSpec(shape=(None, 5), dtype=tf.float64, name=None))>)"
            ]
          },
          "execution_count": 107,
          "metadata": {},
          "output_type": "execute_result"
        }
      ],
      "source": [
        "train_char_token_pos_dataset, val_char_token_pos_dataset"
      ]
    },
    {
      "cell_type": "code",
      "execution_count": null,
      "metadata": {
        "colab": {
          "base_uri": "https://localhost:8080/"
        },
        "id": "g68Le3mjMf1T",
        "outputId": "9b74dd62-d4ff-4255-cef7-1f2a9c5116fd"
      },
      "outputs": [
        {
          "name": "stdout",
          "output_type": "stream",
          "text": [
            "Epoch 1/3\n",
            "562/562 [==============================] - 247s 420ms/step - loss: 0.9634 - accuracy: 0.8370 - val_loss: 0.9485 - val_accuracy: 0.8331\n",
            "Epoch 2/3\n",
            "562/562 [==============================] - 230s 410ms/step - loss: 0.8649 - accuracy: 0.9012 - val_loss: 0.9376 - val_accuracy: 0.8414\n",
            "Epoch 3/3\n",
            "562/562 [==============================] - 225s 401ms/step - loss: 0.8474 - accuracy: 0.9123 - val_loss: 0.9507 - val_accuracy: 0.8182\n"
          ]
        }
      ],
      "source": [
        "history_5=model_5.fit(train_char_token_pos_dataset,\n",
        "                      steps_per_epoch=int(0.1*len(train_char_token_pos_dataset)),\n",
        "                                              epochs=3,\n",
        "                      validation_data=val_char_token_pos_dataset,\n",
        "                      validation_steps = int(0.1*len(val_char_token_pos_dataset))\n",
        "                                              )\n",
        "\n"
      ]
    },
    {
      "cell_type": "code",
      "execution_count": null,
      "metadata": {
        "colab": {
          "base_uri": "https://localhost:8080/"
        },
        "id": "NTcWymZ_NF4j",
        "outputId": "3dbb5a5d-f405-484e-f70c-d6cbfd921605"
      },
      "outputs": [
        {
          "name": "stdout",
          "output_type": "stream",
          "text": [
            "945/945 [==============================] - 57s 60ms/step - loss: 0.9433 - accuracy: 0.8244\n"
          ]
        },
        {
          "data": {
            "text/plain": [
              "[0.9433304667472839, 0.824440598487854]"
            ]
          },
          "execution_count": 114,
          "metadata": {},
          "output_type": "execute_result"
        }
      ],
      "source": [
        "model_5.evaluate(val_char_token_pos_dataset)"
      ]
    },
    {
      "cell_type": "code",
      "execution_count": null,
      "metadata": {
        "id": "268H41ryQZAS"
      },
      "outputs": [],
      "source": [
        "model_5.save('/content/drive/MyDrive/skimlit')"
      ]
    },
    {
      "cell_type": "code",
      "execution_count": null,
      "metadata": {
        "colab": {
          "base_uri": "https://localhost:8080/",
          "height": 190
        },
        "id": "UHPhrQF9R9dl",
        "outputId": "6b652c96-606b-4de4-c79f-c51736c79fa0"
      },
      "outputs": [
        {
          "ename": "NameError",
          "evalue": "name 'tf' is not defined",
          "output_type": "error",
          "traceback": [
            "\u001b[0;31m---------------------------------------------------------------------------\u001b[0m",
            "\u001b[0;31mNameError\u001b[0m                                 Traceback (most recent call last)",
            "\u001b[0;32m<ipython-input-1-33624d56986b>\u001b[0m in \u001b[0;36m<cell line: 1>\u001b[0;34m()\u001b[0m\n\u001b[0;32m----> 1\u001b[0;31m \u001b[0mloaded_model\u001b[0m\u001b[0;34m=\u001b[0m \u001b[0mtf\u001b[0m\u001b[0;34m.\u001b[0m\u001b[0mkeras\u001b[0m\u001b[0;34m.\u001b[0m\u001b[0mmodels\u001b[0m\u001b[0;34m.\u001b[0m\u001b[0mload_model\u001b[0m\u001b[0;34m(\u001b[0m\u001b[0;34m'/content/drive/MyDrive/skimlit'\u001b[0m\u001b[0;34m)\u001b[0m\u001b[0;34m\u001b[0m\u001b[0;34m\u001b[0m\u001b[0m\n\u001b[0m",
            "\u001b[0;31mNameError\u001b[0m: name 'tf' is not defined"
          ]
        }
      ],
      "source": [
        "loaded_model= tf.keras.models.load_model('/content/drive/MyDrive/skimlit')\n"
      ]
    },
    {
      "cell_type": "markdown",
      "metadata": {
        "id": "NaFaVZPXTVBE"
      },
      "source": [
        "import tensorflow as tf\n"
      ]
    },
    {
      "cell_type": "code",
      "execution_count": null,
      "metadata": {
        "colab": {
          "background_save": true,
          "base_uri": "https://localhost:8080/",
          "height": 350
        },
        "id": "LGsOOe5MPIJB",
        "outputId": "9b27749f-ed33-4b86-efc3-04ea7df4d127"
      },
      "outputs": [
        {
          "ename": "MessageError",
          "evalue": "Error: credential propagation was unsuccessful",
          "output_type": "error",
          "traceback": [
            "\u001b[0;31m---------------------------------------------------------------------------\u001b[0m",
            "\u001b[0;31mMessageError\u001b[0m                              Traceback (most recent call last)",
            "\u001b[0;32m<ipython-input-4-d5df0069828e>\u001b[0m in \u001b[0;36m<cell line: 2>\u001b[0;34m()\u001b[0m\n\u001b[1;32m      1\u001b[0m \u001b[0;32mfrom\u001b[0m \u001b[0mgoogle\u001b[0m\u001b[0;34m.\u001b[0m\u001b[0mcolab\u001b[0m \u001b[0;32mimport\u001b[0m \u001b[0mdrive\u001b[0m\u001b[0;34m\u001b[0m\u001b[0;34m\u001b[0m\u001b[0m\n\u001b[0;32m----> 2\u001b[0;31m \u001b[0mdrive\u001b[0m\u001b[0;34m.\u001b[0m\u001b[0mmount\u001b[0m\u001b[0;34m(\u001b[0m\u001b[0;34m'/content/drive'\u001b[0m\u001b[0;34m)\u001b[0m\u001b[0;34m\u001b[0m\u001b[0;34m\u001b[0m\u001b[0m\n\u001b[0m",
            "\u001b[0;32m/usr/local/lib/python3.10/dist-packages/google/colab/drive.py\u001b[0m in \u001b[0;36mmount\u001b[0;34m(mountpoint, force_remount, timeout_ms, readonly)\u001b[0m\n\u001b[1;32m     98\u001b[0m \u001b[0;32mdef\u001b[0m \u001b[0mmount\u001b[0m\u001b[0;34m(\u001b[0m\u001b[0mmountpoint\u001b[0m\u001b[0;34m,\u001b[0m \u001b[0mforce_remount\u001b[0m\u001b[0;34m=\u001b[0m\u001b[0;32mFalse\u001b[0m\u001b[0;34m,\u001b[0m \u001b[0mtimeout_ms\u001b[0m\u001b[0;34m=\u001b[0m\u001b[0;36m120000\u001b[0m\u001b[0;34m,\u001b[0m \u001b[0mreadonly\u001b[0m\u001b[0;34m=\u001b[0m\u001b[0;32mFalse\u001b[0m\u001b[0;34m)\u001b[0m\u001b[0;34m:\u001b[0m\u001b[0;34m\u001b[0m\u001b[0;34m\u001b[0m\u001b[0m\n\u001b[1;32m     99\u001b[0m   \u001b[0;34m\"\"\"Mount your Google Drive at the specified mountpoint path.\"\"\"\u001b[0m\u001b[0;34m\u001b[0m\u001b[0;34m\u001b[0m\u001b[0m\n\u001b[0;32m--> 100\u001b[0;31m   return _mount(\n\u001b[0m\u001b[1;32m    101\u001b[0m       \u001b[0mmountpoint\u001b[0m\u001b[0;34m,\u001b[0m\u001b[0;34m\u001b[0m\u001b[0;34m\u001b[0m\u001b[0m\n\u001b[1;32m    102\u001b[0m       \u001b[0mforce_remount\u001b[0m\u001b[0;34m=\u001b[0m\u001b[0mforce_remount\u001b[0m\u001b[0;34m,\u001b[0m\u001b[0;34m\u001b[0m\u001b[0;34m\u001b[0m\u001b[0m\n",
            "\u001b[0;32m/usr/local/lib/python3.10/dist-packages/google/colab/drive.py\u001b[0m in \u001b[0;36m_mount\u001b[0;34m(mountpoint, force_remount, timeout_ms, ephemeral, readonly)\u001b[0m\n\u001b[1;32m    131\u001b[0m   )\n\u001b[1;32m    132\u001b[0m   \u001b[0;32mif\u001b[0m \u001b[0mephemeral\u001b[0m\u001b[0;34m:\u001b[0m\u001b[0;34m\u001b[0m\u001b[0;34m\u001b[0m\u001b[0m\n\u001b[0;32m--> 133\u001b[0;31m     _message.blocking_request(\n\u001b[0m\u001b[1;32m    134\u001b[0m         \u001b[0;34m'request_auth'\u001b[0m\u001b[0;34m,\u001b[0m \u001b[0mrequest\u001b[0m\u001b[0;34m=\u001b[0m\u001b[0;34m{\u001b[0m\u001b[0;34m'authType'\u001b[0m\u001b[0;34m:\u001b[0m \u001b[0;34m'dfs_ephemeral'\u001b[0m\u001b[0;34m}\u001b[0m\u001b[0;34m,\u001b[0m \u001b[0mtimeout_sec\u001b[0m\u001b[0;34m=\u001b[0m\u001b[0;32mNone\u001b[0m\u001b[0;34m\u001b[0m\u001b[0;34m\u001b[0m\u001b[0m\n\u001b[1;32m    135\u001b[0m     )\n",
            "\u001b[0;32m/usr/local/lib/python3.10/dist-packages/google/colab/_message.py\u001b[0m in \u001b[0;36mblocking_request\u001b[0;34m(request_type, request, timeout_sec, parent)\u001b[0m\n\u001b[1;32m    174\u001b[0m       \u001b[0mrequest_type\u001b[0m\u001b[0;34m,\u001b[0m \u001b[0mrequest\u001b[0m\u001b[0;34m,\u001b[0m \u001b[0mparent\u001b[0m\u001b[0;34m=\u001b[0m\u001b[0mparent\u001b[0m\u001b[0;34m,\u001b[0m \u001b[0mexpect_reply\u001b[0m\u001b[0;34m=\u001b[0m\u001b[0;32mTrue\u001b[0m\u001b[0;34m\u001b[0m\u001b[0;34m\u001b[0m\u001b[0m\n\u001b[1;32m    175\u001b[0m   )\n\u001b[0;32m--> 176\u001b[0;31m   \u001b[0;32mreturn\u001b[0m \u001b[0mread_reply_from_input\u001b[0m\u001b[0;34m(\u001b[0m\u001b[0mrequest_id\u001b[0m\u001b[0;34m,\u001b[0m \u001b[0mtimeout_sec\u001b[0m\u001b[0;34m)\u001b[0m\u001b[0;34m\u001b[0m\u001b[0;34m\u001b[0m\u001b[0m\n\u001b[0m",
            "\u001b[0;32m/usr/local/lib/python3.10/dist-packages/google/colab/_message.py\u001b[0m in \u001b[0;36mread_reply_from_input\u001b[0;34m(message_id, timeout_sec)\u001b[0m\n\u001b[1;32m    101\u001b[0m     ):\n\u001b[1;32m    102\u001b[0m       \u001b[0;32mif\u001b[0m \u001b[0;34m'error'\u001b[0m \u001b[0;32min\u001b[0m \u001b[0mreply\u001b[0m\u001b[0;34m:\u001b[0m\u001b[0;34m\u001b[0m\u001b[0;34m\u001b[0m\u001b[0m\n\u001b[0;32m--> 103\u001b[0;31m         \u001b[0;32mraise\u001b[0m \u001b[0mMessageError\u001b[0m\u001b[0;34m(\u001b[0m\u001b[0mreply\u001b[0m\u001b[0;34m[\u001b[0m\u001b[0;34m'error'\u001b[0m\u001b[0;34m]\u001b[0m\u001b[0;34m)\u001b[0m\u001b[0;34m\u001b[0m\u001b[0;34m\u001b[0m\u001b[0m\n\u001b[0m\u001b[1;32m    104\u001b[0m       \u001b[0;32mreturn\u001b[0m \u001b[0mreply\u001b[0m\u001b[0;34m.\u001b[0m\u001b[0mget\u001b[0m\u001b[0;34m(\u001b[0m\u001b[0;34m'data'\u001b[0m\u001b[0;34m,\u001b[0m \u001b[0;32mNone\u001b[0m\u001b[0;34m)\u001b[0m\u001b[0;34m\u001b[0m\u001b[0;34m\u001b[0m\u001b[0m\n\u001b[1;32m    105\u001b[0m \u001b[0;34m\u001b[0m\u001b[0m\n",
            "\u001b[0;31mMessageError\u001b[0m: Error: credential propagation was unsuccessful"
          ]
        }
      ],
      "source": [
        "from google.colab import drive\n",
        "drive.mount('/content/drive')"
      ]
    },
    {
      "cell_type": "code",
      "execution_count": null,
      "metadata": {
        "colab": {
          "base_uri": "https://localhost:8080/"
        },
        "id": "Vaen7SI9QT09",
        "outputId": "522368b3-c208-4a38-8ce9-6ffa7f8dd34f"
      },
      "outputs": [
        {
          "name": "stdout",
          "output_type": "stream",
          "text": [
            "--2024-04-17 13:42:01--  https://raw.githubusercontent.com/mrdbourke/tensorflow-deep-learning/main/extras/skimlit_example_abstracts.json\n",
            "Resolving raw.githubusercontent.com (raw.githubusercontent.com)... 185.199.108.133, 185.199.109.133, 185.199.110.133, ...\n",
            "Connecting to raw.githubusercontent.com (raw.githubusercontent.com)|185.199.108.133|:443... connected.\n",
            "HTTP request sent, awaiting response... 200 OK\n",
            "Length: 6737 (6.6K) [text/plain]\n",
            "Saving to: ‘skimlit_example_abstracts.json.1’\n",
            "\n",
            "\r          skimlit_e   0%[                    ]       0  --.-KB/s               \rskimlit_example_abs 100%[===================>]   6.58K  --.-KB/s    in 0s      \n",
            "\n",
            "2024-04-17 13:42:01 (69.5 MB/s) - ‘skimlit_example_abstracts.json.1’ saved [6737/6737]\n",
            "\n"
          ]
        }
      ],
      "source": [
        "!wget https://raw.githubusercontent.com/mrdbourke/tensorflow-deep-learning/main/extras/skimlit_example_abstracts.json\n",
        "\n"
      ]
    },
    {
      "cell_type": "code",
      "execution_count": null,
      "metadata": {
        "colab": {
          "base_uri": "https://localhost:8080/"
        },
        "id": "_2dGTSbbQrJr",
        "outputId": "b6b420b3-0d7b-4fd5-969c-d35186285c22"
      },
      "outputs": [
        {
          "data": {
            "text/plain": [
              "[{'abstract': 'This RCT examined the efficacy of a manualized social intervention for children with HFASDs. Participants were randomly assigned to treatment or wait-list conditions. Treatment included instruction and therapeutic activities targeting social skills, face-emotion recognition, interest expansion, and interpretation of non-literal language. A response-cost program was applied to reduce problem behaviors and foster skills acquisition. Significant treatment effects were found for five of seven primary outcome measures (parent ratings and direct child measures). Secondary measures based on staff ratings (treatment group only) corroborated gains reported by parents. High levels of parent, child and staff satisfaction were reported, along with high levels of treatment fidelity. Standardized effect size estimates were primarily in the medium and large ranges and favored the treatment group.',\n",
              "  'source': 'https://pubmed.ncbi.nlm.nih.gov/20232240/',\n",
              "  'details': 'RCT of a manualized social treatment for high-functioning autism spectrum disorders'},\n",
              " {'abstract': \"Postpartum depression (PPD) is the most prevalent mood disorder associated with childbirth. No single cause of PPD has been identified, however the increased risk of nutritional deficiencies incurred through the high nutritional requirements of pregnancy may play a role in the pathology of depressive symptoms. Three nutritional interventions have drawn particular interest as possible non-invasive and cost-effective prevention and/or treatment strategies for PPD; omega-3 (n-3) long chain polyunsaturated fatty acids (LCPUFA), vitamin D and overall diet. We searched for meta-analyses of randomised controlled trials (RCT's) of nutritional interventions during the perinatal period with PPD as an outcome, and checked for any trials published subsequently to the meta-analyses. Fish oil: Eleven RCT's of prenatal fish oil supplementation RCT's show null and positive effects on PPD symptoms. Vitamin D: no relevant RCT's were identified, however seven observational studies of maternal vitamin D levels with PPD outcomes showed inconsistent associations. Diet: Two Australian RCT's with dietary advice interventions in pregnancy had a positive and null result on PPD. With the exception of fish oil, few RCT's with nutritional interventions during pregnancy assess PPD. Further research is needed to determine whether nutritional intervention strategies during pregnancy can protect against symptoms of PPD. Given the prevalence of PPD and ease of administering PPD measures, we recommend future prenatal nutritional RCT's include PPD as an outcome.\",\n",
              "  'source': 'https://pubmed.ncbi.nlm.nih.gov/28012571/',\n",
              "  'details': 'Formatting removed (can be used to compare model to actual example)'},\n",
              " {'abstract': 'Mental illness, including depression, anxiety and bipolar disorder, accounts for a significant proportion of global disability and poses a substantial social, economic and heath burden. Treatment is presently dominated by pharmacotherapy, such as antidepressants, and psychotherapy, such as cognitive behavioural therapy; however, such treatments avert less than half of the disease burden, suggesting that additional strategies are needed to prevent and treat mental disorders. There are now consistent mechanistic, observational and interventional data to suggest diet quality may be a modifiable risk factor for mental illness. This review provides an overview of the nutritional psychiatry field. It includes a discussion of the neurobiological mechanisms likely modulated by diet, the use of dietary and nutraceutical interventions in mental disorders, and recommendations for further research. Potential biological pathways related to mental disorders include inflammation, oxidative stress, the gut microbiome, epigenetic modifications and neuroplasticity. Consistent epidemiological evidence, particularly for depression, suggests an association between measures of diet quality and mental health, across multiple populations and age groups; these do not appear to be explained by other demographic, lifestyle factors or reverse causality. Our recently published intervention trial provides preliminary clinical evidence that dietary interventions in clinically diagnosed populations are feasible and can provide significant clinical benefit. Furthermore, nutraceuticals including n-3 fatty acids, folate, S-adenosylmethionine, N-acetyl cysteine and probiotics, among others, are promising avenues for future research. Continued research is now required to investigate the efficacy of intervention studies in large cohorts and within clinically relevant populations, particularly in patients with schizophrenia, bipolar and anxiety disorders.',\n",
              "  'source': 'https://pubmed.ncbi.nlm.nih.gov/28942748/',\n",
              "  'details': 'Effect of nutrition on mental health'},\n",
              " {'abstract': \"Hepatitis C virus (HCV) and alcoholic liver disease (ALD), either alone or in combination, count for more than two thirds of all liver diseases in the Western world. There is no safe level of drinking in HCV-infected patients and the most effective goal for these patients is total abstinence. Baclofen, a GABA(B) receptor agonist, represents a promising pharmacotherapy for alcohol dependence (AD). Previously, we performed a randomized clinical trial (RCT), which demonstrated the safety and efficacy of baclofen in patients affected by AD and cirrhosis. The goal of this post-hoc analysis was to explore baclofen's effect in a subgroup of alcohol-dependent HCV-infected cirrhotic patients. Any patient with HCV infection was selected for this analysis. Among the 84 subjects randomized in the main trial, 24 alcohol-dependent cirrhotic patients had a HCV infection; 12 received baclofen 10mg t.i.d. and 12 received placebo for 12-weeks. With respect to the placebo group (3/12, 25.0%), a significantly higher number of patients who achieved and maintained total alcohol abstinence was found in the baclofen group (10/12, 83.3%; p=0.0123). Furthermore, in the baclofen group, compared to placebo, there was a significantly higher increase in albumin values from baseline (p=0.0132) and a trend toward a significant reduction in INR levels from baseline (p=0.0716). In conclusion, baclofen was safe and significantly more effective than placebo in promoting alcohol abstinence, and improving some Liver Function Tests (LFTs) (i.e. albumin, INR) in alcohol-dependent HCV-infected cirrhotic patients. Baclofen may represent a clinically relevant alcohol pharmacotherapy for these patients.\",\n",
              "  'source': 'https://pubmed.ncbi.nlm.nih.gov/22244707/',\n",
              "  'details': 'Baclofen promotes alcohol abstinence in alcohol dependent cirrhotic patients with hepatitis C virus (HCV) infection'}]"
            ]
          },
          "execution_count": 23,
          "metadata": {},
          "output_type": "execute_result"
        }
      ],
      "source": [
        "\n",
        "import json\n",
        "with open('skimlit_example_abstracts.json' , 'r') as f:\n",
        "  example_abstracts = json.load(f)\n",
        "\n",
        "example_abstracts\n"
      ]
    },
    {
      "cell_type": "code",
      "execution_count": null,
      "metadata": {
        "id": "Y4aK0oLTIRDL"
      },
      "outputs": [],
      "source": []
    },
    {
      "cell_type": "code",
      "execution_count": null,
      "metadata": {
        "id": "7HBvRlDsQ_W0"
      },
      "outputs": [],
      "source": [
        "\n",
        "# Extract labels and encoder them into integers\n",
        "from sklearn.preprocessing import LabelEncoder\n",
        "\n",
        "label_encoder = LabelEncoder()\n"
      ]
    },
    {
      "cell_type": "code",
      "execution_count": null,
      "metadata": {
        "id": "9GZ-0XVqRmY2"
      },
      "outputs": [],
      "source": [
        "from tensorflow.keras.preprocessing.sequence import pad_sequences\n",
        "from sklearn.preprocessing import LabelEncoder\n",
        "import numpy as np\n",
        "import spacy\n",
        "nlp = spacy.load(\"en_core_web_sm\")"
      ]
    },
    {
      "cell_type": "code",
      "execution_count": null,
      "metadata": {
        "id": "2iamV29glaQh"
      },
      "outputs": [],
      "source": [
        "def split_chars(text):\n",
        "  return ' '.join(list(text))"
      ]
    },
    {
      "cell_type": "code",
      "execution_count": null,
      "metadata": {
        "id": "zVOVfVWdPK4r"
      },
      "outputs": [],
      "source": [
        "def visualize_pred_sequence_labels(abstract_dict , model , label_encoder):\n",
        "\n",
        "  '''\n",
        "\n",
        "    Takes in a list of dictionaries of abstracts,\n",
        "\n",
        "    [{'abstract': 'This RCT examined .......' ,\n",
        "      'details': 'RCT of a manuali......',\n",
        "      'source': 'https://pubmed.ncbi.nlm........./'},..........]\n",
        "\n",
        "    Arguments:\n",
        "    ----------\n",
        "      - abstract_dict : Abstract dictionary of the above format\n",
        "      - model : the trained model on the same data format (line_numbers,  total_lines , sentences , characters)\n",
        "      - label_encoder : the label encoder used to encode the classes\n",
        "\n",
        "    Returns:\n",
        "    --------\n",
        "      Prints out the predicted label and the corresponding sequence/ text\n",
        "  '''\n",
        "\n",
        "\n",
        "  from spacy.lang.en import English\n",
        "  nlp = English()\n",
        "\n",
        "  # Create sentence splitting pipeline object\n",
        "  #sentencizer = nlp.add_pipe('sentencizer')\n",
        "  nlp.add_pipe('sentencizer')\n",
        "\n",
        "  # Create doc of parsed sequences\n",
        "  doc = nlp(abstract_dict)\n",
        "\n",
        "  # Return detected sentences from doc in string typpe\n",
        "  abstract_lines = [str(sent) for sent in list(doc.sents)]\n",
        "\n",
        "  # Get total number of lines\n",
        "  total_lines_in_sample = len(abstract_lines)\n",
        "\n",
        "  # Loop through each line in the abstract and create a list of dictionaries containing features\n",
        "  sample_lines = []\n",
        "  for i , line in enumerate(abstract_lines):\n",
        "    sample_dict = {}\n",
        "    sample_dict['text'] = str(line)\n",
        "    sample_dict['line_number'] = i\n",
        "    sample_dict['total_lines'] = total_lines_in_sample - 1\n",
        "    sample_lines.append(sample_dict)\n",
        "\n",
        "\n",
        "  # Get all line number and total lines numbers then one hot encode them\n",
        "  abstract_line_numbers = [line['line_number'] for line in sample_lines]\n",
        "  abstract_total_lines = [line['total_lines'] for line in sample_lines]\n",
        "\n",
        "  abstract_line_numbers_one_hot = tf.one_hot(abstract_line_numbers , depth = 15)\n",
        "  abstract_total_lines_one_hot = tf.one_hot(abstract_total_lines , depth = 20)\n",
        "\n",
        "\n",
        "  # Split the lines into characters\n",
        "  abstract_chars = [split_chars(sentence) for sentence in abstract_lines]\n",
        "\n",
        "  # Making prediction on sample features\n",
        "  abstract_pred_probs = model.predict(x = (abstract_line_numbers_one_hot,\n",
        "                                           abstract_total_lines_one_hot ,\n",
        "                                           tf.constant(abstract_lines) ,\n",
        "                                           tf.constant(abstract_chars)))\n",
        "\n",
        "  # Turn prediction probs to pred class\n",
        "  abstract_preds = tf.argmax(abstract_pred_probs , axis = 1)\n",
        "\n",
        "\n",
        "  classes = ['BACKGROUND', 'CONCLUSIONS', 'METHODS', 'OBJECTIVE', 'RESULTS']\n",
        "\n",
        "  # Prediction class integers into string class name\n",
        "  abstract_pred_classes = [classes[i] for i in abstract_preds]\n",
        "\n",
        "  # Prints out the abstract lines and the predicted sequence labels\n",
        "  for i , line in enumerate(abstract_lines):\n",
        "    print(f'{abstract_pred_classes[i]}:  {line}\\n')\n",
        "\n",
        "\n"
      ]
    },
    {
      "cell_type": "code",
      "execution_count": null,
      "metadata": {
        "id": "ffJjHVClJB3w"
      },
      "outputs": [],
      "source": [
        "text_ = \"Double-lumen tubes (DLT) and bronchial blockers (BB) are the most commonly used airway tools in thoracic surgery1. They allow isolation of the operative lung from the non-operative lung, which prevents contamination of the non-operative lung by pollutants, such as blood and sputum2. However, in thoracoscopic lobectomy, these two options only protect the non-operative lung from contamination and do not protect the non-operative lobe(s) of the operative lung. Recent case reports have explored the protection of non-operative lobe(s) of the operative lung using solutions such as a DLT + BB or the double-bronchial blocker (DBB) technique3,4,5. These plans are feasible and can provide lung protection for nonsurgical lung lobes. However, given the small sample sizes of these previous reports, the feasibility and efficacy of using DLT + BB or DBB techniques in thoracoscopic lobectomy still need to be determined. Compared with using DLT, using BB showed more infiltrate especially at the surgery side based on the chest X-ray6. Therefore, we hypothesised that a DBB used with continuous positive airway pressure (CPAP) technology might protect the non-operative lobe(s) of the operative lung during thoracoscopic lobectomy.\\nThis randomised controlled trial aimed to compare the effects of DBB with CPAP technology and those of routine BB on the non-operative lobe(s) of the operative lung and the incidence of postoperative pneumonia in both the operative and non-operative lung after thoracoscopic lobectomy. \""
      ]
    },
    {
      "cell_type": "code",
      "execution_count": null,
      "metadata": {
        "colab": {
          "base_uri": "https://localhost:8080/"
        },
        "id": "Px0a6eatQFp9",
        "outputId": "4c4c5ae6-d611-4ef0-95ae-5da227ffe038"
      },
      "outputs": [
        {
          "name": "stdout",
          "output_type": "stream",
          "text": [
            "1/1 [==============================] - 6s 6s/step\n",
            "OBJECTIVE:  Double-lumen tubes (DLT) and bronchial blockers (BB) are the most commonly used airway tools in thoracic surgery1.\n",
            "\n",
            "OBJECTIVE:  They allow isolation of the operative lung from the non-operative lung, which prevents contamination of the non-operative lung by pollutants, such as blood and sputum2.\n",
            "\n",
            "BACKGROUND:  However, in thoracoscopic lobectomy, these two options only protect the non-operative lung from contamination and do not protect the non-operative lobe(s) of the operative lung.\n",
            "\n",
            "BACKGROUND:  Recent case reports have explored the protection of non-operative lobe(s) of the operative lung using solutions such as a DLT + BB or the double-bronchial blocker (DBB) technique3,4,5.\n",
            "\n",
            "CONCLUSIONS:  These plans are feasible and can provide lung protection for nonsurgical lung lobes.\n",
            "\n",
            "CONCLUSIONS:  However, given the small sample sizes of these previous reports, the feasibility and efficacy of using DLT + BB or DBB techniques in thoracoscopic lobectomy still need to be determined.\n",
            "\n",
            "RESULTS:  Compared with using DLT, using BB showed more infiltrate especially at the surgery side based on the chest X-ray6.\n",
            "\n",
            "CONCLUSIONS:  Therefore, we hypothesised that a DBB used with continuous positive airway pressure (CPAP) technology might protect the non-operative lobe(s) of the operative lung during thoracoscopic lobectomy.\n",
            "\n",
            "CONCLUSIONS:  \n",
            "This randomised controlled trial aimed to compare the effects of DBB with CPAP technology and those of routine BB on the non-operative lobe(s) of the operative lung and the incidence of postoperative pneumonia in both the operative and non-operative lung after thoracoscopic lobectomy.\n",
            "\n"
          ]
        }
      ],
      "source": [
        "visualize_pred_sequence_labels(text_, loaded_model , label_encoder)\n"
      ]
    },
    {
      "cell_type": "code",
      "execution_count": null,
      "metadata": {
        "id": "oqHgEsg0kdqQ"
      },
      "outputs": [],
      "source": []
    }
  ],
  "metadata": {
    "accelerator": "GPU",
    "colab": {
      "gpuType": "T4",
      "provenance": [],
      "mount_file_id": "1wCVsmO7e4YXD95OBkJ5wd3jFn3G5gwd9",
      "authorship_tag": "ABX9TyPLYx/kWHGAP6snBiYnumLF",
      "include_colab_link": true
    },
    "kernelspec": {
      "display_name": "Python 3",
      "name": "python3"
    },
    "language_info": {
      "name": "python"
    }
  },
  "nbformat": 4,
  "nbformat_minor": 0
}