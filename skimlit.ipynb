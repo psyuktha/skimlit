{
  "nbformat": 4,
  "nbformat_minor": 0,
  "metadata": {
    "colab": {
      "provenance": [],
      "authorship_tag": "ABX9TyMiKMy3clymLlKmpiO96fjj",
      "include_colab_link": true
    },
    "kernelspec": {
      "name": "python3",
      "display_name": "Python 3"
    },
    "language_info": {
      "name": "python"
    }
  },
  "cells": [
    {
      "cell_type": "markdown",
      "metadata": {
        "id": "view-in-github",
        "colab_type": "text"
      },
      "source": [
        "<a href=\"https://colab.research.google.com/github/psyuktha/skimlit/blob/main/skimlit.ipynb\" target=\"_parent\"><img src=\"https://colab.research.google.com/assets/colab-badge.svg\" alt=\"Open In Colab\"/></a>"
      ]
    },
    {
      "cell_type": "code",
      "execution_count": 14,
      "metadata": {
        "id": "eupuYSfz1tHq"
      },
      "outputs": [],
      "source": [
        "import tensorflow as tf\n",
        "import numpy as np\n",
        "from tensorflow.keras import layers\n"
      ]
    },
    {
      "cell_type": "code",
      "source": [
        "!git clone https://github.com/Franck-Dernoncourt/pubmed-rct.git\n",
        "!ls pubmed-rct\n"
      ],
      "metadata": {
        "colab": {
          "base_uri": "https://localhost:8080/"
        },
        "id": "iSUc8wJ84q6j",
        "outputId": "0184e44c-a584-40a3-efa0-5d0345745140"
      },
      "execution_count": 15,
      "outputs": [
        {
          "output_type": "stream",
          "name": "stdout",
          "text": [
            "fatal: destination path 'pubmed-rct' already exists and is not an empty directory.\n",
            "PubMed_200k_RCT\t\t\t\t       PubMed_20k_RCT_numbers_replaced_with_at_sign\n",
            "PubMed_200k_RCT_numbers_replaced_with_at_sign  README.md\n",
            "PubMed_20k_RCT\n"
          ]
        }
      ]
    },
    {
      "cell_type": "code",
      "source": [
        "data_dir='content/pubmed-rct/PubMed_20k_RCT_numbers_replaced_with_at_sign/'"
      ],
      "metadata": {
        "id": "mKmaxPMS42wP"
      },
      "execution_count": 16,
      "outputs": []
    },
    {
      "cell_type": "code",
      "source": [
        "def get_lines(filename):\n",
        "  with open(filename, 'r') as f:\n",
        "    return f.readlines()\n"
      ],
      "metadata": {
        "id": "zMm1VjkQ467t"
      },
      "execution_count": 17,
      "outputs": []
    },
    {
      "cell_type": "code",
      "source": [
        "train=get_lines('/content/pubmed-rct/PubMed_20k_RCT_numbers_replaced_with_at_sign/train.txt')"
      ],
      "metadata": {
        "id": "CDRJ_SNB4_95"
      },
      "execution_count": 18,
      "outputs": []
    },
    {
      "cell_type": "code",
      "source": [
        "#preprocess the data as dictionary with labels and features\n",
        "def preprocess(filename):\n",
        "  input=get_lines(filename)\n",
        "  abstract=''\n",
        "  abstract_samples=[]\n",
        "  for i in input:\n",
        "    if i.startswith(\"###\"):\n",
        "      astract_id=i\n",
        "      abstract=''\n",
        "    elif i.isspace():\n",
        "      abstract_line_split=abstract.splitlines()\n",
        "      for line_no,line in enumerate(abstract_line_split):\n",
        "        line_data={}\n",
        "        target=line.split(\"\\t\")\n",
        "        line_data['target']=target[0]\n",
        "        line_data['text']=target[1]\n",
        "        line_data['line_no']=line_no\n",
        "        line_data[\"total_lines\"]=len(abstract_line_split)-1\n",
        "        abstract_samples.append(line_data)\n",
        "    else:\n",
        "      abstract+=i\n",
        "\n",
        "  return abstract_samples\n",
        "\n",
        "\n",
        "\n"
      ],
      "metadata": {
        "id": "5p5UZPnF5CeG"
      },
      "execution_count": 19,
      "outputs": []
    },
    {
      "cell_type": "code",
      "source": [
        "train_samples=preprocess('/content/pubmed-rct/PubMed_20k_RCT_numbers_replaced_with_at_sign/train.txt')"
      ],
      "metadata": {
        "id": "H5cChg3G5E1j"
      },
      "execution_count": 20,
      "outputs": []
    },
    {
      "cell_type": "code",
      "source": [
        "test_samples=preprocess('/content/pubmed-rct/PubMed_20k_RCT_numbers_replaced_with_at_sign/test.txt')"
      ],
      "metadata": {
        "id": "lwHP10CD5Hiq"
      },
      "execution_count": 21,
      "outputs": []
    },
    {
      "cell_type": "code",
      "source": [
        "import pandas as pd\n",
        "train_df=pd.DataFrame(train_samples)\n",
        "test_df=pd.DataFrame(test_samples)\n"
      ],
      "metadata": {
        "id": "j0AWVecG5JaX"
      },
      "execution_count": 22,
      "outputs": []
    },
    {
      "cell_type": "code",
      "source": [
        "train_sentences=train_df['text'].tolist()\n",
        "test_sentences=test_df['text'].tolist()\n"
      ],
      "metadata": {
        "id": "2e-wXSWr5LzB"
      },
      "execution_count": 23,
      "outputs": []
    },
    {
      "cell_type": "code",
      "source": [
        "from tensorflow.keras.layers.experimental.preprocessing import TextVectorization"
      ],
      "metadata": {
        "id": "EgoLiL4P5N0h"
      },
      "execution_count": 24,
      "outputs": []
    },
    {
      "cell_type": "code",
      "source": [
        "#finding the output sequence length for the vectorisation layer\n",
        "import matplotlib.pyplot as plt\n",
        "s=[len(sentence.split()) for sentence in train_sentences]\n",
        "plt.hist(s,bins=20)\n",
        "op_len = int(np.percentile(s,95))\n",
        "op_len"
      ],
      "metadata": {
        "colab": {
          "base_uri": "https://localhost:8080/",
          "height": 447
        },
        "id": "CV0sRw_g5P5D",
        "outputId": "1ee984bc-c216-4888-c0ad-7e9b4c679d75"
      },
      "execution_count": 25,
      "outputs": [
        {
          "output_type": "execute_result",
          "data": {
            "text/plain": [
              "55"
            ]
          },
          "metadata": {},
          "execution_count": 25
        },
        {
          "output_type": "display_data",
          "data": {
            "text/plain": [
              "<Figure size 640x480 with 1 Axes>"
            ],
            "image/png": "[encoded data removed]"
          },
          "metadata": {}
        }
      ]
    },
    {
      "cell_type": "code",
      "source": [
        "text_vectorizer = TextVectorization( max_tokens = 68000, output_sequence_length=op_len)"
      ],
      "metadata": {
        "id": "UDl4NQbh5SPU"
      },
      "execution_count": 26,
      "outputs": []
    },
    {
      "cell_type": "code",
      "source": [
        "text_vectorizer.adapt(train_sentences)"
      ],
      "metadata": {
        "id": "Ad7kqbJO5YiG"
      },
      "execution_count": 27,
      "outputs": []
    },
    {
      "cell_type": "code",
      "source": [
        "vocab_20 = text_vectorizer.get_vocabulary()\n",
        "print(f\"no of words {len(vocab_20)}\")\n",
        "print(f\"common words {vocab_20[:5]}\")\n",
        "print(f\"least common words {vocab_20[-5:]}\")\n"
      ],
      "metadata": {
        "colab": {
          "base_uri": "https://localhost:8080/"
        },
        "id": "P-oR8vyK5bdJ",
        "outputId": "457cbb5e-cf52-4d40-d270-43907e772f42"
      },
      "execution_count": 33,
      "outputs": [
        {
          "output_type": "stream",
          "name": "stdout",
          "text": [
            "no of words 64841\n",
            "common words ['', '[UNK]', 'the', 'and', 'of']\n",
            "least common words ['aainduced', 'aaigroup', 'aachener', 'aachen', 'aaacp']\n"
          ]
        }
      ]
    },
    {
      "cell_type": "code",
      "source": [
        "token_embed = layers.Embedding(input_dim=len(vocab_20),\n",
        "                                             output_dim=128,\n",
        "                                             mask_zero= True,\n",
        "                                             name='token_embedding')"
      ],
      "metadata": {
        "id": "54bVFlLA5jEc"
      },
      "execution_count": 34,
      "outputs": []
    },
    {
      "cell_type": "code",
      "source": [
        "#creating labels\n",
        "from sklearn.preprocessing import OneHotEncoder, LabelEncoder\n",
        "one_hot=OneHotEncoder(sparse=False)\n",
        "train_label_hot=one_hot.fit_transform(tf.expand_dims(train_df['target'],axis=-1))\n",
        "test_label_hot=one_hot.fit_transform(tf.expand_dims(test_df['target'],axis=-1))\n"
      ],
      "metadata": {
        "colab": {
          "base_uri": "https://localhost:8080/"
        },
        "id": "v5rvbQja5mCq",
        "outputId": "4717a567-fb8d-4bf7-c7fb-72945f6c2b09"
      },
      "execution_count": 35,
      "outputs": [
        {
          "output_type": "stream",
          "name": "stderr",
          "text": [
            "/usr/local/lib/python3.10/dist-packages/sklearn/preprocessing/_encoders.py:868: FutureWarning: `sparse` was renamed to `sparse_output` in version 1.2 and will be removed in 1.4. `sparse_output` is ignored unless you leave `sparse` to its default value.\n",
            "  warnings.warn(\n",
            "/usr/local/lib/python3.10/dist-packages/sklearn/preprocessing/_encoders.py:868: FutureWarning: `sparse` was renamed to `sparse_output` in version 1.2 and will be removed in 1.4. `sparse_output` is ignored unless you leave `sparse` to its default value.\n",
            "  warnings.warn(\n"
          ]
        }
      ]
    },
    {
      "cell_type": "code",
      "source": [
        "#creating datasets\n",
        "train_dataset = tf.data.Dataset.from_tensor_slices((train_sentences,train_label_hot))\n",
        "test_dataset = tf.data.Dataset.from_tensor_slices((test_sentences,test_label_hot))\n",
        "train_dataset = train_dataset.batch(32).prefetch(tf.data.AUTOTUNE)\n",
        "test_dataset = test_dataset.batch(32).prefetch(tf.data.AUTOTUNE)\n"
      ],
      "metadata": {
        "id": "VTBw8aiE5o9I"
      },
      "execution_count": 36,
      "outputs": []
    },
    {
      "cell_type": "code",
      "source": [
        "num_classes=len(['BACKGROUND', 'CONCLUSIONS', 'METHODS', 'OBJECTIVE', 'RESULTS'])"
      ],
      "metadata": {
        "id": "Ag88_s7h6scS"
      },
      "execution_count": 38,
      "outputs": []
    },
    {
      "cell_type": "code",
      "source": [
        "inputs=layers.Input(shape=(1,), dtype=tf.string)\n",
        "text_vectors = text_vectorizer(inputs)\n",
        "token_embeddings = token_embed(text_vectors)\n",
        "x= layers.Conv1D(64, kernel_size = 5, padding='same', activation='relu')(token_embeddings)\n",
        "x=layers.Flatten()(x)\n",
        "#x= layers.GlobalAveragePooling1D()(x)\n",
        "outputs = layers.Dense(num_classes, activation='softmax')(x)\n",
        "model_1= tf.keras.Model(inputs,outputs)"
      ],
      "metadata": {
        "id": "9TLwYN5N5_bt"
      },
      "execution_count": 39,
      "outputs": []
    },
    {
      "cell_type": "code",
      "source": [
        "model_1.compile(loss='categorical_crossentropy',\n",
        "metrics=[\"accuracy\"],\n",
        "                optimizer=tf.keras.optimizers.Adam()\n",
        "                )"
      ],
      "metadata": {
        "id": "pSticxGc6CX7"
      },
      "execution_count": 40,
      "outputs": []
    },
    {
      "cell_type": "code",
      "source": [
        "history_1=model_1.fit(train_dataset,\n",
        "                      steps_per_epoch=int(0.1*len(train_dataset)),\n",
        "                                              epochs=3,\n",
        "                      validation_data=test_dataset,\n",
        "                      validation_steps = int(0.1*len(test_dataset))\n",
        "                                              )"
      ],
      "metadata": {
        "colab": {
          "base_uri": "https://localhost:8080/"
        },
        "id": "Vd0pn5m06Mxv",
        "outputId": "1bf7bd86-d9c9-46ed-a3f2-551093efd936"
      },
      "execution_count": 42,
      "outputs": [
        {
          "output_type": "stream",
          "name": "stdout",
          "text": [
            "Epoch 1/3\n",
            "562/562 [==============================] - 76s 133ms/step - loss: 0.8187 - accuracy: 0.6752 - val_loss: 0.5991 - val_accuracy: 0.7783\n",
            "Epoch 2/3\n",
            "562/562 [==============================] - 75s 134ms/step - loss: 0.5891 - accuracy: 0.7823 - val_loss: 0.5876 - val_accuracy: 0.7773\n",
            "Epoch 3/3\n",
            "562/562 [==============================] - 82s 146ms/step - loss: 0.5555 - accuracy: 0.7960 - val_loss: 0.5421 - val_accuracy: 0.7952\n"
          ]
        }
      ]
    },
    {
      "cell_type": "code",
      "source": [
        "model_1.evaluate(test_dataset)"
      ],
      "metadata": {
        "colab": {
          "base_uri": "https://localhost:8080/"
        },
        "id": "9lgYabVZ64Gq",
        "outputId": "6fa4e2f5-ae7b-48b6-e5d8-ca2ffd980069"
      },
      "execution_count": 44,
      "outputs": [
        {
          "output_type": "stream",
          "name": "stdout",
          "text": [
            "942/942 [==============================] - 7s 8ms/step - loss: 0.5486 - accuracy: 0.7969\n"
          ]
        },
        {
          "output_type": "execute_result",
          "data": {
            "text/plain": [
              "[0.548602819442749, 0.7968807220458984]"
            ]
          },
          "metadata": {},
          "execution_count": 44
        }
      ]
    },
    {
      "cell_type": "code",
      "source": [
        "model_1.save(\"skimlit\")"
      ],
      "metadata": {
        "id": "-pLcdroU7Aro"
      },
      "execution_count": 48,
      "outputs": []
    },
    {
      "cell_type": "code",
      "source": [
        "from tensorflow.keras.preprocessing.sequence import pad_sequences\n",
        "from sklearn.preprocessing import LabelEncoder\n",
        "import numpy as np\n",
        "import spacy\n",
        "nlp = spacy.load(\"en_core_web_sm\")"
      ],
      "metadata": {
        "id": "RHSmvxB07MQF"
      },
      "execution_count": 49,
      "outputs": []
    },
    {
      "cell_type": "code",
      "source": [
        "def split_chars(text):\n",
        "  return ' '.join(list(text))"
      ],
      "metadata": {
        "id": "9dSh7sr37QeN"
      },
      "execution_count": 50,
      "outputs": []
    },
    {
      "cell_type": "code",
      "source": [
        "def visualize_pred_sequence_labels(abstract_dict , model , label_encoder):\n",
        "\n",
        "  # Setup english sentence parser\n",
        "  #nlp = English()\n",
        "\n",
        "  # Construction from subclass\n",
        "  from spacy.lang.en import English\n",
        "  nlp = English()\n",
        "\n",
        "  # Create sentence splitting pipeline object\n",
        "  #sentencizer = nlp.add_pipe('sentencizer')\n",
        "  nlp.add_pipe('sentencizer')\n",
        "\n",
        "  # Create doc of parsed sequences\n",
        "  doc = nlp(abstract_dict)\n",
        "\n",
        "  # Return detected sentences from doc in string typpe\n",
        "  abstract_lines = [str(sent) for sent in list(doc.sents)]\n",
        "\n",
        "  # Get total number of lines\n",
        "  total_lines_in_sample = len(abstract_lines)\n",
        "\n",
        "  # Loop through each line in the abstract and create a list of dictionaries containing features\n",
        "  # sample_lines = []\n",
        "  # for i , line in enumerate(abstract_lines):\n",
        "  #   sample_dict = {}\n",
        "  #   sample_dict['text'] = str(line)\n",
        "  #   sample_dict['line_number'] = i\n",
        "  #   sample_dict['total_lines'] = total_lines_in_sample - 1\n",
        "  #   sample_lines.append(sample_dict)\n",
        "\n",
        "\n",
        "  # Get all line number and total lines numbers then one hot encode them\n",
        "  # abstract_line_numbers = [line['line_number'] for line in sample_lines]\n",
        "  # abstract_total_lines = [line['total_lines'] for line in sample_lines]\n",
        "\n",
        "  # abstract_line_numbers_one_hot = tf.one_hot(abstract_line_numbers , depth = 15)\n",
        "  # abstract_total_lines_one_hot = tf.one_hot(abstract_total_lines , depth = 20)\n",
        "\n",
        "\n",
        "  # # Split the lines into characters\n",
        "  # abstract_chars = [split_chars(sentence) for sentence in abstract_lines]\n",
        "\n",
        "  # Making prediction on sample features\n",
        "  abstract_pred_probs = model.predict(x = (\n",
        "                                           tf.constant(abstract_lines)\n",
        "                                   ))\n",
        "\n",
        "  # Turn prediction probs to pred class\n",
        "  abstract_preds = tf.argmax(abstract_pred_probs , axis = 1)\n",
        "\n",
        "\n",
        "  classes = ['BACKGROUND', 'CONCLUSIONS', 'METHODS', 'OBJECTIVE', 'RESULTS']\n",
        "\n",
        "  # Prediction class integers into string class name\n",
        "  abstract_pred_classes = [classes[i] for i in abstract_preds]\n",
        "\n",
        "  # Prints out the abstract lines and the predicted sequence labels\n",
        "  for i , line in enumerate(abstract_lines):\n",
        "    print(f'{abstract_pred_classes[i]}:  {line}\\n')\n",
        "\n",
        "\n"
      ],
      "metadata": {
        "id": "rWaR5fth7Uvb"
      },
      "execution_count": 58,
      "outputs": []
    },
    {
      "cell_type": "code",
      "source": [
        "label_encoder = LabelEncoder()\n",
        "train_label_encoded=label_encoder.fit_transform(train_df[\"target\"].to_numpy())\n",
        "test_label_encoded=label_encoder.fit_transform(test_df[\"target\"].to_numpy())"
      ],
      "metadata": {
        "id": "H0c0-xCg7eIV"
      },
      "execution_count": 56,
      "outputs": []
    },
    {
      "cell_type": "code",
      "source": [
        "text_ = \"Double-lumen tubes (DLT) and bronchial blockers (BB) are the most commonly used airway tools in thoracic surgery1. They allow isolation of the operative lung from the non-operative lung, which prevents contamination of the non-operative lung by pollutants, such as blood and sputum2. However, in thoracoscopic lobectomy, these two options only protect the non-operative lung from contamination and do not protect the non-operative lobe(s) of the operative lung. Recent case reports have explored the protection of non-operative lobe(s) of the operative lung using solutions such as a DLT + BB or the double-bronchial blocker (DBB) technique3,4,5. These plans are feasible and can provide lung protection for nonsurgical lung lobes. However, given the small sample sizes of these previous reports, the feasibility and efficacy of using DLT + BB or DBB techniques in thoracoscopic lobectomy still need to be determined. Compared with using DLT, using BB showed more infiltrate especially at the surgery side based on the chest X-ray6. Therefore, we hypothesised that a DBB used with continuous positive airway pressure (CPAP) technology might protect the non-operative lobe(s) of the operative lung during thoracoscopic lobectomy.\\nThis randomised controlled trial aimed to compare the effects of DBB with CPAP technology and those of routine BB on the non-operative lobe(s) of the operative lung and the incidence of postoperative pneumonia in both the operative and non-operative lung after thoracoscopic lobectomy. \""
      ],
      "metadata": {
        "id": "6A-0SV8l8jYq"
      },
      "execution_count": 53,
      "outputs": []
    },
    {
      "cell_type": "code",
      "source": [
        "visualize_pred_sequence_labels(text_, model_1 , label_encoder)"
      ],
      "metadata": {
        "colab": {
          "base_uri": "https://localhost:8080/"
        },
        "id": "UFCDTift7WkK",
        "outputId": "391940c6-cd41-4335-c5f4-c5eb5cfc0425"
      },
      "execution_count": 59,
      "outputs": [
        {
          "output_type": "stream",
          "name": "stdout",
          "text": [
            "1/1 [==============================] - 0s 186ms/step\n",
            "BACKGROUND:  Double-lumen tubes (DLT) and bronchial blockers (BB) are the most commonly used airway tools in thoracic surgery1.\n",
            "\n",
            "BACKGROUND:  They allow isolation of the operative lung from the non-operative lung, which prevents contamination of the non-operative lung by pollutants, such as blood and sputum2.\n",
            "\n",
            "CONCLUSIONS:  However, in thoracoscopic lobectomy, these two options only protect the non-operative lung from contamination and do not protect the non-operative lobe(s) of the operative lung.\n",
            "\n",
            "BACKGROUND:  Recent case reports have explored the protection of non-operative lobe(s) of the operative lung using solutions such as a DLT + BB or the double-bronchial blocker (DBB) technique3,4,5.\n",
            "\n",
            "CONCLUSIONS:  These plans are feasible and can provide lung protection for nonsurgical lung lobes.\n",
            "\n",
            "BACKGROUND:  However, given the small sample sizes of these previous reports, the feasibility and efficacy of using DLT + BB or DBB techniques in thoracoscopic lobectomy still need to be determined.\n",
            "\n",
            "CONCLUSIONS:  Compared with using DLT, using BB showed more infiltrate especially at the surgery side based on the chest X-ray6.\n",
            "\n",
            "BACKGROUND:  Therefore, we hypothesised that a DBB used with continuous positive airway pressure (CPAP) technology might protect the non-operative lobe(s) of the operative lung during thoracoscopic lobectomy.\n",
            "\n",
            "BACKGROUND:  \n",
            "This randomised controlled trial aimed to compare the effects of DBB with CPAP technology and those of routine BB on the non-operative lobe(s) of the operative lung and the incidence of postoperative pneumonia in both the operative and non-operative lung after thoracoscopic lobectomy.\n",
            "\n"
          ]
        }
      ]
    },
    {
      "cell_type": "code",
      "source": [],
      "metadata": {
        "id": "w6SHVrkL9APt"
      },
      "execution_count": null,
      "outputs": []
    }
  ]
}