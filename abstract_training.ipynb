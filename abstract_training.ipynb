{
  "nbformat": 4,
  "nbformat_minor": 0,
  "metadata": {
    "colab": {
      "provenance": [],
      "authorship_tag": "ABX9TyO7yxwb3rK9z01/tx3iIUwV",
      "include_colab_link": true
    },
    "kernelspec": {
      "name": "python3",
      "display_name": "Python 3"
    },
    "language_info": {
      "name": "python"
    }
  },
  "cells": [
    {
      "cell_type": "markdown",
      "metadata": {
        "id": "view-in-github",
        "colab_type": "text"
      },
      "source": [
        "<a href=\"https://colab.research.google.com/github/psyuktha/skimlit/blob/main/abstract_training.ipynb\" target=\"_parent\"><img src=\"https://colab.research.google.com/assets/colab-badge.svg\" alt=\"Open In Colab\"/></a>"
      ]
    },
    {
      "cell_type": "code",
      "source": [
        "import tensorflow as tf\n",
        "import numpy as np\n",
        "from tensorflow.keras import layers\n"
      ],
      "metadata": {
        "id": "WfyrUTH2n8ld"
      },
      "execution_count": null,
      "outputs": []
    },
    {
      "cell_type": "code",
      "execution_count": null,
      "metadata": {
        "colab": {
          "base_uri": "https://localhost:8080/"
        },
        "id": "igvGu8Isezn4",
        "outputId": "654e9ab5-cf32-4596-8d44-8a9eacbd33e4"
      },
      "outputs": [
        {
          "output_type": "stream",
          "name": "stdout",
          "text": [
            "Cloning into 'pubmed-rct'...\n",
            "remote: Enumerating objects: 39, done.\u001b[K\n",
            "remote: Counting objects: 100% (14/14), done.\u001b[K\n",
            "remote: Compressing objects: 100% (9/9), done.\u001b[K\n",
            "remote: Total 39 (delta 8), reused 5 (delta 5), pack-reused 25\u001b[K\n",
            "Receiving objects: 100% (39/39), 177.08 MiB | 27.07 MiB/s, done.\n",
            "Resolving deltas: 100% (15/15), done.\n",
            "Updating files: 100% (13/13), done.\n",
            "PubMed_200k_RCT\t\t\t\t       PubMed_20k_RCT_numbers_replaced_with_at_sign\n",
            "PubMed_200k_RCT_numbers_replaced_with_at_sign  README.md\n",
            "PubMed_20k_RCT\n"
          ]
        }
      ],
      "source": [
        "!git clone https://github.com/Franck-Dernoncourt/pubmed-rct.git\n",
        "!ls pubmed-rct"
      ]
    },
    {
      "cell_type": "code",
      "source": [
        "data_dir='content/pubmed-rct/PubMed_20k_RCT_numbers_replaced_with_at_sign/'"
      ],
      "metadata": {
        "id": "flLTEmr1fAhr"
      },
      "execution_count": null,
      "outputs": []
    },
    {
      "cell_type": "code",
      "source": [
        "# prompt: function to read lines of a document\n",
        "\n",
        "def get_lines(filename):\n",
        "  with open(filename, 'r') as f:\n",
        "    return f.readlines()\n"
      ],
      "metadata": {
        "id": "WvcS42KIfGfh"
      },
      "execution_count": null,
      "outputs": []
    },
    {
      "cell_type": "code",
      "source": [
        "train=get_lines('/content/pubmed-rct/PubMed_20k_RCT_numbers_replaced_with_at_sign/train.txt')"
      ],
      "metadata": {
        "id": "XwYq6h3pfD29"
      },
      "execution_count": null,
      "outputs": []
    },
    {
      "cell_type": "code",
      "source": [
        "#preprocess the data as dictionary with labels and features\n",
        "def preprocess(filename):\n",
        "  input=get_lines(filename)\n",
        "  abstract=''\n",
        "  abstract_samples=[]\n",
        "  for i in input:\n",
        "    if i.startswith(\"###\"):\n",
        "      astract_id=i\n",
        "      abstract=''\n",
        "    elif i.isspace():\n",
        "      abstract_line_split=abstract.splitlines()\n",
        "      for line_no,line in enumerate(abstract_line_split):\n",
        "        line_data={}\n",
        "        target=line.split(\"\\t\")\n",
        "        line_data['target']=target[0]\n",
        "        line_data['text']=target[1]\n",
        "        line_data['line_no']=line_no\n",
        "        line_data[\"total_lines\"]=len(abstract_line_split)-1\n",
        "        abstract_samples.append(line_data)\n",
        "    else:\n",
        "      abstract+=i\n",
        "\n",
        "  return abstract_samples\n",
        "\n",
        "\n",
        "\n"
      ],
      "metadata": {
        "id": "1pANlfRPfNNQ"
      },
      "execution_count": null,
      "outputs": []
    },
    {
      "cell_type": "code",
      "source": [
        "train_samples=preprocess('/content/pubmed-rct/PubMed_20k_RCT_numbers_replaced_with_at_sign/train.txt')"
      ],
      "metadata": {
        "id": "SIxpz2CRfTd7"
      },
      "execution_count": null,
      "outputs": []
    },
    {
      "cell_type": "code",
      "source": [
        "test_samples=preprocess('/content/pubmed-rct/PubMed_20k_RCT_numbers_replaced_with_at_sign/test.txt')"
      ],
      "metadata": {
        "id": "U6F62uz3fViy"
      },
      "execution_count": null,
      "outputs": []
    },
    {
      "cell_type": "code",
      "source": [
        "import pandas as pd\n",
        "train_df=pd.DataFrame(train_samples)\n",
        "test_df=pd.DataFrame(test_samples)\n"
      ],
      "metadata": {
        "id": "xqL1y7lMfYxK"
      },
      "execution_count": null,
      "outputs": []
    },
    {
      "cell_type": "code",
      "source": [
        "train_sentences=train_df['text'].tolist()\n",
        "test_sentences=test_df['text'].tolist()\n"
      ],
      "metadata": {
        "id": "Hi91g9Ibfc8W"
      },
      "execution_count": null,
      "outputs": []
    },
    {
      "cell_type": "code",
      "source": [
        "from tensorflow.keras.layers.experimental.preprocessing import TextVectorization"
      ],
      "metadata": {
        "id": "mWO3SowgoFtP"
      },
      "execution_count": null,
      "outputs": []
    },
    {
      "cell_type": "code",
      "source": [
        "#finding the output sequence length for the vectorisation layer\n",
        "import matplotlib.pyplot as plt\n",
        "s=[len(sentence.split()) for sentence in train_sentences]\n",
        "plt.hist(s,bins=20)\n",
        "op_len = int(np.percentile(s,95))\n",
        "op_len"
      ],
      "metadata": {
        "id": "K0xWh2ysoaAG",
        "outputId": "f2acff5d-252a-452d-dbdd-93f85f125059",
        "colab": {
          "base_uri": "https://localhost:8080/",
          "height": 447
        }
      },
      "execution_count": null,
      "outputs": [
        {
          "output_type": "execute_result",
          "data": {
            "text/plain": [
              "55"
            ]
          },
          "metadata": {},
          "execution_count": 20
        },
        {
          "output_type": "display_data",
          "data": {
            "text/plain": [
              "<Figure size 640x480 with 1 Axes>"
            ],
            "image/png": "[encoded data removed]"
          },
          "metadata": {}
        }
      ]
    },
    {
      "cell_type": "code",
      "source": [
        "text_vectorizer = TextVectorization( max_tokens = 68000, output_sequence_length=op_len)"
      ],
      "metadata": {
        "id": "_QiDNRCjoYBb"
      },
      "execution_count": null,
      "outputs": []
    },
    {
      "cell_type": "code",
      "source": [
        "text_vectorizer.adapt(train_sentences)"
      ],
      "metadata": {
        "id": "WVvsubd2ol1V"
      },
      "execution_count": null,
      "outputs": []
    },
    {
      "cell_type": "code",
      "source": [
        "vocab_20 = text_vectorizer.get_vocabulary()\n",
        "print(f\"no of words {len(vocab_20)}\")\n",
        "print(f\"common words {vocab_20[:5]}\")\n",
        "print(f\"least common words {vocab_20[-5:]}\")\n"
      ],
      "metadata": {
        "id": "miJt2lnUpLwQ",
        "outputId": "142f2308-fe68-4cb7-d355-4d7116c48c0f",
        "colab": {
          "base_uri": "https://localhost:8080/"
        }
      },
      "execution_count": null,
      "outputs": [
        {
          "output_type": "stream",
          "name": "stdout",
          "text": [
            "no of words 64841\n",
            "common words ['', '[UNK]', 'the', 'and', 'of']\n",
            "least common words ['aainduced', 'aaigroup', 'aachener', 'aachen', 'aaacp']\n"
          ]
        }
      ]
    },
    {
      "cell_type": "code",
      "source": [
        "token_embed = layers.Embedding(input_dim=len(vocab_20),\n",
        "                                             output_dim=128,\n",
        "                                             mask_zero= True,\n",
        "                                             name='token_embedding')"
      ],
      "metadata": {
        "id": "k6pD8uQqo5lQ"
      },
      "execution_count": null,
      "outputs": []
    },
    {
      "cell_type": "code",
      "source": [
        "#creating labels\n",
        "from sklearn.preprocessing import OneHotEncoder, LabelEncoder\n",
        "one_hot=OneHotEncoder(sparse=False)\n",
        "train_label_hot=one_hot.fit_transform(tf.expand_dims(train_df['target'],axis=-1))\n",
        "test_label_hot=one_hot.fit_transform(tf.expand_dims(test_df['target'],axis=-1))\n",
        "\n"
      ],
      "metadata": {
        "id": "6bingpCIpQtf",
        "outputId": "8af6b719-827e-49f8-b9bb-7763a8f832ae",
        "colab": {
          "base_uri": "https://localhost:8080/"
        }
      },
      "execution_count": null,
      "outputs": [
        {
          "output_type": "stream",
          "name": "stderr",
          "text": [
            "/usr/local/lib/python3.10/dist-packages/sklearn/preprocessing/_encoders.py:868: FutureWarning: `sparse` was renamed to `sparse_output` in version 1.2 and will be removed in 1.4. `sparse_output` is ignored unless you leave `sparse` to its default value.\n",
            "  warnings.warn(\n",
            "/usr/local/lib/python3.10/dist-packages/sklearn/preprocessing/_encoders.py:868: FutureWarning: `sparse` was renamed to `sparse_output` in version 1.2 and will be removed in 1.4. `sparse_output` is ignored unless you leave `sparse` to its default value.\n",
            "  warnings.warn(\n"
          ]
        }
      ]
    },
    {
      "cell_type": "code",
      "source": [
        "#creating datasets\n",
        "train_dataset = tf.data.Dataset.from_tensor_slices((train_sentences,train_label_hot))\n",
        "test_dataset = tf.data.Dataset.from_tensor_slices((test_sentences,test_label_hot))\n",
        "train_dataset = train_dataset.batch(32).prefetch(tf.data.AUTOTUNE)\n",
        "test_dataset = test_dataset.batch(32).prefetch(tf.data.AUTOTUNE)\n"
      ],
      "metadata": {
        "id": "t9tyunF1o9cr"
      },
      "execution_count": null,
      "outputs": []
    },
    {
      "cell_type": "code",
      "source": [
        "def split_chars(text):\n",
        "  return ' '.join(list(text))"
      ],
      "metadata": {
        "id": "1CLoopb8pcG1"
      },
      "execution_count": null,
      "outputs": []
    },
    {
      "cell_type": "code",
      "source": [
        "train_chars=[split_chars(i) for i in train_sentences]\n",
        "test_chars=[split_chars(i) for i in test_sentences]\n",
        "\n"
      ],
      "metadata": {
        "id": "VwLSyewIqBIc"
      },
      "execution_count": null,
      "outputs": []
    },
    {
      "cell_type": "code",
      "source": [
        "#character level tokenisation\n",
        "char_lens = [len(i) for i in train_sentences]\n",
        "plt.hist(char_lens,bins=25)\n",
        "perc_len=int(np.percentile(char_lens,95))\n",
        "perc_len"
      ],
      "metadata": {
        "id": "os0QFumXqEmx",
        "outputId": "ccee9af4-d283-4cb8-f230-b6f11e8cd65c",
        "colab": {
          "base_uri": "https://localhost:8080/",
          "height": 447
        }
      },
      "execution_count": null,
      "outputs": [
        {
          "output_type": "execute_result",
          "data": {
            "text/plain": [
              "290"
            ]
          },
          "metadata": {},
          "execution_count": 32
        },
        {
          "output_type": "display_data",
          "data": {
            "text/plain": [
              "<Figure size 640x480 with 1 Axes>"
            ],
            "image/png": "[encoded data removed]"
          },
          "metadata": {}
        }
      ]
    },
    {
      "cell_type": "code",
      "source": [
        "#get all keyboard characters\n",
        "import string\n",
        "alpha = string.ascii_lowercase + string.digits +string.punctuation"
      ],
      "metadata": {
        "id": "ciu9QFycqJr_"
      },
      "execution_count": null,
      "outputs": []
    },
    {
      "cell_type": "code",
      "source": [
        "#create char level tokenisation\n",
        "num_char_tokens= len(alpha)+2 #space and oov(out of vocab,[UNK])\n",
        "char_vectorizer=TextVectorization(max_tokens=num_char_tokens,\n",
        "                                  output_sequence_length=perc_len,\n",
        "                                  name='char_vectorizer')\n",
        "#set standardization to None if to include ounctuation marks"
      ],
      "metadata": {
        "id": "ktc2PHvBqNkW"
      },
      "execution_count": null,
      "outputs": []
    },
    {
      "cell_type": "code",
      "source": [
        "char_vectorizer.adapt(train_chars)"
      ],
      "metadata": {
        "id": "Nh-_JXJ_qPtB"
      },
      "execution_count": null,
      "outputs": []
    },
    {
      "cell_type": "code",
      "source": [
        "char_vocab = char_vectorizer.get_vocabulary()\n",
        "len(char_vocab)"
      ],
      "metadata": {
        "id": "u2B_7aXxqR15",
        "outputId": "dc31e48d-6fff-4046-e97e-392a8ab31635",
        "colab": {
          "base_uri": "https://localhost:8080/"
        }
      },
      "execution_count": null,
      "outputs": [
        {
          "output_type": "execute_result",
          "data": {
            "text/plain": [
              "28"
            ]
          },
          "metadata": {},
          "execution_count": 36
        }
      ]
    },
    {
      "cell_type": "code",
      "source": [
        "char_embed = layers.Embedding(input_dim=len(char_vocab),\n",
        "                                             output_dim=25,\n",
        "                                             mask_zero= True,\n",
        "                                             name='char_embedding')"
      ],
      "metadata": {
        "id": "RRVAI958qTxY"
      },
      "execution_count": null,
      "outputs": []
    },
    {
      "cell_type": "code",
      "source": [
        "train_char_dataset=tf.data.Dataset.from_tensor_slices((train_chars,train_label_hot)).batch(32).prefetch(tf.data.AUTOTUNE)\n",
        "test_char_dataset=tf.data.Dataset.from_tensor_slices((test_chars,test_label_hot)).batch(32).prefetch(tf.data.AUTOTUNE)"
      ],
      "metadata": {
        "id": "NBFHc-VrqWmH"
      },
      "execution_count": null,
      "outputs": []
    },
    {
      "cell_type": "code",
      "source": [
        "# multi modal model with words vectorisation and character vectorisation\n",
        "token_inputs = layers.Input(shape=(1,),dtype=tf.string, name='token_input')\n",
        "token_vectors=text_vectorizer(token_inputs)\n",
        "token_embeddings=token_embed(token_vectors)\n",
        "token_output=layers.Dense(128,activation='relu')(token_embeddings)\n",
        "token_output=layers.Flatten()(token_output)\n",
        "token_model=tf.keras.Model(inputs=token_inputs,\n",
        "                           outputs=token_output)\n",
        "\n",
        "char_inputs = layers.Input(shape=(1,),dtype=tf.string, name='char_input')\n",
        "char_vectors=char_vectorizer(char_inputs)\n",
        "char_embeddings=char_embed(char_vectors)\n",
        "char_bi_lstm=layers.Bidirectional(layers.LSTM(25))(char_embeddings)\n",
        "char_model=tf.keras.Model(inputs=char_inputs,\n",
        "                           outputs=char_bi_lstm)\n",
        "\n",
        "token_char_concat=tf.keras.layers.Concatenate(name='token_char_hybrid')([token_model.output,\n",
        "                                                       char_model.output])\n",
        "\n",
        "combined_dropout = layers.Dropout(0.5)(token_char_concat)\n",
        "combined_dense = layers.Dense(128,activation='relu')(combined_dropout)\n",
        "final_dropout=layers.Dropout(0.5)(combined_dense)\n",
        "output_layer=layers.Dense(5,activation=\"softmax\")(final_dropout)\n",
        "\n",
        "model=tf.keras.Model(inputs=[token_model.input, char_model.input],\n",
        "                       outputs=output_layer,\n",
        "                       name='hybrid_model')\n",
        "\n",
        "\n"
      ],
      "metadata": {
        "id": "F7r1jWGmqa3b"
      },
      "execution_count": null,
      "outputs": []
    },
    {
      "cell_type": "code",
      "source": [
        "model.compile(loss='categorical_crossentropy',\n",
        "metrics=[\"accuracy\"],\n",
        "                optimizer=tf.keras.optimizers.Adam()\n",
        "               )\n"
      ],
      "metadata": {
        "id": "K6D9wvpHqjNo"
      },
      "execution_count": null,
      "outputs": []
    },
    {
      "cell_type": "code",
      "source": [
        "model.summary()"
      ],
      "metadata": {
        "id": "PYLMbjmeqsaR",
        "outputId": "c1dca168-66b0-47ec-8d7a-4b7712b83946",
        "colab": {
          "base_uri": "https://localhost:8080/"
        }
      },
      "execution_count": null,
      "outputs": [
        {
          "output_type": "stream",
          "name": "stdout",
          "text": [
            "Model: \"hybrid_model\"\n",
            "__________________________________________________________________________________________________\n",
            " Layer (type)                Output Shape                 Param #   Connected to                  \n",
            "==================================================================================================\n",
            " token_input (InputLayer)    [(None, 1)]                  0         []                            \n",
            "                                                                                                  \n",
            " text_vectorization (TextVe  (None, 55)                   0         ['token_input[0][0]']         \n",
            " ctorization)                                                                                     \n",
            "                                                                                                  \n",
            " char_input (InputLayer)     [(None, 1)]                  0         []                            \n",
            "                                                                                                  \n",
            " token_embedding (Embedding  (None, 55, 128)              8299648   ['text_vectorization[2][0]']  \n",
            " )                                                                                                \n",
            "                                                                                                  \n",
            " char_vectorizer (TextVecto  (None, 290)                  0         ['char_input[0][0]']          \n",
            " rization)                                                                                        \n",
            "                                                                                                  \n",
            " dense_5 (Dense)             (None, 55, 128)              16512     ['token_embedding[2][0]']     \n",
            "                                                                                                  \n",
            " char_embedding (Embedding)  (None, 290, 25)              700       ['char_vectorizer[2][0]']     \n",
            "                                                                                                  \n",
            " flatten_2 (Flatten)         (None, 7040)                 0         ['dense_5[0][0]']             \n",
            "                                                                                                  \n",
            " bidirectional_2 (Bidirecti  (None, 50)                   10200     ['char_embedding[2][0]']      \n",
            " onal)                                                                                            \n",
            "                                                                                                  \n",
            " token_char_hybrid (Concate  (None, 7090)                 0         ['flatten_2[0][0]',           \n",
            " nate)                                                               'bidirectional_2[0][0]']     \n",
            "                                                                                                  \n",
            " dropout_4 (Dropout)         (None, 7090)                 0         ['token_char_hybrid[0][0]']   \n",
            "                                                                                                  \n",
            " dense_6 (Dense)             (None, 128)                  907648    ['dropout_4[0][0]']           \n",
            "                                                                                                  \n",
            " dropout_5 (Dropout)         (None, 128)                  0         ['dense_6[0][0]']             \n",
            "                                                                                                  \n",
            " dense_7 (Dense)             (None, 5)                    645       ['dropout_5[0][0]']           \n",
            "                                                                                                  \n",
            "==================================================================================================\n",
            "Total params: 9235353 (35.23 MB)\n",
            "Trainable params: 9235353 (35.23 MB)\n",
            "Non-trainable params: 0 (0.00 Byte)\n",
            "__________________________________________________________________________________________________\n"
          ]
        }
      ]
    },
    {
      "cell_type": "code",
      "source": [
        "#combine chars and tokens into a dataset\n",
        "train_char_token_data=tf.data.Dataset.from_tensor_slices((train_sentences,train_chars))#make data\n",
        "train_char_token_label=tf.data.Dataset.from_tensor_slices(train_label_hot)#make labels\n",
        "train_char_token_dataset=tf.data.Dataset.zip((train_char_token_data,train_char_token_label))\n",
        "\n",
        "train_char_token_dataset=train_char_token_dataset.batch(32).prefetch(tf.data.AUTOTUNE)\n",
        "\n",
        "test_char_token_data=tf.data.Dataset.from_tensor_slices((test_sentences,test_chars))#make data\n",
        "test_char_token_label=tf.data.Dataset.from_tensor_slices(test_label_hot)#make labels\n",
        "test_char_token_dataset=tf.data.Dataset.zip((test_char_token_data,test_char_token_label))\n",
        "\n",
        "test_char_token_dataset=test_char_token_dataset.batch(32).prefetch(tf.data.AUTOTUNE)\n",
        "\n",
        "train_char_token_dataset,test_char_token_dataset\n"
      ],
      "metadata": {
        "id": "iaDTdbC1q0Wv",
        "outputId": "bafaac07-9c79-4e5f-9ef4-a7f88045e695",
        "colab": {
          "base_uri": "https://localhost:8080/"
        }
      },
      "execution_count": null,
      "outputs": [
        {
          "output_type": "execute_result",
          "data": {
            "text/plain": [
              "(<_PrefetchDataset element_spec=((TensorSpec(shape=(None,), dtype=tf.string, name=None), TensorSpec(shape=(None,), dtype=tf.string, name=None)), TensorSpec(shape=(None, 5), dtype=tf.float64, name=None))>,\n",
              " <_PrefetchDataset element_spec=((TensorSpec(shape=(None,), dtype=tf.string, name=None), TensorSpec(shape=(None,), dtype=tf.string, name=None)), TensorSpec(shape=(None, 5), dtype=tf.float64, name=None))>)"
            ]
          },
          "metadata": {},
          "execution_count": 46
        }
      ]
    },
    {
      "cell_type": "code",
      "source": [
        "history=model.fit(train_char_token_dataset,\n",
        "                      steps_per_epoch=int(0.1*len(train_char_token_dataset)),\n",
        "                                              epochs=3,\n",
        "                      validation_data=test_char_token_dataset,\n",
        "                      validation_steps = int(0.1*len(test_char_token_dataset))\n",
        "                                              )\n"
      ],
      "metadata": {
        "id": "JP-vpAkprTvt",
        "outputId": "4129022e-e96c-4b9f-a86e-57d48af57b46",
        "colab": {
          "base_uri": "https://localhost:8080/"
        }
      },
      "execution_count": null,
      "outputs": [
        {
          "output_type": "stream",
          "name": "stdout",
          "text": [
            "Epoch 1/3\n",
            "562/562 [==============================] - 353s 605ms/step - loss: 0.9282 - accuracy: 0.6257 - val_loss: 0.6267 - val_accuracy: 0.7573\n",
            "Epoch 2/3\n",
            "562/562 [==============================] - 294s 523ms/step - loss: 0.6715 - accuracy: 0.7506 - val_loss: 0.5989 - val_accuracy: 0.7683\n",
            "Epoch 3/3\n",
            "562/562 [==============================] - 299s 532ms/step - loss: 0.6425 - accuracy: 0.7649 - val_loss: 0.5655 - val_accuracy: 0.7786\n"
          ]
        }
      ]
    },
    {
      "cell_type": "code",
      "source": [
        "model.evaluate(test_char_token_dataset)"
      ],
      "metadata": {
        "id": "ETmpgCf8rehA",
        "outputId": "9dadbc33-99cf-47d6-d1e9-d2e6e472e52e",
        "colab": {
          "base_uri": "https://localhost:8080/"
        }
      },
      "execution_count": null,
      "outputs": [
        {
          "output_type": "stream",
          "name": "stdout",
          "text": [
            "942/942 [==============================] - 68s 72ms/step - loss: 0.5783 - accuracy: 0.7863\n"
          ]
        },
        {
          "output_type": "execute_result",
          "data": {
            "text/plain": [
              "[0.5782727003097534, 0.786261796951294]"
            ]
          },
          "metadata": {},
          "execution_count": 49
        }
      ]
    },
    {
      "cell_type": "code",
      "source": [],
      "metadata": {
        "id": "megcoS_JvTKH"
      },
      "execution_count": null,
      "outputs": []
    }
  ]
}